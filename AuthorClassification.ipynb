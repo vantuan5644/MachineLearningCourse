{
  "nbformat": 4,
  "nbformat_minor": 0,
  "metadata": {
    "colab": {
      "name": "AuthorClassification",
      "provenance": [],
      "collapsed_sections": [
        "OR5iddVz8YTf"
      ],
      "include_colab_link": true
    },
    "kernelspec": {
      "name": "python3",
      "display_name": "Python 3"
    },
    "accelerator": "GPU"
  },
  "cells": [
    {
      "cell_type": "markdown",
      "metadata": {
        "id": "view-in-github",
        "colab_type": "text"
      },
      "source": [
        "<a href=\"https://colab.research.google.com/github/vantuan5644/MachineLearningCourse/blob/master/AuthorClassification.ipynb\" target=\"_parent\"><img src=\"https://colab.research.google.com/assets/colab-badge.svg\" alt=\"Open In Colab\"/></a>"
      ]
    },
    {
      "cell_type": "markdown",
      "metadata": {
        "id": "t6sGtYcISsqT",
        "colab_type": "text"
      },
      "source": [
        "# Project Gutenberg - Author Classification \n",
        "\n",
        "- **Objective**: Use NLP and supervised learning and unsupervised learning techniques to classify text-authors\n",
        "\n",
        "- **Data description**: [Project Gutenberg](https://www.gutenberg.org/)\n",
        "  - Data is crawled using alternative-API (raw text)\n",
        "  - 1000 random authors\n",
        "  - In English language\n",
        "\n",
        "- **Outline**\n",
        "  - Text cleaning with SpaCy\n",
        "  - Convert text to numerical vector using tf-idf and Bag-of-words\n",
        "  - Word2vec using Gensim\n",
        "  - Using ML classification methods (Naive Bayes, Decision Tree, Random Forest)\n",
        "  - Using RNN (LSTM)\n",
        "  - Using LSA, LDA and NMFA for **topic modeling**\n",
        "  - Analysis and conclusions"
      ]
    },
    {
      "cell_type": "markdown",
      "metadata": {
        "id": "s8rlaovFgxev",
        "colab_type": "text"
      },
      "source": [
        "## NLTK Gutenberg Corpus"
      ]
    },
    {
      "cell_type": "code",
      "metadata": {
        "id": "j-mEotMcFnan",
        "colab_type": "code",
        "outputId": "781803f2-0ec8-4099-a98c-f201043861ce",
        "colab": {
          "base_uri": "https://localhost:8080/",
          "height": 96
        }
      },
      "source": [
        "import keras \n",
        "import tensorflow\n",
        "import nltk\n",
        "import spacy\n",
        "import pandas as pd\n",
        "import numpy as np\n",
        "import matplotlib.pyplot as plt"
      ],
      "execution_count": 1,
      "outputs": [
        {
          "output_type": "stream",
          "text": [
            "Using TensorFlow backend.\n"
          ],
          "name": "stderr"
        },
        {
          "output_type": "display_data",
          "data": {
            "text/html": [
              "<p style=\"color: red;\">\n",
              "The default version of TensorFlow in Colab will soon switch to TensorFlow 2.x.<br>\n",
              "We recommend you <a href=\"https://www.tensorflow.org/guide/migrate\" target=\"_blank\">upgrade</a> now \n",
              "or ensure your notebook will continue to use TensorFlow 1.x via the <code>%tensorflow_version 1.x</code> magic:\n",
              "<a href=\"https://colab.research.google.com/notebooks/tensorflow_version.ipynb\" target=\"_blank\">more info</a>.</p>\n"
            ],
            "text/plain": [
              "<IPython.core.display.HTML object>"
            ]
          },
          "metadata": {
            "tags": []
          }
        }
      ]
    },
    {
      "cell_type": "code",
      "metadata": {
        "id": "BzScI9bHNt00",
        "colab_type": "code",
        "outputId": "e337dfce-8d83-4756-8ed7-c1b19ee89b23",
        "colab": {
          "base_uri": "https://localhost:8080/",
          "height": 68
        }
      },
      "source": [
        "nltk.download('gutenberg')"
      ],
      "execution_count": 0,
      "outputs": [
        {
          "output_type": "stream",
          "text": [
            "[nltk_data] Downloading package gutenberg to /root/nltk_data...\n",
            "[nltk_data]   Unzipping corpora/gutenberg.zip.\n"
          ],
          "name": "stdout"
        },
        {
          "output_type": "execute_result",
          "data": {
            "text/plain": [
              "True"
            ]
          },
          "metadata": {
            "tags": []
          },
          "execution_count": 3
        }
      ]
    },
    {
      "cell_type": "code",
      "metadata": {
        "id": "o6tu5QCRYZM0",
        "colab_type": "code",
        "colab": {}
      },
      "source": [
        "from nltk.corpus import gutenberg"
      ],
      "execution_count": 0,
      "outputs": []
    },
    {
      "cell_type": "code",
      "metadata": {
        "id": "rnEXhtbLY8BN",
        "colab_type": "code",
        "outputId": "2aad472a-ae51-4376-bacd-482be01a09cf",
        "colab": {
          "base_uri": "https://localhost:8080/",
          "height": 34
        }
      },
      "source": [
        "len(gutenberg.fileids())"
      ],
      "execution_count": 0,
      "outputs": [
        {
          "output_type": "execute_result",
          "data": {
            "text/plain": [
              "18"
            ]
          },
          "metadata": {
            "tags": []
          },
          "execution_count": 4
        }
      ]
    },
    {
      "cell_type": "code",
      "metadata": {
        "id": "tz5Gox2cuB06",
        "colab_type": "code",
        "outputId": "35c71b91-8961-4e9f-bf60-e5f365740c11",
        "colab": {
          "base_uri": "https://localhost:8080/",
          "height": 323
        }
      },
      "source": [
        "gutenberg.fileids()"
      ],
      "execution_count": 0,
      "outputs": [
        {
          "output_type": "execute_result",
          "data": {
            "text/plain": [
              "['austen-emma.txt',\n",
              " 'austen-persuasion.txt',\n",
              " 'austen-sense.txt',\n",
              " 'bible-kjv.txt',\n",
              " 'blake-poems.txt',\n",
              " 'bryant-stories.txt',\n",
              " 'burgess-busterbrown.txt',\n",
              " 'carroll-alice.txt',\n",
              " 'chesterton-ball.txt',\n",
              " 'chesterton-brown.txt',\n",
              " 'chesterton-thursday.txt',\n",
              " 'edgeworth-parents.txt',\n",
              " 'melville-moby_dick.txt',\n",
              " 'milton-paradise.txt',\n",
              " 'shakespeare-caesar.txt',\n",
              " 'shakespeare-hamlet.txt',\n",
              " 'shakespeare-macbeth.txt',\n",
              " 'whitman-leaves.txt']"
            ]
          },
          "metadata": {
            "tags": []
          },
          "execution_count": 5
        }
      ]
    },
    {
      "cell_type": "markdown",
      "metadata": {
        "id": "to5bt1XD_J3X",
        "colab_type": "text"
      },
      "source": [
        "# Main features of SpaCy:\n",
        "1. Tokenization: Segmenting text into words, punctuations marks\n",
        "2. Part-of-speech Tagging: Assign word types (verb, noun)\n",
        "3. Dependency Parsing: Assign syntactic dependency labels (subject or object)\n",
        "4. Sentence Boundary Detection: Segmenting individual sentences\n",
        "5. Named Entity Recognition: Labelling named \"real-world\" objects (persons, companies, locations)\n",
        "6. Entity Linking: Disambiguating textual entities to unique identifiers in a Knowledge Base\n",
        "7. Similarity: Comparing words, text spans, documents\n",
        "8. Text Classification: Assigning categories or labels to a whole document\n",
        "9. Rule-based Matching: Finding sequences of tokens based on their texts and linguistic annotations\n",
        "10. Training: Updating and improving a statistical model's prediction\n",
        "11. Serialization: Saving objects to files or byte strings"
      ]
    },
    {
      "cell_type": "markdown",
      "metadata": {
        "id": "-qPkCGFjCPYi",
        "colab_type": "text"
      },
      "source": [
        "## Some terms in NLP\n",
        "1. Text: The base form of the word\n",
        "2. POS: The simple part-of-speech tag\n",
        "3. Tag: The detailed part-of-speech tag\n",
        "4. Dep: Syntactic dependency (the relation between tokens)\n",
        "5. Shape: The word shape -  capitalization, punctuation, digits\n",
        "6. is alpha: Is the token an alpha character?\n",
        "7. is stop: is the token part of a stop list"
      ]
    },
    {
      "cell_type": "code",
      "metadata": {
        "id": "lk7oauPK1wgZ",
        "colab_type": "code",
        "colab": {}
      },
      "source": [
        "# Load default model\n",
        "import spacy\n",
        "nlp = spacy.load(\"en_core_web_sm\")"
      ],
      "execution_count": 0,
      "outputs": []
    },
    {
      "cell_type": "code",
      "metadata": {
        "id": "Uguk2Vn0BW3O",
        "colab_type": "code",
        "outputId": "4563ae35-311d-424f-a838-59a89df1e4c9",
        "colab": {
          "base_uri": "https://localhost:8080/",
          "height": 204
        }
      },
      "source": [
        "doc = nlp(\"Apple is looking at buying U.K. startup for $1 billion\")\n",
        "for token in doc:\n",
        "    print(token.text, token.lemma_, token.pos_, token.tag_, token.dep_,\n",
        "            token.shape_, token.is_alpha, token.is_stop)"
      ],
      "execution_count": 0,
      "outputs": [
        {
          "output_type": "stream",
          "text": [
            "Apple Apple PROPN NNP nsubj Xxxxx True False\n",
            "is be VERB VBZ aux xx True True\n",
            "looking look VERB VBG ROOT xxxx True False\n",
            "at at ADP IN prep xx True True\n",
            "buying buy VERB VBG pcomp xxxx True False\n",
            "U.K. U.K. PROPN NNP compound X.X. False False\n",
            "startup startup NOUN NN dobj xxxx True False\n",
            "for for ADP IN prep xxx True True\n",
            "$ $ SYM $ quantmod $ False False\n",
            "1 1 NUM CD compound d False False\n",
            "billion billion NUM CD pobj xxxx True False\n"
          ],
          "name": "stdout"
        }
      ]
    },
    {
      "cell_type": "markdown",
      "metadata": {
        "id": "Qim525GLFav-",
        "colab_type": "text"
      },
      "source": [
        "![Vocab, hashes and lexemes](https://spacy.io/vocab_stringstore-1d1c9ccd7a1cf4d168bfe4ca791e6eed.svg)"
      ]
    },
    {
      "cell_type": "code",
      "metadata": {
        "id": "hpzeZrRkDFoF",
        "colab_type": "code",
        "outputId": "50720ab5-8ac8-4f72-db5b-03c38d3baca0",
        "colab": {
          "base_uri": "https://localhost:8080/",
          "height": 34
        }
      },
      "source": [
        "spacy.explain(\"NNP\")"
      ],
      "execution_count": 0,
      "outputs": [
        {
          "output_type": "execute_result",
          "data": {
            "text/plain": [
              "'noun, proper singular'"
            ]
          },
          "metadata": {
            "tags": []
          },
          "execution_count": 12
        }
      ]
    },
    {
      "cell_type": "code",
      "metadata": {
        "id": "PBhK_wN2DgMf",
        "colab_type": "code",
        "outputId": "491aba57-2f2e-4bc7-87e2-eb751082402e",
        "colab": {
          "base_uri": "https://localhost:8080/",
          "height": 34
        }
      },
      "source": [
        "spacy.explain(\"VBZ\")"
      ],
      "execution_count": 0,
      "outputs": [
        {
          "output_type": "execute_result",
          "data": {
            "text/plain": [
              "'verb, 3rd person singular present'"
            ]
          },
          "metadata": {
            "tags": []
          },
          "execution_count": 13
        }
      ]
    },
    {
      "cell_type": "markdown",
      "metadata": {
        "id": "qeVs1JwFDnxm",
        "colab_type": "text"
      },
      "source": [
        "#### Visualizing the dependency parse"
      ]
    },
    {
      "cell_type": "code",
      "metadata": {
        "id": "6RNvpxHMDigO",
        "colab_type": "code",
        "colab": {}
      },
      "source": [
        "from spacy import displacy"
      ],
      "execution_count": 0,
      "outputs": []
    },
    {
      "cell_type": "code",
      "metadata": {
        "id": "a1HGnFg6DsxA",
        "colab_type": "code",
        "outputId": "14b78395-2d65-48e8-939b-91cd30f8494a",
        "colab": {
          "base_uri": "https://localhost:8080/",
          "height": 52
        }
      },
      "source": [
        "displacy.render(doc, style=\"ent\", jupyter=True)"
      ],
      "execution_count": 0,
      "outputs": [
        {
          "output_type": "display_data",
          "data": {
            "text/html": [
              "<div class=\"entities\" style=\"line-height: 2.5; direction: ltr\">\n",
              "<mark class=\"entity\" style=\"background: #7aecec; padding: 0.45em 0.6em; margin: 0 0.25em; line-height: 1; border-radius: 0.35em; box-decoration-break: clone; -webkit-box-decoration-break: clone\">\n",
              "    Apple\n",
              "    <span style=\"font-size: 0.8em; font-weight: bold; line-height: 1; border-radius: 0.35em; text-transform: uppercase; vertical-align: middle; margin-left: 0.5rem\">ORG</span>\n",
              "</mark>\n",
              " is looking at buying \n",
              "<mark class=\"entity\" style=\"background: #feca74; padding: 0.45em 0.6em; margin: 0 0.25em; line-height: 1; border-radius: 0.35em; box-decoration-break: clone; -webkit-box-decoration-break: clone\">\n",
              "    U.K.\n",
              "    <span style=\"font-size: 0.8em; font-weight: bold; line-height: 1; border-radius: 0.35em; text-transform: uppercase; vertical-align: middle; margin-left: 0.5rem\">GPE</span>\n",
              "</mark>\n",
              " startup for \n",
              "<mark class=\"entity\" style=\"background: #e4e7d2; padding: 0.45em 0.6em; margin: 0 0.25em; line-height: 1; border-radius: 0.35em; box-decoration-break: clone; -webkit-box-decoration-break: clone\">\n",
              "    $1 billion\n",
              "    <span style=\"font-size: 0.8em; font-weight: bold; line-height: 1; border-radius: 0.35em; text-transform: uppercase; vertical-align: middle; margin-left: 0.5rem\">MONEY</span>\n",
              "</mark>\n",
              "</div>"
            ],
            "text/plain": [
              "<IPython.core.display.HTML object>"
            ]
          },
          "metadata": {
            "tags": []
          }
        }
      ]
    },
    {
      "cell_type": "code",
      "metadata": {
        "id": "zRcLxl8fEB26",
        "colab_type": "code",
        "outputId": "c8d653f5-b562-424b-ee54-95a8fe0b5c97",
        "colab": {
          "base_uri": "https://localhost:8080/",
          "height": 441
        }
      },
      "source": [
        "displacy.render(doc, style=\"dep\", jupyter=True)"
      ],
      "execution_count": 0,
      "outputs": [
        {
          "output_type": "display_data",
          "data": {
            "text/html": [
              "<svg xmlns=\"http://www.w3.org/2000/svg\" xmlns:xlink=\"http://www.w3.org/1999/xlink\" xml:lang=\"en\" id=\"c0fd7f738b7d47de93192fdd3d5c893c-0\" class=\"displacy\" width=\"1975\" height=\"399.5\" direction=\"ltr\" style=\"max-width: none; height: 399.5px; color: #000000; background: #ffffff; font-family: Arial; direction: ltr\">\n",
              "<text class=\"displacy-token\" fill=\"currentColor\" text-anchor=\"middle\" y=\"309.5\">\n",
              "    <tspan class=\"displacy-word\" fill=\"currentColor\" x=\"50\">Apple</tspan>\n",
              "    <tspan class=\"displacy-tag\" dy=\"2em\" fill=\"currentColor\" x=\"50\">PROPN</tspan>\n",
              "</text>\n",
              "\n",
              "<text class=\"displacy-token\" fill=\"currentColor\" text-anchor=\"middle\" y=\"309.5\">\n",
              "    <tspan class=\"displacy-word\" fill=\"currentColor\" x=\"225\">is</tspan>\n",
              "    <tspan class=\"displacy-tag\" dy=\"2em\" fill=\"currentColor\" x=\"225\">VERB</tspan>\n",
              "</text>\n",
              "\n",
              "<text class=\"displacy-token\" fill=\"currentColor\" text-anchor=\"middle\" y=\"309.5\">\n",
              "    <tspan class=\"displacy-word\" fill=\"currentColor\" x=\"400\">looking</tspan>\n",
              "    <tspan class=\"displacy-tag\" dy=\"2em\" fill=\"currentColor\" x=\"400\">VERB</tspan>\n",
              "</text>\n",
              "\n",
              "<text class=\"displacy-token\" fill=\"currentColor\" text-anchor=\"middle\" y=\"309.5\">\n",
              "    <tspan class=\"displacy-word\" fill=\"currentColor\" x=\"575\">at</tspan>\n",
              "    <tspan class=\"displacy-tag\" dy=\"2em\" fill=\"currentColor\" x=\"575\">ADP</tspan>\n",
              "</text>\n",
              "\n",
              "<text class=\"displacy-token\" fill=\"currentColor\" text-anchor=\"middle\" y=\"309.5\">\n",
              "    <tspan class=\"displacy-word\" fill=\"currentColor\" x=\"750\">buying</tspan>\n",
              "    <tspan class=\"displacy-tag\" dy=\"2em\" fill=\"currentColor\" x=\"750\">VERB</tspan>\n",
              "</text>\n",
              "\n",
              "<text class=\"displacy-token\" fill=\"currentColor\" text-anchor=\"middle\" y=\"309.5\">\n",
              "    <tspan class=\"displacy-word\" fill=\"currentColor\" x=\"925\">U.K.</tspan>\n",
              "    <tspan class=\"displacy-tag\" dy=\"2em\" fill=\"currentColor\" x=\"925\">PROPN</tspan>\n",
              "</text>\n",
              "\n",
              "<text class=\"displacy-token\" fill=\"currentColor\" text-anchor=\"middle\" y=\"309.5\">\n",
              "    <tspan class=\"displacy-word\" fill=\"currentColor\" x=\"1100\">startup</tspan>\n",
              "    <tspan class=\"displacy-tag\" dy=\"2em\" fill=\"currentColor\" x=\"1100\">NOUN</tspan>\n",
              "</text>\n",
              "\n",
              "<text class=\"displacy-token\" fill=\"currentColor\" text-anchor=\"middle\" y=\"309.5\">\n",
              "    <tspan class=\"displacy-word\" fill=\"currentColor\" x=\"1275\">for</tspan>\n",
              "    <tspan class=\"displacy-tag\" dy=\"2em\" fill=\"currentColor\" x=\"1275\">ADP</tspan>\n",
              "</text>\n",
              "\n",
              "<text class=\"displacy-token\" fill=\"currentColor\" text-anchor=\"middle\" y=\"309.5\">\n",
              "    <tspan class=\"displacy-word\" fill=\"currentColor\" x=\"1450\">$</tspan>\n",
              "    <tspan class=\"displacy-tag\" dy=\"2em\" fill=\"currentColor\" x=\"1450\">SYM</tspan>\n",
              "</text>\n",
              "\n",
              "<text class=\"displacy-token\" fill=\"currentColor\" text-anchor=\"middle\" y=\"309.5\">\n",
              "    <tspan class=\"displacy-word\" fill=\"currentColor\" x=\"1625\">1</tspan>\n",
              "    <tspan class=\"displacy-tag\" dy=\"2em\" fill=\"currentColor\" x=\"1625\">NUM</tspan>\n",
              "</text>\n",
              "\n",
              "<text class=\"displacy-token\" fill=\"currentColor\" text-anchor=\"middle\" y=\"309.5\">\n",
              "    <tspan class=\"displacy-word\" fill=\"currentColor\" x=\"1800\">billion</tspan>\n",
              "    <tspan class=\"displacy-tag\" dy=\"2em\" fill=\"currentColor\" x=\"1800\">NUM</tspan>\n",
              "</text>\n",
              "\n",
              "<g class=\"displacy-arrow\">\n",
              "    <path class=\"displacy-arc\" id=\"arrow-c0fd7f738b7d47de93192fdd3d5c893c-0-0\" stroke-width=\"2px\" d=\"M70,264.5 C70,89.5 395.0,89.5 395.0,264.5\" fill=\"none\" stroke=\"currentColor\"/>\n",
              "    <text dy=\"1.25em\" style=\"font-size: 0.8em; letter-spacing: 1px\">\n",
              "        <textPath xlink:href=\"#arrow-c0fd7f738b7d47de93192fdd3d5c893c-0-0\" class=\"displacy-label\" startOffset=\"50%\" side=\"left\" fill=\"currentColor\" text-anchor=\"middle\">nsubj</textPath>\n",
              "    </text>\n",
              "    <path class=\"displacy-arrowhead\" d=\"M70,266.5 L62,254.5 78,254.5\" fill=\"currentColor\"/>\n",
              "</g>\n",
              "\n",
              "<g class=\"displacy-arrow\">\n",
              "    <path class=\"displacy-arc\" id=\"arrow-c0fd7f738b7d47de93192fdd3d5c893c-0-1\" stroke-width=\"2px\" d=\"M245,264.5 C245,177.0 390.0,177.0 390.0,264.5\" fill=\"none\" stroke=\"currentColor\"/>\n",
              "    <text dy=\"1.25em\" style=\"font-size: 0.8em; letter-spacing: 1px\">\n",
              "        <textPath xlink:href=\"#arrow-c0fd7f738b7d47de93192fdd3d5c893c-0-1\" class=\"displacy-label\" startOffset=\"50%\" side=\"left\" fill=\"currentColor\" text-anchor=\"middle\">aux</textPath>\n",
              "    </text>\n",
              "    <path class=\"displacy-arrowhead\" d=\"M245,266.5 L237,254.5 253,254.5\" fill=\"currentColor\"/>\n",
              "</g>\n",
              "\n",
              "<g class=\"displacy-arrow\">\n",
              "    <path class=\"displacy-arc\" id=\"arrow-c0fd7f738b7d47de93192fdd3d5c893c-0-2\" stroke-width=\"2px\" d=\"M420,264.5 C420,177.0 565.0,177.0 565.0,264.5\" fill=\"none\" stroke=\"currentColor\"/>\n",
              "    <text dy=\"1.25em\" style=\"font-size: 0.8em; letter-spacing: 1px\">\n",
              "        <textPath xlink:href=\"#arrow-c0fd7f738b7d47de93192fdd3d5c893c-0-2\" class=\"displacy-label\" startOffset=\"50%\" side=\"left\" fill=\"currentColor\" text-anchor=\"middle\">prep</textPath>\n",
              "    </text>\n",
              "    <path class=\"displacy-arrowhead\" d=\"M565.0,266.5 L573.0,254.5 557.0,254.5\" fill=\"currentColor\"/>\n",
              "</g>\n",
              "\n",
              "<g class=\"displacy-arrow\">\n",
              "    <path class=\"displacy-arc\" id=\"arrow-c0fd7f738b7d47de93192fdd3d5c893c-0-3\" stroke-width=\"2px\" d=\"M595,264.5 C595,177.0 740.0,177.0 740.0,264.5\" fill=\"none\" stroke=\"currentColor\"/>\n",
              "    <text dy=\"1.25em\" style=\"font-size: 0.8em; letter-spacing: 1px\">\n",
              "        <textPath xlink:href=\"#arrow-c0fd7f738b7d47de93192fdd3d5c893c-0-3\" class=\"displacy-label\" startOffset=\"50%\" side=\"left\" fill=\"currentColor\" text-anchor=\"middle\">pcomp</textPath>\n",
              "    </text>\n",
              "    <path class=\"displacy-arrowhead\" d=\"M740.0,266.5 L748.0,254.5 732.0,254.5\" fill=\"currentColor\"/>\n",
              "</g>\n",
              "\n",
              "<g class=\"displacy-arrow\">\n",
              "    <path class=\"displacy-arc\" id=\"arrow-c0fd7f738b7d47de93192fdd3d5c893c-0-4\" stroke-width=\"2px\" d=\"M945,264.5 C945,177.0 1090.0,177.0 1090.0,264.5\" fill=\"none\" stroke=\"currentColor\"/>\n",
              "    <text dy=\"1.25em\" style=\"font-size: 0.8em; letter-spacing: 1px\">\n",
              "        <textPath xlink:href=\"#arrow-c0fd7f738b7d47de93192fdd3d5c893c-0-4\" class=\"displacy-label\" startOffset=\"50%\" side=\"left\" fill=\"currentColor\" text-anchor=\"middle\">compound</textPath>\n",
              "    </text>\n",
              "    <path class=\"displacy-arrowhead\" d=\"M945,266.5 L937,254.5 953,254.5\" fill=\"currentColor\"/>\n",
              "</g>\n",
              "\n",
              "<g class=\"displacy-arrow\">\n",
              "    <path class=\"displacy-arc\" id=\"arrow-c0fd7f738b7d47de93192fdd3d5c893c-0-5\" stroke-width=\"2px\" d=\"M770,264.5 C770,89.5 1095.0,89.5 1095.0,264.5\" fill=\"none\" stroke=\"currentColor\"/>\n",
              "    <text dy=\"1.25em\" style=\"font-size: 0.8em; letter-spacing: 1px\">\n",
              "        <textPath xlink:href=\"#arrow-c0fd7f738b7d47de93192fdd3d5c893c-0-5\" class=\"displacy-label\" startOffset=\"50%\" side=\"left\" fill=\"currentColor\" text-anchor=\"middle\">dobj</textPath>\n",
              "    </text>\n",
              "    <path class=\"displacy-arrowhead\" d=\"M1095.0,266.5 L1103.0,254.5 1087.0,254.5\" fill=\"currentColor\"/>\n",
              "</g>\n",
              "\n",
              "<g class=\"displacy-arrow\">\n",
              "    <path class=\"displacy-arc\" id=\"arrow-c0fd7f738b7d47de93192fdd3d5c893c-0-6\" stroke-width=\"2px\" d=\"M770,264.5 C770,2.0 1275.0,2.0 1275.0,264.5\" fill=\"none\" stroke=\"currentColor\"/>\n",
              "    <text dy=\"1.25em\" style=\"font-size: 0.8em; letter-spacing: 1px\">\n",
              "        <textPath xlink:href=\"#arrow-c0fd7f738b7d47de93192fdd3d5c893c-0-6\" class=\"displacy-label\" startOffset=\"50%\" side=\"left\" fill=\"currentColor\" text-anchor=\"middle\">prep</textPath>\n",
              "    </text>\n",
              "    <path class=\"displacy-arrowhead\" d=\"M1275.0,266.5 L1283.0,254.5 1267.0,254.5\" fill=\"currentColor\"/>\n",
              "</g>\n",
              "\n",
              "<g class=\"displacy-arrow\">\n",
              "    <path class=\"displacy-arc\" id=\"arrow-c0fd7f738b7d47de93192fdd3d5c893c-0-7\" stroke-width=\"2px\" d=\"M1470,264.5 C1470,89.5 1795.0,89.5 1795.0,264.5\" fill=\"none\" stroke=\"currentColor\"/>\n",
              "    <text dy=\"1.25em\" style=\"font-size: 0.8em; letter-spacing: 1px\">\n",
              "        <textPath xlink:href=\"#arrow-c0fd7f738b7d47de93192fdd3d5c893c-0-7\" class=\"displacy-label\" startOffset=\"50%\" side=\"left\" fill=\"currentColor\" text-anchor=\"middle\">quantmod</textPath>\n",
              "    </text>\n",
              "    <path class=\"displacy-arrowhead\" d=\"M1470,266.5 L1462,254.5 1478,254.5\" fill=\"currentColor\"/>\n",
              "</g>\n",
              "\n",
              "<g class=\"displacy-arrow\">\n",
              "    <path class=\"displacy-arc\" id=\"arrow-c0fd7f738b7d47de93192fdd3d5c893c-0-8\" stroke-width=\"2px\" d=\"M1645,264.5 C1645,177.0 1790.0,177.0 1790.0,264.5\" fill=\"none\" stroke=\"currentColor\"/>\n",
              "    <text dy=\"1.25em\" style=\"font-size: 0.8em; letter-spacing: 1px\">\n",
              "        <textPath xlink:href=\"#arrow-c0fd7f738b7d47de93192fdd3d5c893c-0-8\" class=\"displacy-label\" startOffset=\"50%\" side=\"left\" fill=\"currentColor\" text-anchor=\"middle\">compound</textPath>\n",
              "    </text>\n",
              "    <path class=\"displacy-arrowhead\" d=\"M1645,266.5 L1637,254.5 1653,254.5\" fill=\"currentColor\"/>\n",
              "</g>\n",
              "\n",
              "<g class=\"displacy-arrow\">\n",
              "    <path class=\"displacy-arc\" id=\"arrow-c0fd7f738b7d47de93192fdd3d5c893c-0-9\" stroke-width=\"2px\" d=\"M1295,264.5 C1295,2.0 1800.0,2.0 1800.0,264.5\" fill=\"none\" stroke=\"currentColor\"/>\n",
              "    <text dy=\"1.25em\" style=\"font-size: 0.8em; letter-spacing: 1px\">\n",
              "        <textPath xlink:href=\"#arrow-c0fd7f738b7d47de93192fdd3d5c893c-0-9\" class=\"displacy-label\" startOffset=\"50%\" side=\"left\" fill=\"currentColor\" text-anchor=\"middle\">pobj</textPath>\n",
              "    </text>\n",
              "    <path class=\"displacy-arrowhead\" d=\"M1800.0,266.5 L1808.0,254.5 1792.0,254.5\" fill=\"currentColor\"/>\n",
              "</g>\n",
              "</svg>"
            ],
            "text/plain": [
              "<IPython.core.display.HTML object>"
            ]
          },
          "metadata": {
            "tags": []
          }
        }
      ]
    },
    {
      "cell_type": "markdown",
      "metadata": {
        "id": "Yt955tVtGaou",
        "colab_type": "text"
      },
      "source": [
        "# Extract statistics description about the corpus"
      ]
    },
    {
      "cell_type": "code",
      "metadata": {
        "id": "8yCZgwHEOWkU",
        "colab_type": "code",
        "colab": {}
      },
      "source": [
        "gutenberg_corpus = {}\n",
        "for fileid in gutenberg.fileids():\n",
        "  gutenberg_corpus[fileid] = {}\n",
        "  gutenberg_corpus[fileid]['num_vocab'] = len(set([w.lower() for w in gutenberg.words(fileid)]))\n",
        "  gutenberg_corpus[fileid]['nof_chars_per_word'] = len(gutenberg.raw(fileid)) / len(gutenberg.words(fileid))\n",
        "  gutenberg_corpus[fileid]['nof_words_per_sentence'] = len(gutenberg.words(fileid)) / len(gutenberg.sents(fileid))\n",
        "  gutenberg_corpus[fileid]['nof_times_per_word'] = len(gutenberg.words(fileid)) / num_vocab"
      ],
      "execution_count": 0,
      "outputs": []
    },
    {
      "cell_type": "code",
      "metadata": {
        "id": "bpEBZzTmPV0Y",
        "colab_type": "code",
        "colab": {}
      },
      "source": [
        "gutenberg_corpus_df = pd.DataFrame(gutenberg_corpus).T"
      ],
      "execution_count": 0,
      "outputs": []
    },
    {
      "cell_type": "code",
      "metadata": {
        "id": "bNNIalcAQOen",
        "colab_type": "code",
        "outputId": "37cc50af-cda6-4fa6-dae6-2eb55a55304f",
        "colab": {
          "base_uri": "https://localhost:8080/",
          "height": 607
        }
      },
      "source": [
        "gutenberg_corpus_df"
      ],
      "execution_count": 0,
      "outputs": [
        {
          "output_type": "execute_result",
          "data": {
            "text/html": [
              "<div>\n",
              "<style scoped>\n",
              "    .dataframe tbody tr th:only-of-type {\n",
              "        vertical-align: middle;\n",
              "    }\n",
              "\n",
              "    .dataframe tbody tr th {\n",
              "        vertical-align: top;\n",
              "    }\n",
              "\n",
              "    .dataframe thead th {\n",
              "        text-align: right;\n",
              "    }\n",
              "</style>\n",
              "<table border=\"1\" class=\"dataframe\">\n",
              "  <thead>\n",
              "    <tr style=\"text-align: right;\">\n",
              "      <th></th>\n",
              "      <th>num_vocab</th>\n",
              "      <th>nof_chars_per_word</th>\n",
              "      <th>nof_words_per_sentence</th>\n",
              "      <th>nof_times_per_word</th>\n",
              "    </tr>\n",
              "  </thead>\n",
              "  <tbody>\n",
              "    <tr>\n",
              "      <th>austen-emma.txt</th>\n",
              "      <td>7344.0</td>\n",
              "      <td>4.609909</td>\n",
              "      <td>24.822884</td>\n",
              "      <td>15.453501</td>\n",
              "    </tr>\n",
              "    <tr>\n",
              "      <th>austen-persuasion.txt</th>\n",
              "      <td>5835.0</td>\n",
              "      <td>4.749794</td>\n",
              "      <td>26.199893</td>\n",
              "      <td>7.883954</td>\n",
              "    </tr>\n",
              "    <tr>\n",
              "      <th>austen-sense.txt</th>\n",
              "      <td>6403.0</td>\n",
              "      <td>4.753786</td>\n",
              "      <td>28.320864</td>\n",
              "      <td>11.369740</td>\n",
              "    </tr>\n",
              "    <tr>\n",
              "      <th>bible-kjv.txt</th>\n",
              "      <td>12767.0</td>\n",
              "      <td>4.286882</td>\n",
              "      <td>33.573199</td>\n",
              "      <td>81.163990</td>\n",
              "    </tr>\n",
              "    <tr>\n",
              "      <th>blake-poems.txt</th>\n",
              "      <td>1535.0</td>\n",
              "      <td>4.567034</td>\n",
              "      <td>19.073059</td>\n",
              "      <td>0.670896</td>\n",
              "    </tr>\n",
              "    <tr>\n",
              "      <th>bryant-stories.txt</th>\n",
              "      <td>3940.0</td>\n",
              "      <td>4.489300</td>\n",
              "      <td>19.407265</td>\n",
              "      <td>4.462175</td>\n",
              "    </tr>\n",
              "    <tr>\n",
              "      <th>burgess-busterbrown.txt</th>\n",
              "      <td>1559.0</td>\n",
              "      <td>4.464642</td>\n",
              "      <td>17.991461</td>\n",
              "      <td>1.522888</td>\n",
              "    </tr>\n",
              "    <tr>\n",
              "      <th>carroll-alice.txt</th>\n",
              "      <td>2636.0</td>\n",
              "      <td>4.233216</td>\n",
              "      <td>20.029360</td>\n",
              "      <td>2.739319</td>\n",
              "    </tr>\n",
              "    <tr>\n",
              "      <th>chesterton-ball.txt</th>\n",
              "      <td>8335.0</td>\n",
              "      <td>4.716174</td>\n",
              "      <td>20.296296</td>\n",
              "      <td>7.789592</td>\n",
              "    </tr>\n",
              "    <tr>\n",
              "      <th>chesterton-brown.txt</th>\n",
              "      <td>7794.0</td>\n",
              "      <td>4.724783</td>\n",
              "      <td>22.612454</td>\n",
              "      <td>6.911580</td>\n",
              "    </tr>\n",
              "    <tr>\n",
              "      <th>chesterton-thursday.txt</th>\n",
              "      <td>6349.0</td>\n",
              "      <td>4.630994</td>\n",
              "      <td>18.496259</td>\n",
              "      <td>5.558384</td>\n",
              "    </tr>\n",
              "    <tr>\n",
              "      <th>edgeworth-parents.txt</th>\n",
              "      <td>8447.0</td>\n",
              "      <td>4.439118</td>\n",
              "      <td>20.592669</td>\n",
              "      <td>16.918005</td>\n",
              "    </tr>\n",
              "    <tr>\n",
              "      <th>melville-moby_dick.txt</th>\n",
              "      <td>17231.0</td>\n",
              "      <td>4.765719</td>\n",
              "      <td>25.928919</td>\n",
              "      <td>20.945952</td>\n",
              "    </tr>\n",
              "    <tr>\n",
              "      <th>milton-paradise.txt</th>\n",
              "      <td>9021.0</td>\n",
              "      <td>4.835735</td>\n",
              "      <td>52.309562</td>\n",
              "      <td>7.775859</td>\n",
              "    </tr>\n",
              "    <tr>\n",
              "      <th>shakespeare-caesar.txt</th>\n",
              "      <td>3032.0</td>\n",
              "      <td>4.347540</td>\n",
              "      <td>11.943135</td>\n",
              "      <td>2.074606</td>\n",
              "    </tr>\n",
              "    <tr>\n",
              "      <th>shakespeare-hamlet.txt</th>\n",
              "      <td>4716.0</td>\n",
              "      <td>4.359770</td>\n",
              "      <td>12.028332</td>\n",
              "      <td>3.000321</td>\n",
              "    </tr>\n",
              "    <tr>\n",
              "      <th>shakespeare-macbeth.txt</th>\n",
              "      <td>3464.0</td>\n",
              "      <td>4.336690</td>\n",
              "      <td>12.134242</td>\n",
              "      <td>1.858336</td>\n",
              "    </tr>\n",
              "    <tr>\n",
              "      <th>whitman-leaves.txt</th>\n",
              "      <td>12452.0</td>\n",
              "      <td>4.591950</td>\n",
              "      <td>36.443059</td>\n",
              "      <td>12.438403</td>\n",
              "    </tr>\n",
              "  </tbody>\n",
              "</table>\n",
              "</div>"
            ],
            "text/plain": [
              "                         num_vocab  ...  nof_times_per_word\n",
              "austen-emma.txt             7344.0  ...           15.453501\n",
              "austen-persuasion.txt       5835.0  ...            7.883954\n",
              "austen-sense.txt            6403.0  ...           11.369740\n",
              "bible-kjv.txt              12767.0  ...           81.163990\n",
              "blake-poems.txt             1535.0  ...            0.670896\n",
              "bryant-stories.txt          3940.0  ...            4.462175\n",
              "burgess-busterbrown.txt     1559.0  ...            1.522888\n",
              "carroll-alice.txt           2636.0  ...            2.739319\n",
              "chesterton-ball.txt         8335.0  ...            7.789592\n",
              "chesterton-brown.txt        7794.0  ...            6.911580\n",
              "chesterton-thursday.txt     6349.0  ...            5.558384\n",
              "edgeworth-parents.txt       8447.0  ...           16.918005\n",
              "melville-moby_dick.txt     17231.0  ...           20.945952\n",
              "milton-paradise.txt         9021.0  ...            7.775859\n",
              "shakespeare-caesar.txt      3032.0  ...            2.074606\n",
              "shakespeare-hamlet.txt      4716.0  ...            3.000321\n",
              "shakespeare-macbeth.txt     3464.0  ...            1.858336\n",
              "whitman-leaves.txt         12452.0  ...           12.438403\n",
              "\n",
              "[18 rows x 4 columns]"
            ]
          },
          "metadata": {
            "tags": []
          },
          "execution_count": 90
        }
      ]
    },
    {
      "cell_type": "code",
      "metadata": {
        "id": "LvQnkYD8QmOT",
        "colab_type": "code",
        "outputId": "ceca6bc5-406c-4196-eb07-61565b50dad6",
        "colab": {
          "base_uri": "https://localhost:8080/",
          "height": 726
        }
      },
      "source": [
        "import matplotlib.pyplot as plt\n",
        "\n",
        "fig, axes = plt.subplots(nrows=len(gutenberg_corpus_df.columns), ncols=1)\n",
        "for i, metric in enumerate(gutenberg_corpus_df.columns):\n",
        "    gutenberg_corpus_df[metric].plot(ax=axes[i], kind='bar', sharex=True, sharey=False, figsize=(10, 10), title=gutenberg_corpus_df.columns[i], color=np.random.rand(3))\n",
        "    # plt.xlabel(dim)\n",
        "    \n",
        "plt.show()\n"
      ],
      "execution_count": 0,
      "outputs": [
        {
          "output_type": "display_data",
          "data": {
            "image/png": "[encoded data removed]",
            "text/plain": [
              "<Figure size 720x720 with 4 Axes>"
            ]
          },
          "metadata": {
            "tags": []
          }
        }
      ]
    },
    {
      "cell_type": "markdown",
      "metadata": {
        "id": "MqJ5JFEfc7Cr",
        "colab_type": "text"
      },
      "source": [
        "## Gutenberg alt-API"
      ]
    },
    {
      "cell_type": "markdown",
      "metadata": {
        "id": "1jkyu-rJq2Gx",
        "colab_type": "text"
      },
      "source": [
        "### Install dependencies"
      ]
    },
    {
      "cell_type": "code",
      "metadata": {
        "colab_type": "code",
        "outputId": "1b1fbc49-78f5-4b64-a1ec-375e02e0dd9f",
        "id": "1l-tvrmRYB_p",
        "colab": {
          "base_uri": "https://localhost:8080/",
          "height": 136
        }
      },
      "source": [
        "!git clone https://github.com/c-w/Gutenberg.git\n"
      ],
      "execution_count": 0,
      "outputs": [
        {
          "output_type": "stream",
          "text": [
            "Cloning into 'Gutenberg'...\n",
            "remote: Enumerating objects: 25, done.\u001b[K\n",
            "remote: Counting objects: 100% (25/25), done.\u001b[K\n",
            "remote: Compressing objects: 100% (20/20), done.\u001b[K\n",
            "remote: Total 2441 (delta 11), reused 16 (delta 5), pack-reused 2416\u001b[K\n",
            "Receiving objects: 100% (2441/2441), 5.99 MiB | 13.15 MiB/s, done.\n",
            "Resolving deltas: 100% (1565/1565), done.\n"
          ],
          "name": "stdout"
        }
      ]
    },
    {
      "cell_type": "code",
      "metadata": {
        "id": "aPqCUlvkcwHe",
        "colab_type": "code",
        "outputId": "5d674f74-2975-4b4d-a1e6-014bc896ed49",
        "colab": {
          "base_uri": "https://localhost:8080/",
          "height": 802
        }
      },
      "source": [
        "!sudo apt-get install libdb++-dev\n",
        "!export BERKELEYDB_DIR=/usr"
      ],
      "execution_count": 0,
      "outputs": [
        {
          "output_type": "stream",
          "text": [
            "Reading package lists... Done\n",
            "Building dependency tree       \n",
            "Reading state information... Done\n",
            "The following package was automatically installed and is no longer required:\n",
            "  libnvidia-common-430\n",
            "Use 'sudo apt autoremove' to remove it.\n",
            "The following additional packages will be installed:\n",
            "  libdb5.3++ libdb5.3++-dev libdb5.3-dev\n",
            "Suggested packages:\n",
            "  db5.3-doc\n",
            "The following NEW packages will be installed:\n",
            "  libdb++-dev libdb5.3++ libdb5.3++-dev libdb5.3-dev\n",
            "0 upgraded, 4 newly installed, 0 to remove and 7 not upgraded.\n",
            "Need to get 2,245 kB of archives.\n",
            "After this operation, 8,395 kB of additional disk space will be used.\n",
            "Get:1 http://archive.ubuntu.com/ubuntu bionic-updates/main amd64 libdb5.3++ amd64 5.3.28-13.1ubuntu1.1 [703 kB]\n",
            "Get:2 http://archive.ubuntu.com/ubuntu bionic-updates/main amd64 libdb5.3-dev amd64 5.3.28-13.1ubuntu1.1 [762 kB]\n",
            "Get:3 http://archive.ubuntu.com/ubuntu bionic-updates/main amd64 libdb5.3++-dev amd64 5.3.28-13.1ubuntu1.1 [778 kB]\n",
            "Get:4 http://archive.ubuntu.com/ubuntu bionic/main amd64 libdb++-dev amd64 1:5.3.21~exp1ubuntu2 [2,340 B]\n",
            "Fetched 2,245 kB in 1s (1,531 kB/s)\n",
            "debconf: unable to initialize frontend: Dialog\n",
            "debconf: (No usable dialog-like program is installed, so the dialog based frontend cannot be used. at /usr/share/perl5/Debconf/FrontEnd/Dialog.pm line 76, <> line 4.)\n",
            "debconf: falling back to frontend: Readline\n",
            "debconf: unable to initialize frontend: Readline\n",
            "debconf: (This frontend requires a controlling tty.)\n",
            "debconf: falling back to frontend: Teletype\n",
            "dpkg-preconfigure: unable to re-open stdin: \n",
            "Selecting previously unselected package libdb5.3++:amd64.\n",
            "(Reading database ... 145674 files and directories currently installed.)\n",
            "Preparing to unpack .../libdb5.3++_5.3.28-13.1ubuntu1.1_amd64.deb ...\n",
            "Unpacking libdb5.3++:amd64 (5.3.28-13.1ubuntu1.1) ...\n",
            "Selecting previously unselected package libdb5.3-dev.\n",
            "Preparing to unpack .../libdb5.3-dev_5.3.28-13.1ubuntu1.1_amd64.deb ...\n",
            "Unpacking libdb5.3-dev (5.3.28-13.1ubuntu1.1) ...\n",
            "Selecting previously unselected package libdb5.3++-dev.\n",
            "Preparing to unpack .../libdb5.3++-dev_5.3.28-13.1ubuntu1.1_amd64.deb ...\n",
            "Unpacking libdb5.3++-dev (5.3.28-13.1ubuntu1.1) ...\n",
            "Selecting previously unselected package libdb++-dev:amd64.\n",
            "Preparing to unpack .../libdb++-dev_1%3a5.3.21~exp1ubuntu2_amd64.deb ...\n",
            "Unpacking libdb++-dev:amd64 (1:5.3.21~exp1ubuntu2) ...\n",
            "Setting up libdb5.3-dev (5.3.28-13.1ubuntu1.1) ...\n",
            "Setting up libdb5.3++:amd64 (5.3.28-13.1ubuntu1.1) ...\n",
            "Setting up libdb5.3++-dev (5.3.28-13.1ubuntu1.1) ...\n",
            "Setting up libdb++-dev:amd64 (1:5.3.21~exp1ubuntu2) ...\n",
            "Processing triggers for libc-bin (2.27-3ubuntu1) ...\n"
          ],
          "name": "stdout"
        }
      ]
    },
    {
      "cell_type": "code",
      "metadata": {
        "id": "bcvYrUHwc9oq",
        "colab_type": "code",
        "outputId": "8492903b-a440-4b00-bfe3-d8d3a378cba9",
        "colab": {
          "base_uri": "https://localhost:8080/",
          "height": 887
        }
      },
      "source": [
        "%cd Gutenberg/\n",
        "!pip3 install ."
      ],
      "execution_count": 0,
      "outputs": [
        {
          "output_type": "stream",
          "text": [
            "/content/Gutenberg\n",
            "Processing /content/Gutenberg\n",
            "Collecting SPARQLWrapper>=1.8.2\n",
            "  Using cached https://files.pythonhosted.org/packages/b0/1d/d7c60a451a255fca655fe37eb3f6e3b3daa7d33fc87eeec0d8631d501e76/SPARQLWrapper-1.8.4-py3-none-any.whl\n",
            "Collecting bsddb3>=6.1.0\n",
            "  Using cached https://files.pythonhosted.org/packages/e9/fc/ebfbd4de236b493f9ece156f816c21df0ae87ccc22604c5f9b664efef1b9/bsddb3-6.2.6.tar.gz\n",
            "Requirement already satisfied: future>=0.15.2 in /usr/local/lib/python3.6/dist-packages (from Gutenberg==0.8.0) (0.16.0)\n",
            "Collecting rdflib-sqlalchemy>=0.3.8\n",
            "  Downloading https://files.pythonhosted.org/packages/d3/27/598bc4e206399075bef5b055898dee5f35e9f4b1d8737c3fce2f3c4ee013/rdflib_sqlalchemy-0.4.0-py3-none-any.whl\n",
            "Collecting rdflib>=4.2.0\n",
            "\u001b[?25l  Downloading https://files.pythonhosted.org/packages/3c/fe/630bacb652680f6d481b9febbb3e2c3869194a1a5fc3401a4a41195a2f8f/rdflib-4.2.2-py3-none-any.whl (344kB)\n",
            "\u001b[K     |████████████████████████████████| 348kB 44.5MB/s \n",
            "\u001b[?25hRequirement already satisfied: requests>=2.5.1 in /usr/local/lib/python3.6/dist-packages (from Gutenberg==0.8.0) (2.21.0)\n",
            "Requirement already satisfied: setuptools>=18.5 in /usr/local/lib/python3.6/dist-packages (from Gutenberg==0.8.0) (42.0.2)\n",
            "Requirement already satisfied: six>=1.10.0 in /usr/local/lib/python3.6/dist-packages (from Gutenberg==0.8.0) (1.12.0)\n",
            "Requirement already satisfied: SQLAlchemy>=1.1.4 in /usr/local/lib/python3.6/dist-packages (from rdflib-sqlalchemy>=0.3.8->Gutenberg==0.8.0) (1.3.12)\n",
            "Collecting alembic>=0.8.8\n",
            "\u001b[?25l  Downloading https://files.pythonhosted.org/packages/dc/6d/3c1411dfdcf089ec89ce5e2222deb2292f39b6b1a5911222e15af9fe5a92/alembic-1.3.2.tar.gz (1.1MB)\n",
            "\u001b[K     |████████████████████████████████| 1.1MB 66.5MB/s \n",
            "\u001b[?25hCollecting isodate\n",
            "\u001b[?25l  Downloading https://files.pythonhosted.org/packages/9b/9f/b36f7774ff5ea8e428fdcfc4bb332c39ee5b9362ddd3d40d9516a55221b2/isodate-0.6.0-py2.py3-none-any.whl (45kB)\n",
            "\u001b[K     |████████████████████████████████| 51kB 9.9MB/s \n",
            "\u001b[?25hRequirement already satisfied: pyparsing in /usr/local/lib/python3.6/dist-packages (from rdflib>=4.2.0->Gutenberg==0.8.0) (2.4.5)\n",
            "Requirement already satisfied: idna<2.9,>=2.5 in /usr/local/lib/python3.6/dist-packages (from requests>=2.5.1->Gutenberg==0.8.0) (2.8)\n",
            "Requirement already satisfied: urllib3<1.25,>=1.21.1 in /usr/local/lib/python3.6/dist-packages (from requests>=2.5.1->Gutenberg==0.8.0) (1.24.3)\n",
            "Requirement already satisfied: chardet<3.1.0,>=3.0.2 in /usr/local/lib/python3.6/dist-packages (from requests>=2.5.1->Gutenberg==0.8.0) (3.0.4)\n",
            "Requirement already satisfied: certifi>=2017.4.17 in /usr/local/lib/python3.6/dist-packages (from requests>=2.5.1->Gutenberg==0.8.0) (2019.11.28)\n",
            "Collecting Mako\n",
            "\u001b[?25l  Downloading https://files.pythonhosted.org/packages/b0/3c/8dcd6883d009f7cae0f3157fb53e9afb05a0d3d33b3db1268ec2e6f4a56b/Mako-1.1.0.tar.gz (463kB)\n",
            "\u001b[K     |████████████████████████████████| 471kB 59.9MB/s \n",
            "\u001b[?25hCollecting python-editor>=0.3\n",
            "  Downloading https://files.pythonhosted.org/packages/c6/d3/201fc3abe391bbae6606e6f1d598c15d367033332bd54352b12f35513717/python_editor-1.0.4-py3-none-any.whl\n",
            "Requirement already satisfied: python-dateutil in /usr/local/lib/python3.6/dist-packages (from alembic>=0.8.8->rdflib-sqlalchemy>=0.3.8->Gutenberg==0.8.0) (2.6.1)\n",
            "Requirement already satisfied: MarkupSafe>=0.9.2 in /usr/local/lib/python3.6/dist-packages (from Mako->alembic>=0.8.8->rdflib-sqlalchemy>=0.3.8->Gutenberg==0.8.0) (1.1.1)\n",
            "Building wheels for collected packages: Gutenberg, bsddb3, alembic, Mako\n",
            "  Building wheel for Gutenberg (setup.py) ... \u001b[?25l\u001b[?25hdone\n",
            "  Created wheel for Gutenberg: filename=Gutenberg-0.8.0-cp36-none-any.whl size=26370 sha256=204591df8fde80448f5602bab08e536708d875ad3038974a38f4ac6658ea6aff\n",
            "  Stored in directory: /tmp/pip-ephem-wheel-cache-hle2hsj2/wheels/a6/bb/7e/2beb48e3bec826e0278109e548ddd807fe6972d2c4626bdd4f\n",
            "  Building wheel for bsddb3 (setup.py) ... \u001b[?25l\u001b[?25hdone\n",
            "  Created wheel for bsddb3: filename=bsddb3-6.2.6-cp36-cp36m-linux_x86_64.whl size=298292 sha256=e17f7f0ca7f9b7dbb47ecd0ab86aa2c6d012fa9e3c0517a9b26120b81108229a\n",
            "  Stored in directory: /root/.cache/pip/wheels/11/b8/b3/fa84db10bf8c563e4ba1a72837a0946d123f12adb34b164bf5\n",
            "  Building wheel for alembic (setup.py) ... \u001b[?25l\u001b[?25hdone\n",
            "  Created wheel for alembic: filename=alembic-1.3.2-py2.py3-none-any.whl size=151128 sha256=58912c2e8361628210906dd814327dd2d8e27cfd13617b8473630fd75d1bb648\n",
            "  Stored in directory: /root/.cache/pip/wheels/5c/66/53/e0633382ac8625ab1c099db6a290d1b6b24f849a4666a57105\n",
            "  Building wheel for Mako (setup.py) ... \u001b[?25l\u001b[?25hdone\n",
            "  Created wheel for Mako: filename=Mako-1.1.0-cp36-none-any.whl size=75363 sha256=ec1ee9f9e6d389cc2387b15f7ce17ad5ced74393efbfdb0439d4dc1f0b1b2c39\n",
            "  Stored in directory: /root/.cache/pip/wheels/98/32/7b/a291926643fc1d1e02593e0d9e247c5a866a366b8343b7aa27\n",
            "Successfully built Gutenberg bsddb3 alembic Mako\n",
            "Installing collected packages: isodate, rdflib, SPARQLWrapper, bsddb3, Mako, python-editor, alembic, rdflib-sqlalchemy, Gutenberg\n",
            "Successfully installed Gutenberg-0.8.0 Mako-1.1.0 SPARQLWrapper-1.8.4 alembic-1.3.2 bsddb3-6.2.6 isodate-0.6.0 python-editor-1.0.4 rdflib-4.2.2 rdflib-sqlalchemy-0.4.0\n"
          ],
          "name": "stdout"
        }
      ]
    },
    {
      "cell_type": "markdown",
      "metadata": {
        "id": "ANA4_8oEqbKB",
        "colab_type": "text"
      },
      "source": [
        "### Populate the cache"
      ]
    },
    {
      "cell_type": "code",
      "metadata": {
        "id": "TkoM1k7cdONZ",
        "colab_type": "code",
        "colab": {}
      },
      "source": [
        "# from gutenberg.acquire import get_metadata_cache\n",
        "# cache = get_metadata_cache()\n",
        "# cache.populate()"
      ],
      "execution_count": 0,
      "outputs": []
    },
    {
      "cell_type": "code",
      "metadata": {
        "id": "JrQ-Rnxirt1v",
        "colab_type": "code",
        "outputId": "5156926e-e3b8-416c-e963-d50f6b515a67",
        "colab": {
          "base_uri": "https://localhost:8080/",
          "height": 121
        }
      },
      "source": [
        "from google.colab import drive\n",
        "drive.mount('/content/drive', force_remount=True)"
      ],
      "execution_count": 2,
      "outputs": [
        {
          "output_type": "stream",
          "text": [
            "Go to this URL in a browser: https://accounts.google.com/o/oauth2/auth?client_id=947318989803-6bn6qk8qdgf4n4g3pfee6491hc0brc4i.apps.googleusercontent.com&redirect_uri=urn%3aietf%3awg%3aoauth%3a2.0%3aoob&response_type=code&scope=email%20https%3a%2f%2fwww.googleapis.com%2fauth%2fdocs.test%20https%3a%2f%2fwww.googleapis.com%2fauth%2fdrive%20https%3a%2f%2fwww.googleapis.com%2fauth%2fdrive.photos.readonly%20https%3a%2f%2fwww.googleapis.com%2fauth%2fpeopleapi.readonly\n",
            "\n",
            "Enter your authorization code:\n",
            "··········\n",
            "Mounted at /content/drive\n"
          ],
          "name": "stdout"
        }
      ]
    },
    {
      "cell_type": "markdown",
      "metadata": {
        "id": "fPj_pH6GssXE",
        "colab_type": "text"
      },
      "source": [
        "### Get the downloaded data"
      ]
    },
    {
      "cell_type": "code",
      "metadata": {
        "id": "8Kqw2ag3p9pf",
        "colab_type": "code",
        "colab": {}
      },
      "source": [
        "# data = pd.read_csv('/content/drive/My Drive/Colab Notebooks/ProjectGutenberg/gutenberg_sample_authors.csv')\n",
        "data = pd.read_csv('/content/drive/My Drive/Colab Notebooks/ProjectGutenberg/gutenberg_authors_big.csv')"
      ],
      "execution_count": 0,
      "outputs": []
    },
    {
      "cell_type": "code",
      "metadata": {
        "id": "3pDdghQkqUOf",
        "colab_type": "code",
        "outputId": "34a623c3-cd5a-4dcf-c417-cb4d59c2a480",
        "colab": {
          "base_uri": "https://localhost:8080/",
          "height": 946
        }
      },
      "source": [
        "data"
      ],
      "execution_count": 0,
      "outputs": [
        {
          "output_type": "execute_result",
          "data": {
            "text/html": [
              "<div>\n",
              "<style scoped>\n",
              "    .dataframe tbody tr th:only-of-type {\n",
              "        vertical-align: middle;\n",
              "    }\n",
              "\n",
              "    .dataframe tbody tr th {\n",
              "        vertical-align: top;\n",
              "    }\n",
              "\n",
              "    .dataframe thead th {\n",
              "        text-align: right;\n",
              "    }\n",
              "</style>\n",
              "<table border=\"1\" class=\"dataframe\">\n",
              "  <thead>\n",
              "    <tr style=\"text-align: right;\">\n",
              "      <th></th>\n",
              "      <th>key</th>\n",
              "      <th>language</th>\n",
              "      <th>author</th>\n",
              "      <th>title</th>\n",
              "      <th>subject</th>\n",
              "      <th>encoding</th>\n",
              "      <th>text</th>\n",
              "    </tr>\n",
              "  </thead>\n",
              "  <tbody>\n",
              "    <tr>\n",
              "      <th>0</th>\n",
              "      <td>10060</td>\n",
              "      <td>en</td>\n",
              "      <td>Huxley, Thomas Henry</td>\n",
              "      <td>Discourses: Biological &amp; Geological Essays</td>\n",
              "      <td>Geology Biology Q</td>\n",
              "      <td>us-ascii</td>\n",
              "      <td>Richard Prairie and PG Distributed Proofreader...</td>\n",
              "    </tr>\n",
              "    <tr>\n",
              "      <th>1</th>\n",
              "      <td>10078</td>\n",
              "      <td>en</td>\n",
              "      <td>Johnson, Douglas Wilson</td>\n",
              "      <td>Plain Words from America: A Letter to a German...</td>\n",
              "      <td>World War, 1914-1918 -- Public opinion D501</td>\n",
              "      <td>us-ascii</td>\n",
              "      <td>Distributed Proofreaders\\n\\n\\n\\nPLAIN WORDS FR...</td>\n",
              "    </tr>\n",
              "    <tr>\n",
              "      <th>2</th>\n",
              "      <td>10096</td>\n",
              "      <td>en</td>\n",
              "      <td>Euripides</td>\n",
              "      <td>The Trojan women of Euripides</td>\n",
              "      <td>Helen, of Troy, Queen of Sparta -- Drama Hecub...</td>\n",
              "      <td>iso-8859-1</td>\n",
              "      <td>THE TROJAN WOMEN OF EURIPIDES\\n\\n\\n\\nTRANSLATE...</td>\n",
              "    </tr>\n",
              "    <tr>\n",
              "      <th>3</th>\n",
              "      <td>10097</td>\n",
              "      <td>en</td>\n",
              "      <td>Carpenter, Edward</td>\n",
              "      <td>The Healing of Nations and the Hidden Sources ...</td>\n",
              "      <td>World War, 1914-1918 D501</td>\n",
              "      <td>utf-8</td>\n",
              "      <td>THE HEALING OF NATIONS AND THE HIDDEN SOURCES ...</td>\n",
              "    </tr>\n",
              "    <tr>\n",
              "      <th>4</th>\n",
              "      <td>10213</td>\n",
              "      <td>en</td>\n",
              "      <td>Gregory, Jackson</td>\n",
              "      <td>The Everlasting Whisper</td>\n",
              "      <td>PS Western stories California -- Fiction</td>\n",
              "      <td>utf-8</td>\n",
              "      <td>THE EVERLASTING WHISPER\\n\\n_A Tale of the Cali...</td>\n",
              "    </tr>\n",
              "    <tr>\n",
              "      <th>...</th>\n",
              "      <td>...</td>\n",
              "      <td>...</td>\n",
              "      <td>...</td>\n",
              "      <td>...</td>\n",
              "      <td>...</td>\n",
              "      <td>...</td>\n",
              "      <td>...</td>\n",
              "    </tr>\n",
              "    <tr>\n",
              "      <th>2424</th>\n",
              "      <td>9869</td>\n",
              "      <td>en</td>\n",
              "      <td>Musset, Alfred de</td>\n",
              "      <td>The Confession of a Child of the Century</td>\n",
              "      <td>Historical fiction PQ French fiction</td>\n",
              "      <td>iso-8859-1</td>\n",
              "      <td>THE CONFESSION OF\\n\\n                      A C...</td>\n",
              "    </tr>\n",
              "    <tr>\n",
              "      <th>2425</th>\n",
              "      <td>9966</td>\n",
              "      <td>en</td>\n",
              "      <td>Perkins, Lucy Fitch</td>\n",
              "      <td>The Spartan Twins</td>\n",
              "      <td>Twins -- Juvenile fiction PZ Greece -- History...</td>\n",
              "      <td>us-ascii</td>\n",
              "      <td>THE SPARTAN TWINS\\n\\n                         ...</td>\n",
              "    </tr>\n",
              "    <tr>\n",
              "      <th>2426</th>\n",
              "      <td>9968</td>\n",
              "      <td>en</td>\n",
              "      <td>Oxley, James Macdonald</td>\n",
              "      <td>The Young Woodsman; Or, Life in the Forests of...</td>\n",
              "      <td>Hunting -- Fiction Adventure stories Outdoor l...</td>\n",
              "      <td>iso-8859-1</td>\n",
              "      <td>Online Distributed Proofreading Team\\n\\n\\n\\n\\n...</td>\n",
              "    </tr>\n",
              "    <tr>\n",
              "      <th>2427</th>\n",
              "      <td>9982</td>\n",
              "      <td>en</td>\n",
              "      <td>Child, Lydia Maria</td>\n",
              "      <td>Philothea: A Grecian Romance</td>\n",
              "      <td>PS Greece -- Fiction</td>\n",
              "      <td>iso-8859-1</td>\n",
              "      <td>PHILOTHEA:\\n\\nA Grecian Romance.\\n\\nBY L. MARI...</td>\n",
              "    </tr>\n",
              "    <tr>\n",
              "      <th>2428</th>\n",
              "      <td>9996</td>\n",
              "      <td>en</td>\n",
              "      <td>Adams, Charles Francis</td>\n",
              "      <td>\"'Tis Sixty Years Since\" Address of Charles Fr...</td>\n",
              "      <td>B Philosophy, Modern</td>\n",
              "      <td>us-ascii</td>\n",
              "      <td>\"TIS SIXTY YEARS SINCE\"\\n\\nADDRESS OF\\n\\nCHARL...</td>\n",
              "    </tr>\n",
              "  </tbody>\n",
              "</table>\n",
              "<p>2429 rows × 7 columns</p>\n",
              "</div>"
            ],
            "text/plain": [
              "        key  ...                                               text\n",
              "0     10060  ...  Richard Prairie and PG Distributed Proofreader...\n",
              "1     10078  ...  Distributed Proofreaders\\n\\n\\n\\nPLAIN WORDS FR...\n",
              "2     10096  ...  THE TROJAN WOMEN OF EURIPIDES\\n\\n\\n\\nTRANSLATE...\n",
              "3     10097  ...  THE HEALING OF NATIONS AND THE HIDDEN SOURCES ...\n",
              "4     10213  ...  THE EVERLASTING WHISPER\\n\\n_A Tale of the Cali...\n",
              "...     ...  ...                                                ...\n",
              "2424   9869  ...  THE CONFESSION OF\\n\\n                      A C...\n",
              "2425   9966  ...  THE SPARTAN TWINS\\n\\n                         ...\n",
              "2426   9968  ...  Online Distributed Proofreading Team\\n\\n\\n\\n\\n...\n",
              "2427   9982  ...  PHILOTHEA:\\n\\nA Grecian Romance.\\n\\nBY L. MARI...\n",
              "2428   9996  ...  \"TIS SIXTY YEARS SINCE\"\\n\\nADDRESS OF\\n\\nCHARL...\n",
              "\n",
              "[2429 rows x 7 columns]"
            ]
          },
          "metadata": {
            "tags": []
          },
          "execution_count": 5
        }
      ]
    },
    {
      "cell_type": "code",
      "metadata": {
        "id": "gcLa7fE71Jzw",
        "colab_type": "code",
        "colab": {}
      },
      "source": [
        ""
      ],
      "execution_count": 0,
      "outputs": []
    },
    {
      "cell_type": "code",
      "metadata": {
        "colab_type": "code",
        "outputId": "24b82700-b607-48b2-e028-9605c6cf14ee",
        "id": "BfgOuk7Y60X0",
        "colab": {
          "base_uri": "https://localhost:8080/",
          "height": 34
        }
      },
      "source": [
        "data.author.nunique()"
      ],
      "execution_count": 0,
      "outputs": [
        {
          "output_type": "execute_result",
          "data": {
            "text/plain": [
              "968"
            ]
          },
          "metadata": {
            "tags": []
          },
          "execution_count": 118
        }
      ]
    },
    {
      "cell_type": "code",
      "metadata": {
        "colab_type": "code",
        "outputId": "ecfb2f9b-a5ba-49e6-8ea4-814375fb527c",
        "id": "BOt5BvQv60Xo",
        "colab": {
          "base_uri": "https://localhost:8080/",
          "height": 34
        }
      },
      "source": [
        "data.shape[0]"
      ],
      "execution_count": 0,
      "outputs": [
        {
          "output_type": "execute_result",
          "data": {
            "text/plain": [
              "2429"
            ]
          },
          "metadata": {
            "tags": []
          },
          "execution_count": 119
        }
      ]
    },
    {
      "cell_type": "code",
      "metadata": {
        "colab_type": "code",
        "id": "l6waHW4u60XX",
        "colab": {}
      },
      "source": [
        "text = data.iloc[2428].text"
      ],
      "execution_count": 0,
      "outputs": []
    },
    {
      "cell_type": "code",
      "metadata": {
        "colab_type": "code",
        "outputId": "726495d9-cbd0-4958-c8ab-e29f50d2c45d",
        "id": "uyqmRj2s60XM",
        "colab": {
          "base_uri": "https://localhost:8080/",
          "height": 54
        }
      },
      "source": [
        "text"
      ],
      "execution_count": 0,
      "outputs": [
        {
          "output_type": "execute_result",
          "data": {
            "text/plain": [
              "'\"TIS SIXTY YEARS SINCE\"\\n\\nADDRESS OF\\n\\nCHARLES FRANCIS ADAMS\\n\\n\\n\\nFOUNDERS\\' DAY, JANUARY 16, 1913\\n\\n\\n\\n\"\\'TIS SIXTY YEARS SINCE\"\\n\\nIn the single hour self-allotted for my part in this occasion there is\\nmuch ground to cover,--the time is short, and I have far to go. Did I\\nnow, therefore, submit all I had proposed to say when I accepted your\\ninvitation, there would remain no space for preliminaries. Yet something\\nof that character is in place. I will try to make it brief.[1]\\n\\nAs the legend or text of what I have in mind to submit, I have given the\\nwords \"\\'Tis Sixty Years Since.\" As some here doubtless recall, this is\\nthe second or subordinate title of Walter Scott\\'s first novel,\\n\"Waverley,\" which brought him fame. Given to the world in 1814,--hard on\\na century ago,--\"Waverley\" told of the last Stuart effort to recover the\\ncrown of Great Britain,--that of \"The \\'45.\" It so chances that Scott\\'s\\nperiod of retrospect is also just now most appropriate in my case,\\ninasmuch as I entered Harvard as a student in the year 1853--\"sixty\\nyears since!\" It may fairly be asserted that school life ends, and what\\nmay in contradistinction thereto be termed thinking and acting life\\nbegins, the day the young man passes the threshold of the institution of\\nmore advanced education. For him, life\\'s responsibilities then begin.\\nPrior to that confused, thenceforth things with him become\\nconsecutive,--a sequence. Insensibly he puts away childish things.\\n\\n[1] Owing to its length, this \"Address\" was compressed in delivery,\\noccupying one hour only. It is here printed in the form in which it was\\nprepared,--the parts omitted in delivery being included.\\n\\nIn those days, as I presume now, the college youth harkened to inspired\\nvoices. Sir Walter Scott belonged to a previous generation. Having held\\nthe close attention of a delighted world as the most successful\\nstory-teller of his own or any preceding period, he had passed off the\\nstage; but only a short twenty years before. Other voices no less\\ninspired had followed; and, living, spoke to us. Perhaps my scheme\\nto-day is best expressed by one of these.\\n\\nWhen just beginning to attract the attention of the English-speaking\\nworld, Alfred Tennyson gave forth his poem of \"Locksley Hall,\"--very\\nfamiliar to those of my younger days. Written years before, at the time\\nof publication he was thirty-three. In 1886, a man of seventy-five, he\\ncomposed a sequel to his earlier effort,--the utterance entitled\\n\"Locksley Hall Sixty Years After.\" He then, you will remember, reviewed\\nhis young man\\'s dreams,--dreams of the period when he\\n\\n\\n\" ... dip\\'t into the future, far as human eye could see,\\nSaw the Vision of the world, and all the wonder that would be,\"\\n\\n\\n--threescore years later contrasting in sombre verse an old man\\'s stern\\nrealities with the bright anticipations of youth. Such is my purpose\\nto-day. \"Wandering back to living boyhood,\" to the time when I first\\nsimultaneously passed the Harvard threshold and the threshold of\\nresponsible life, I propose to compare the ideals and actualities of the\\npresent with the ideals, anticipations and dreams of a past now\\nsomewhat remote.\\n\\nTo say that in life and in the order of life\\'s events it is the\\nunexpected which is apt to occur, is a commonplace. That it has been so\\nin my own case, I shall presently show. Meanwhile, not least among the\\nunexpected things is my presence here to-day. If, when I entered Harvard\\nin 1853, it had been suggested that in 1913, I,--born of the New England\\nSanhedrim, a Brahmin Yankee by blood, tradition and environment--had it\\nbeen suggested that I, being such, would sixty years later stand by\\ninvitation here in Columbia before the faculty and students of the\\nUniversity of South Carolina, I should under circumstances then existing\\nhave pronounced the suggestion as beyond reasonable credence. Here,\\nhowever, I am; and here, from this as my rostrum, I propose to-day to\\ndeliver a message,--such as it is.\\n\\nAnd yet, though such a future outcome, if then foretold, would have\\nseemed scarcely possible of occurrence, there, after all, were certain\\nconditions which would have rendered the contingency even at that time\\nnot only possible, but in accordance with the everlasting fitness of\\nthings. For, curiously enough, personal relations of a certain character\\nheld with this institution would have given me, even in 1853, a sense of\\nacquaintance with it such as individually I had with no other\\ninstitution of similar character throughout the entire land. It in this\\nwise came about. At that period, preceding as it did the deluge about to\\nensue, it was the hereditary custom of certain families more especially\\nof South Carolina and of Louisiana,--but of South Carolina in\\nparticular--to send their youth to Harvard, there to receive a college\\neducation. It thus chanced that among my associates at Harvard were not\\na few who bore names long familiarly and honorably known to Carolinian\\nrecords,--Barnwell and Preston, Rhett and Alston, Parkman and Eliot; and\\namong these were some I knew well, and even intimately. Gone now with\\nthe generation and even the civilization to which they belonged, I doubt\\nif any of them survive. Indeed only recently I chanced on a grimly\\nsuggestive mention of one who had left on me the memory of a character\\nand personality singularly pure, high-toned and manly,--permeated with a\\nsense of moral and personal obligation. I have always understood he died\\nfive years later at Sharpsburg, as you call it, or Antietam, as it was\\nnamed by us, in face-to-face conflict with a Massachusetts regiment\\nlargely officered by Harvard men of his time and even class,--his own\\nfamiliar friends. This is the record, the reference being to a marriage\\nservice held at St. Paul\\'s church in Richmond, in the late autumn of\\n1862: \"An indefinable feeling of gloom was thrown over a most auspicious\\nevent when the bride\\'s youngest sister glided through a side door just\\nbefore the processional. Tottering to a chancel pew, she threw herself\\nupon the cushions, her slight frame racked with sobs. Scarcely a year\\nbefore, the wedding march had been played for her, and a joyous throng\\nsaw her wedded to gallant Breck Parkman. Before another twelvemonth\\nrolled around the groom was killed at the front.\"[2] Samuel Breck\\nParkman was in the Harvard class following that to which I belonged.\\nGraduating in 1857, fifty-five years later I next saw his name in the\\nconnection just given. It recorded an incident of not infrequent\\noccurrence in those dark and cruel days.\\n\\nIt was, however, in Breck Parkman and his like that I first became\\nconscious of certain phases of the South Carolina character which\\nsubsequently I learned to bear in high respect.\\n\\nSo far as this University of South Carolina was concerned, it also so\\nchanced that, by the merest accident, I, a very young man, was thrown\\ninto close personal relations with one of the most eminent of your\\nprofessors,--Francis Lieber. Few here, I suppose, now personally\\nremember Francis Lieber. To most it gives indeed a certain sense of\\nremoteness to meet one who, as in my case, once held close and even\\nintimate relations with a German emigrant, distinguished as a publicist,\\nwho as a youth had lain, wounded and helpless, a Prussian recruit, on\\nthe field above Namur. Occurring in June, 1815, two days after Waterloo,\\nthe affair at Namur will soon be a century gone. Of those engaged in\\nit, the last obeyed the fell sergeant\\'s summons a half score years ago.\\nIt seems remote; but at the time of which I speak Waterloo was\\nappreciably nearer those in active life than are Shiloh and Gettysburg\\nnow. The Waterloo campaign was then but thirty-eight years removed,\\nwhereas those last are fifty now; and, while Lieber was at Waterloo, I\\nwas myself at Gettysburg.\\n\\n[2] DeLeon, \"Belles, Beaux and Brains of the Sixties,\" p. 158.\\n\\nSubsequently, later in life, it was again my privilege to hold close\\nrelations with another Columbian,--an alumnus of this University as it\\nthen was--in whom I had opportunity to study some of the strongest and\\nmost respect-commanding traits of the Southern character. I refer to one\\nhere freshly remembered,--Alexander Cheves Haskell,--soldier, jurist,\\nbanker and scholar, one of a septet of brothers sent into the field by a\\nSouth Carolina mother calm and tender of heart, but in silent suffering\\nunsurpassed by any recorded in the annals whether of Judea or of Rome.\\nIt was the fourth of the seven Haskells I knew, one typical throughout,\\nin my belief, of what was best in your Carolinian development. With him,\\nas I have said, I was closely and even intimately associated through\\nyears, and in him I had occasion to note that almost austere type\\nrepresented in its highest development in the person and attributes of\\nCalhoun. Of strongly marked descent, Haskell was, as I have always\\nsupposed, of a family and race in which could be observed those virile\\nScotch-Irish and Presbyterian qualities which found their\\nrepresentative types in the two Jacksons,--Andrew, and him known in\\nhistory as \"Stonewall.\" To Alec Haskell I shall in this discourse again\\nhave occasion to refer.\\n\\nThus, though in 1853, and for long years subsequent thereto, it would\\nnot have entered my mind as among the probabilities that I should ever\\nstand here, reviewing the past after the manner of Tennyson in his\\n\"Locksley Hall Sixty Years After,\" yet if there was any place in the\\nSouth, or, I may say, in the entire country, where, as a matter of\\nassociation, I might naturally have looked so to stand, it would have\\nbeen where now I find myself.\\n\\nBut I must hasten on; for, as I have said, if I am to accomplish even a\\npart of my purpose, I have no time wherein to linger.\\n\\nNot long ago I chanced, in a country ramble, to be conversing with an\\neminent foreigner, known, and favorably known, to all Americans. In the\\ncourse of leisurely exchange of ideas between us, he suddenly asked if I\\ncould suggest any explanation of the fact that not only were the\\npublicists who had the greatest vogue in our college days now to a large\\nextent discredited, but that almost every view and theory advanced by\\nthem, and which we had accepted as fixed and settled, was, where not\\nactually challenged, silently ignored. Nor did the assertion admit of\\ndenial; for, looking back through the vista of threescore years, of the\\nprinciples of what may be called \"public polity\" then advanced as\\nindisputable, few to-day meet with general acceptance. To review the\\nrecord from this point of view is curious.\\n\\nWhen in 1853 I entered Harvard, so far as this country and its polity\\nwere concerned certain things were matters of contention, while others\\nwere accepted as axiomatic,--the basic truths of our system. Among the\\nformer--the subjects of active contention--were the question of Slavery,\\nthen grimly assuming shape, and that of Nationality intertwined\\ntherewith. Subordinate to this was the issue of Free Trade and\\nProtection, with the school of so-called American political economy\\narrayed against that of Adam Smith. Beyond these as political ideals\\nwere the tenets and theories of Jeffersonian Democracy. That the world\\nhad heretofore been governed too much was loudly acclaimed, and the\\nlargest possible individualism was preached, not only as a privilege but\\nas a right. The area of government action was to be confined within the\\nnarrowest practical limits, and ample scope was to be allowed to each to\\ndevelop in the way most natural to himself, provided only he did not\\ninfringe upon the rights of others. Materially, we were then reaching\\nout to subdue a continent,--a doctrine of Manifest Destiny was in vogue.\\nBeyond this, however, and most important now to be borne in mind,\\ncompared with the present the control of man over natural agencies and\\nlatent forces was scarcely begun. Not yet had the railroad crossed the\\nMissouri; electricity, just bridled, was still unharnessed.\\n\\nI have now passed in rapid review what may perhaps without exaggeration\\nbe referred to as an array of conditions and theories, ideals and\\npolicies. It remains to refer to the actual results which have come\\nabout during these sixty years as respects them, or because of them;\\nand, finally, to reach if possible conclusions as to the causes which\\nhave affected what may not inaptly be termed a process of general\\nevolution. Having thus, so to speak, diagnosed the situation, the\\nchanges the situation exacts are to be measured, and a forecast\\nventured. An ambitious programme, I am well enough aware that the not\\nvery considerable reputation I have established for myself hardly\\nwarrants me in attempting it. This, I premise.\\n\\nLet us, in the first place, recur in somewhat greater detail to the\\nvarious policies and ideals I have referred to as in vogue in the\\nyear 1853.\\n\\nFirst and foremost, overshadowing all else, was the political issue\\nraised by African slavery, then ominously assuming shape. The clouds\\nforeboding the coming tempest were gathering thick and heavy; and,\\nmoreover, they were even then illumined by electric flashes, accompanied\\nby a mutter of distant thunder. Though we of the North certainly did not\\nappreciate its gravity, the situation was portentous in the extreme.\\n\\nInvolved in this problem of African slavery was the incidental issue of\\nFree Trade and Protection,--apparently only economical and industrial in\\ncharacter, but in reality fundamentally crucial. And behind this lay\\nthe constitutional question, involving as it did not only the\\nconflicting theories of a strict or liberal construction of the\\nfundamental law, but nationality also,--the right of a Sovereign State\\nto withdraw from the Union created in 1787, and developed through two\\ngenerations.\\n\\nThese may be termed concrete political issues, as opposed to basic\\ntruths generally accepted and theories individually entertained. The\\ntheories were constitutional, social, economical. Constitutionally, they\\nturned upon the obligations of citizenship. There was no such thing then\\nas a citizen of the United States of and by itself. The citizen of the\\nUnited States was such simply because of his citizenship of a Sovereign\\nState,--whether Massachusetts or Virginia or South Carolina; and, of\\ncourse, an instrument based upon a divided sovereignty admitted of\\nalmost infinitely diverse interpretation. It is a scriptural aphorism\\nthat no man can serve two masters; for either he will hate the one and\\nlove the other, or else he will hold to the one and despise the other.\\nAnd in the fulness of time it literally with us so came about. The\\naccepted economical theories of the period were to a large extent\\ncorollaries of the fundamental proposition, and differing material and\\nsocial conditions. Beyond all this, and coming still under the head of\\nindividual theories, was the doctrine enunciated by Thomas Jefferson in\\nthe Declaration of Independence,--the doctrine that all men were created\\nequal,--meaning, of course, equal before the law. But the theorist and\\nhumanitarian of the North, accepting the fundamental principle laid down\\nin the Declaration, gave to it a far wider application than had been\\nintended by its authors,--a breadth of application it would not bear.\\nSuch science as he had being of scriptural origin, he interpreted the\\nword \"equal\" as signifying equal in the possibilities of their\\nattributes,--physical, moral, intellectual; and in so doing, he of\\ncourse ignored the first principles of ethnology. It was, I now realize,\\na somewhat wild-eyed school of philosophy, that of which I myself was a\\nyouthful disciple.\\n\\nBut, on the other hand, beside these, between 1850 and 1860 a class of\\ntrained and more cautious thinkers, observers, scientists and\\ntheologians was coming to the front. Their investigations, though we did\\nnot then foresee it, were a generation later destined gently to subvert\\nthe accepted fundamentals of religious and economical thought, literary\\nperformance, and material existence. The work they had in hand to do was\\nfor the next fifteen years to be subordinate, so far as this country was\\nconcerned, to the solution of the terrible political problems which were\\nfirst insistent on settlement; yet, as is now apparent, an initial\\nmovement was on foot which foreboded a revolution world-wide in its\\nnature, and one in comparison with which the issues of slavery and\\nAmerican constitutionality became practically insignificant,--in a word,\\nlocal and passing incidents.\\n\\nFinally, it remains to consider specifically the political theories\\nthen in vogue in their relation to the individual. In this country, it\\nwas the period of the equality of man and individuality in the\\ndevelopment of the type. It was generally believed that the world had\\nhitherto been governed too much,--that the day of caste, and even class,\\nwas over and gone; and finally, that America was a species of vast\\nmodern melting-pot of humanity, in which, within a comparatively short\\nperiod of time, the characteristics of all branches of Indo-Aryan origin\\nwould resolve themselves. A new type would emerge,--the American. These\\ntheories were also in their consequences far-reaching. Practically, 1853\\nantedates all our present industrial organizations so loudly in\\nevidence,--the multifarious trades-unions which now divide the\\npopulation of the United States into what are known as the \"masses\" and\\nthe \"classes.\" As recently as a century ago, it used to be said of the\\nFrench army under the Empire, that every soldier carried the baton of\\nthe Field-Marshal in his knapsack. And this ideal of equality and\\nindividuality was fixed in the American mind.\\n\\nNot that I for a moment mean to imply that in my belief the middle of\\nthe last century, or the twenty years anterior to the Civil War, was a\\nspecies of golden age in our American annals. On the contrary, it was,\\nas I remember it, a phase of development very open to criticism; and\\nthat in many respects. It was crude, self-conscious and self-assertive;\\nprovincial and formative, rather than formed. Socially and materially\\nwe were, compared with the present era of motors and parlor-cars, in the\\n\"one-hoss shay\" and stove-heated railroad-coach stage. Nevertheless,\\nwhat is now referred to as \"predatory wealth\" had not yet begun to\\naccumulate in few hands; much greater equality of condition prevailed;\\nnor was the \"wage-earner\" referred to as constituting a class distinct\\nfrom the holders of property. Thus the individual was then\\nencouraged,--whether in literature, in commerce, or in politics. In\\nother words, there being a free field, one man was held to be in all\\nrespects the equal of the rest. Especially was what I have said true of\\nthe Northern, or so-called Free States, as contrasted with the States of\\nthe South, where the presence of African slavery distinctly affected\\nindividual theories, no matter where or to what extent entertained.\\n\\nSuch, briefly and comprehensively stated, having been the situation in\\n1853, it remains to consider the practical outcome thereof during the\\nsixty years it has been my fortune to take part, either as an actor or\\nas an observer, in the great process of evolution. It is curious to note\\nthe extent to which the unexpected has come about. In the first place,\\nconsider the all-absorbing mid-century political issue, that involving\\nthe race question, to which I first referred,--the issue which divided\\nthe South from the North, and which, eight years only after I had\\nentered college, carried me from the walks of civil life into the\\ncalling of arms.\\n\\nAnd here I enter on a field of discussion both difficult and dangerous;\\nand, for reasons too obvious to require statement, what I am about to\\nsay will be listened to with no inconsiderable apprehension as to what\\nnext may be forthcoming. Nevertheless, this is a necessary part of my\\ntheme; and I propose to say what I have in mind to say, setting forth\\nwith all possible frankness the more mature conclusions reached with the\\npassage of years. Let it be received in the spirit in which it\\nis offered.\\n\\nSo far, then, as the institution of slavery is concerned, in its\\nrelations to ownership and property in those of the human species,--I\\nhave seen no reason whatever to revise or in any way to alter the\\ntheories and principles I entertained in 1853, and in the maintenance of\\nwhich I subsequently bore arms between 1861 and 1865. Economically,\\nsocially, and from the point of view of abstract political justice, I\\nhold that the institution of slavery, as it existed in this country\\nprior to the year 1865, was in no respect either desirable or\\njustifiable. That it had its good and even its elevating side, so far at\\nleast as the African is concerned, I am not here to deny. On the\\ncontrary, I see and recognize those features of the institution far more\\nclearly now than I should have said would have been possible in 1853.\\nThat the institution in itself, under conditions then existing, tended\\nto the elevation of the less advanced race, I frankly admit I did not\\nthen think. On the other hand, that it exercised a most pernicious\\ninfluence upon those of the more advanced race, and especially upon\\nthat large majority of the more advanced race who were not themselves\\nowners of slaves,--of that I have become with time ever more and more\\nsatisfied. The noticeable feature, however, so far as I individually am\\nconcerned, has been the entire change of view as respects certain of the\\nfundamental propositions at the base of our whole American political and\\nsocial edifice brought about by a more careful and intelligent\\nethnological study. I refer to the political equality of man, and to\\nthat race absorption to which I have alluded,--that belief that any\\nforeign element introduced into the American social system and body\\npolitic would speedily be absorbed therein, and in a brief space\\nthoroughly assimilated. In this all-important respect I do not hesitate\\nto say we theorists and abstractionists of the North, throughout that\\nlong anti-slavery discussion which ended with the 1861 clash of arms,\\nwere thoroughly wrong. In utter disregard of fundamental, scientific\\nfacts, we theoretically believed that all men--no matter what might be\\nthe color of their skin, or the texture of their hair--were, if placed\\nunder exactly similar conditions, in essentials the same. In other\\nwords, we indulged in the curious and, as is now admitted, utterly\\nerroneous theory that the African was, so to speak, an Anglo-Saxon, or,\\nif you will, a Yankee \"who had never had a chance,\"--a fellow-man who\\nwas guilty, as we chose to express it, of a skin not colored like our\\nown. In other words, though carved in ebony, he also was in the image\\nof God.\\n\\nFollowing out this theory, under the lead of men to whom scientific\\nanalysis and observation were anathema if opposed to accepted cardinal\\npolitical theories as enunciated in the Declaration as read by them, the\\nAfrican was not only emancipated, but so far as the letter of the law,\\nas expressed in an amended Constitution, would establish the fact, the\\nquondam slave was in all respects placed on an equality, political,\\nlegal and moral, with those of the more advanced race.\\n\\nI do not hesitate here,--as one who largely entertained the theoretical\\nviews I have expressed,--I do not hesitate here to say, as the result of\\nsixty years of more careful study and scientific observation, the\\ntheories then entertained by us were not only fundamentally wrong, but\\nthey further involved a problem in the presence of which I confess\\nto-day I stand appalled.\\n\\nIt is said,--whether truthfully or not,--that when some years ago John\\nMorley, the English writer and thinker, was in this country, on\\nreturning to England he remarked that the African race question, as now\\nexisting in the United States, presented a problem as nearly, to his\\nmind, insoluble as any human problem well could be. I do not care\\nwhether Lord Morley made this statement or did not make it. I am\\nprepared, however, to say that, individually, so far as my present\\njudgment goes, it is a correct presentation. To us in the North, the\\nAfrican is a comparatively negligible factor. So far as Massachusetts,\\nfor instance, or the city of Boston more especially, are concerned, as\\na problem it is solving itself. Proportionately, the African infusion is\\nbecoming less--never large, it is incomparably less now than it was in\\nthe days of my own youth. Thus manifestly a negligible factor, it is\\nalso one tending to extinction. Indeed, it would be fairly open to\\nquestion whether a single Afro-American of unmixed Ethiopian descent\\ncould now be found in Boston. That the problem presents itself with a\\nwholly different aspect here in Carolina is manifest. The difference too\\nis radical; it goes to the heart of the mystery.\\n\\nAs I have already said, the universal \"melting-pot\" theory in vogue in\\nmy youth was that but seven, or at the most fourteen, years were\\nrequired to convert the alien immigrant--no matter from what region or\\nof what descent--into an American citizen. The educational influences\\nand social environment were assumed to be not only subtle, but\\nall-pervasive and powerful. That this theory was to a large and even\\ndangerous extent erroneous the observation of the last fifty years has\\nproved, and our Massachusetts experience is sadly demonstrating to-day.\\nIt was Oliver Wendell Holmes, who, years ago, when asked by an anxious\\nmother at what age the education of a child ought to begin, remarked in\\nreply that it should begin about one hundred and fifty years before the\\nchild is born. It has so proved with us; and the fact is to-day in\\nevidence that this statement of Dr. Holmes should be accepted as an\\nundeniable political aphorism. So far from seven or fourteen years\\nmaking an American citizen, fully and thoroughly impregnated with\\nAmerican ideals to the exclusion of all others, our experience is that\\nit requires at least three generations to eliminate what may be termed\\nthe \"hyphen\" in citizenship. Not in the first, nor in the second, and\\nhardly in the third, generation, does the immigrant cease to be an\\nIrish-American, or a French-American, or a German-American, or a\\nSlavonic-American, or yet a Dago. Nevertheless, in process of tune,\\nthose of the Caucasian race do and will become Americans. Ultimately\\ntheir descendants will be free from the traditions and ideals, so to\\nspeak, ground in through centuries passed under other conditions. Not so\\nthe Ethiopian. In his case, we find ourselves confronted with a\\nsituation never contemplated in that era of political dreams and\\nscriptural science in which our institutions received shape. Stated\\ntersely and in plain language, so far as the African is concerned--the\\ncause and, so to speak, the motive of the great struggle of 1861 to\\n1865--we recognize the presence in the body politic of a vast alien mass\\nwhich does not assimilate and which cannot be absorbed. In other words,\\nthe melting-pot theory came in sharp contact with an ethnological fact,\\nand the unexpected occurred. The problem of African servitude was solved\\nafter a fashion; but in place of it a race issue of most uncompromising\\ncharacter evolved itself.\\n\\nA survivor of the generation which read \"Uncle Tom\\'s Cabin\" as it week\\nby week appeared,--fresh to-day from Massachusetts with its Lawrence\\nrace issues of a different character, I feel a sense of satisfaction in\\ndiscussing here in South Carolina this question and issue in a spirit\\nthe reverse of dogmatic, a spirit purely scientific, observant and\\nsympathetic. And in this connection let me say I well remember\\nrepeatedly discussing it with your fellow-citizen and my friend, Colonel\\nAlexander Haskell, to whom I have already made reference. Rarely have I\\nbeen more impressed by a conclusion reached and fixed in the mind of one\\nwho to the study of a problem had obviously given much and kindly\\nthought. As those who knew him do not need to be told, Alexander Cheves\\nHaskell was a man of character, pure and just and thoughtful. He felt\\ntowards the African as only a Southerner who had himself never been the\\nowner of slaves can feel. He regarded him as of a less advanced race\\nthan his own, but one who was entitled not only to just and kindly\\ntreatment but to sympathetic consideration. When, however, the question\\nof the future of the Afro-American was raised, as matter for abstract\\ndiscussion, it was suggestive as well as curious to observe the fixed,\\nhard expression which immediately came over Haskell\\'s face, as with\\nstern lips, from which all suggestion of a smile had faded away, he\\npronounced the words:--\"Sir, it is a dying race!\" To express the thought\\nmore fully, Colonel Haskell maintained, as I doubt not many who now\\nlisten to me will maintain, that the nominal Afro-American increase, as\\nshown in the figures of the national census, is deceptive,--that in\\npoint of fact, the Ethiop in America is incurring the doom which has\\never befallen those of an inferior and less advanced race when brought\\nin direct and immediate contact, necessarily and inevitably competitive,\\nwith the more advanced, the more masterful, and intellectually the more\\ngifted. In other words, those of the less advanced race have a fatal\\naptitude for contracting the vices, both moral and physical, of the\\nsuperior race, in the end leading to destruction; while the capacity for\\nassimilating the elevating qualities and attributes which constitute a\\nsaving grace is denied them. Elimination, therefore, became in Haskell\\'s\\nbelief a question of time only,--the law of the survival of the fittest\\nwould assert itself. The time required may be long,--numbered by\\ncenturies; but, however remotely, it nevertheless would come. God\\'s mill\\ngrinds slowly, but it grinds uncommon small; and, I will add, its\\ngrinding is apt to be merciless.\\n\\nThe solution thus most pronouncedly laid down by Colonel Haskell may or\\nmay not prove in this case correct and final. It certainly is not for\\nme, coming from the North, to undertake dogmatically to pass upon it. I\\nrecur to it here as a plausible suggestion only, in connection with my\\ntheme. As such, it unquestionably merits consideration. I am by no means\\nprepared to go the length of an English authority in recently saying\\nthat \"emancipation on two continents sacrificed the real welfare of the\\nslave and his intrinsic worth as a person, to the impatient vanity of\\nan immediate and theatrical triumph.\"[3] This length I say, I cannot go;\\nbut so far as the present occasion is concerned, with such means of\\nobservation as are within my reach, I find the conclusion difficult to\\nresist that the success of the abolitionists in effecting the\\nemancipation of the Afro-American, as unexpected and sweeping as it was\\nsudden, has led to phases of the race problem quite unanticipated at\\nleast. For instance, as respects segregation. Instead of assimilating,\\nwith a tendency to ultimate absorption, the movement in the opposite\\ndirection since 1865 is pronounced. It has, moreover, received the final\\nstamp of scientific approval. This implies much; for in the old days of\\nthe \"peculiar institution\" there is no question the relations between\\nthe two races were far more intimate, kindly, and even absorptive than\\nthey now are.\\n\\nThat African slavery, as it existed in the United States anterior to the\\nyear 1862, presented a mild form of servitude, as servitude then existed\\nand immemorially had almost everywhere existed, was, moreover,\\nincontrovertibly proven in the course of the Civil War. Before 1862, it\\nwas confidently believed that any severe social agitation within, or\\ndisturbance from without, would inevitably lead to a Southern servile\\ninsurrection. In Europe this result was assumed as of course; and,\\nimmediately after it was issued, the Emancipation Proclamation of President\\n[3] Bussell\\'s (Dr. F.W.) \"Christian Theology and Social Progress.\"\\nBampton Lectures, 1905. Lincoln was denounced in unmeasured terms by\\nthe entire London press. Not a voice was raised in its defence. It was\\nregarded as a measure unwarranted in civilized warfare, and a sure and\\nintentional incitement to the horrors which had attended the servile\\ninsurrections of Haiti and San Domingo; and, more recently, the\\nunspeakable Sepoy incidents of the Indian mutiny. What actually occurred\\nis now historic. The confident anticipations of our English brethren\\nwere, not for the first time, negatived; nor is there any page in our\\nAmerican record more creditable to those concerned than the attitude\\nheld by the African during the fierce internecine struggle which\\nprevailed between April, 1861, and April, 1865. In it there is scarcely\\na trace, if indeed there is any trace at all, of such a condition of\\naffairs as had developed in the Antilles and in Hindustan. The attitude\\nof the African towards his Confederate owner was submissive and kindly.\\nAlthough the armed and masterful domestic protector was at the front and\\nengaged in deadly, all-absorbing conflict, yet the women and children of\\nthe Southern plantation slept with unbarred doors,--free from\\napprehension, much more from molestation.\\n\\nMoreover, as you here well know, during the old days of slavery there\\nwas hardly a child born, of either sex, who grew up in a Southern\\nhousehold of substantial wealth without holding immediate and most\\naffectionate relations with those of the other race. Every typical\\nSouthern man had what he called his \"daddy\" and his \"mammy,\" his\\n\"uncle\" and his \"aunty,\" by him familiarly addressed as such, and who\\nwere to him even closer than are blood relations to most. They had cared\\nfor him in his cradle; he followed them to their graves. Is it needful\\nfor me to ask to what extent such relations still exist? Of those born\\nthirty years after emancipation, and therefore belonging distinctly to a\\nlater generation, how many thus have their kindly, if humble, kin of the\\nAfrican blood? I fancy I would be safe in saying not one in twenty.\\n\\nHere, then, as the outcome of the first great issue I have suggested as\\noccupying the thought and exciting the passions of that earlier period,\\nis a problem wholly unanticipated,--a problem which, merely stating,\\nI dismiss.\\n\\nPassing rapidly on, I come to the next political issue which presented\\nitself in my youth,--the constitutional issue,--that of State\\nSovereignty, as opposed to the ideal, Nationality. And, whether for\\nbetter or worse, this issue, I very confidently submit, has been\\nsettled. We now, also, looking at it in more observant mood, in a spirit\\nat once philosophical and historical, see that it involved a process of\\nnatural evolution which, under the conditions prevailing, could hardly\\nresult in any other settlement than that which came about. We now have\\ncome to a recognition of the fact that Anglo-Saxon nationality on this\\ncontinent was a problem of crystallization, the working out of which\\noccupied a little over two centuries. It was in New England the process\\nfirst set in, when, in 1643, the scattered English-speaking settlements\\nunder the hegemony of the colony of Massachusetts Bay united in a\\nconfederation. It was the initial step. I have no time in which to\\nenumerate successive steps, each representing a stage in advance of what\\nwent before. The War of Independence,--mistakenly denominated the\\nRevolutionary War, but a struggle distinctly conservative in character,\\nand in no way revolutionary,--the War of Independence gave great impetus\\nto the process, resulting in what was known as Federation. Then came the\\nConstitution of 1787 and the formation of the, so called, United States\\nas a distinct nationality. The United States next passed through two\\ndefinite processes of further crystallization,--one in 1812-1814, when\\nthe second war with Great Britain, and more especially our naval\\nvictories, kindled, especially in the North, the fire of patriotism and\\nthe conception of nationality; the other, half a century later,\\npresented the stern issue in a concrete form, and at last the complete\\nunification of a community--whether for better or for worse is no\\nmatter--was hammered by iron and cemented in blood. It is there now; an\\nestablished fact. Secession is a lost cause; and, whether for good or\\nfor ill, the United States exists, and will continue to exist, a unified\\nWorld Power. Sovereignty now rests at Washington, and neither in\\nColumbia for South Carolina nor in Boston for Massachusetts. The State\\nexists only as an integral portion of the United States. That issue has\\nbeen fought out. The result stands beyond controversy; brought about by\\na generation now passed on, but to which I belonged.\\n\\nMeanwhile, the ancient adage, the rose is not without its thorn,\\nreceives new illustration; for even this great result has not been\\nwrought without giving rise to considerations suggestive of thought.\\nSpeaking tersely and concentrating what is in my mind into the fewest\\npossible words, I may say that in our national growth up to the year\\n1830 the play of the centrifugal forces predominated,--that is, the\\nnecessity for greater cohesion made itself continually felt. A period of\\nquiescence then followed, lasting until, we will say, 1865. Since 1865,\\nit is not unsafe to say, the centripetal, or gravitating, force has\\npredominated to an extent ever more suggestive of increasing political\\nuneasiness. It is now, as is notorious, more in evidence than ever\\nbefore. The tendency to concentrate at Washington, the demand that the\\ncentral government, assuming one function after another, shall become\\nimperial, the cry for the national enactment of laws, whether relating\\nto marital divorce or to industrial combinations,--all impinge on the\\nfundamental principle of local self-government, which assumed its\\nhighest and most pronounced form in the claim of State Sovereignty. I am\\nnow merely stating problems. I am not discussing the political ills or\\nsocial benefits which possibly may result from action. Nevertheless,\\nall, I think, must admit that the tendency to gravitation and\\nattraction is to-day as pronounced and as dangerous, especially in the\\nindustrial communities of the North, as was the tendency to separation\\nand segregation pronounced and dangerous seventy years ago in the South.\\n\\nTo this I shall later return. I now merely point out what I apprehend to\\nbe a tendency to extremes--an excess in the swinging of our\\npolitical pendulum.\\n\\nWe next come to that industrial factor which I have referred to as the\\nissue between the Free Trade of Adam Smith and Protection, as inculcated\\nby the so-called American school of political economists. The phases\\nwhich this issue has assumed are, I submit, well calculated to excite\\nthe attention of the observant and thoughtful. I merely allude to them\\nnow; but, in so far as it is in my power to make it so, my allusion will\\nbe specific. I frankly acknowledge myself a Free-Trader. A Free-Trader\\nin theory, were it in my power I would be a Free-Trader in national\\npractice. There has been, so far as I know, but one example of absolute\\nfree trade on the largest scale in world history. That one example,\\nmoreover, has been a success as unqualified as undeniable. I refer to\\nthis American Union of ours. We have here a country consisting of fifty\\nlocal communities, stretching from the Atlantic to the Pacific, from\\ntropical Porto Rico to glacial Alaska, representing every conceivable\\nphase of soil, climate and material conditions, with diverse industrial\\nsystems. With a Union established on the principle of absolutely\\nunrestricted commercial intercourse, you here in South Carolina, and\\nmore especially in Columbia, are to-day making it, so to speak,\\nuncomfortable for the cotton manufacturer in New England; and I am glad\\nof it! A sharp competition is a healthy incentive to effort and\\ningenuity, and the brutal injunction, \"Root hog or die!\" is one from\\nwhich I in no way ask to have New England exempt. When Massachusetts is\\nno longer able to hold its own industrially in a free field, the time\\nwill, in my judgment, have come for Massachusetts to go down. With\\ncommunities as with children, paternalism reads arrested development.\\nOne of the great products of Massachusetts has been what is generically\\nknown as \"footwear.\" Yet I am told that under the operation of absolute\\nFree Trade, St. Louis possesses the largest boot and shoe factory in its\\noutput in the entire world. That is, the law of industrial development,\\nas natural conditions warrant and demand, has worked out its results;\\nand those results are satisfactory. I am aware that the farmer of\\nMassachusetts has become practically extinct; he cannot face the\\ncompetition of the great West: but the Massachusetts consumer is greatly\\nadvantaged thereby. So far as agricultural products are concerned,\\nMassachusetts is to-day reduced to what is known as dairy products and\\ngarden truck; and it is well! Summer vegetables manufactured under glass\\nin winter prove profitable. So, turning his industrial efforts to that\\nwhich he can do best, even the Massachusetts agriculturalist has\\nprospered. On the other hand, wherever in this country protection has\\nbeen most completely applied, I insist that if its results are analyzed\\nin an unprejudiced spirit, it will be pronounced to have worked\\nunmitigated evil,--an unhealthy, because artificially stimulated and too\\nrapid, growth. Let Lawrence, in Massachusetts, serve as an example. Look\\nat the industrial system there introduced in the name of Protection\\nagainst the Pauper Labor of Europe! No growth is so dangerous as a too\\nrapid growth; and I confidently submit that politically, socially,\\neconomically and industrially, America to-day, on the issues agitating\\nus, presents an almost appalling example of the results of hot-house\\nstimulation.\\n\\nNor is this all, nor the worst. There is another article, and far more\\ndamaging, in the indictment. Through Protection, and because of it,\\nPaternalism has crept in; and, like a huge cancerous growth, is eating\\nsteadily into the vitals of the political system. Instead of supporting\\na government economically administered by money contributed by the\\nPeople, a majority of the People to-day are looking to the government\\nfor support, either directly through pension payments or indirectly\\nthrough some form of industrial paternalism. Incidentally, a profuse\\npublic expenditure is condoned where not actually encouraged.\\nJeffersonian simplicity is preached; extravagance is practised. As the\\nNew York showman long since shrewdly observed: \"The American people\\nlove to be fooled!\"\\n\\nBut I must pass on; I still have far to go. As respects legislation, I\\nhave said that sixty years ago, when my memories begin, the American\\nideal was the individual, and individuality. This, implied adherence to\\nthe Jeffersonian theory that heretofore the world had been governed too\\nmuch. The great secret of true national prosperity, happiness and\\nsuccess was, we were taught, to allow to each individual the fullest\\npossible play, provided only he did not infringe on the rights of\\nothers. How is it to-day? America is the most governed and legislated\\ncountry in the world! With one national law-making machine perpetually\\nat work grinding out edicts, we have some fifty provincial mills engaged\\nin the same interesting and, to my mind, pernicious work. No one who has\\ngiven the slightest consideration to the subject will dispute the\\nproposition that, taking America as a whole, we now have twenty acts of\\nlegislation annually promulgated, and with which we are at our peril\\nsupposed to be familiar, where one would more than suffice. Then we\\nwonder that respect for the law shows a sensible decrease! The better\\noccasion for wonder is that it survives at all. We are both legislated\\nand litigated out of all reason.\\n\\nPassing to the other proposition of individuality, there has been, as\\nall men know and no one will dispute, a most perceptible tendency of\\nlate years towards what is known as the array of one portion of the\\ncommunity--the preponderating, voting portion--against another--the more\\nostentatious property-holding portion. It is the natural result, I may\\nsay the necessary as well as logical outcome, of a period of too rapid\\ngrowth,--production apportioned by no rule or system other or higher\\nthan greed and individual aptitude for acquisition. I will put the\\nresulting case in the most brutal, and consequently the clearest, shape\\nof which I am capable. Working on the combined theories of individualism\\ncontrolled and regulated by competition, it has been one grand game of\\ngrab,--a process in which the whole tendency of our legislation,\\nnational or state, has during the last twenty years been, first, to\\ncreate monopolies of capital and, later, to bring into existence a\\ncounter, but no less privileged, class, known as the \"wage-earner.\"\\n\\nOf the first class it is needless to speak, for, as a class, it is\\nsufficiently pilloried by the press and from the hustings. Much in\\nevidence, those prominent in it are known as the possessors of\\n\"predatory wealth\"; \"unjailed malefactors,\" they are subjects of\\ncontinuous \"grilling\" in the congressional and legislative committee\\nrooms. The effort to make them \"disgorge\" is as continual as it is\\nnoisy, and, as a rule, futile. It constitutes a curious and in some\\nrespects instructive exhibition of misdirected popular feeling and\\nlegislative incompetence. None the less, the existence of a monopolist\\nclass calls for no proof at the bar of public opinion. Not so the other\\nand even more privileged class,--the so-called \"wage-earner\"; for,\\ndisguise it as the trades-unionist will, angrily deny it as he does, the\\nfact remains that to-day under the operation of our jury system and of\\nour laws, the Wage-earner and the member of the Trades-Union has become,\\nas respects the rest of the community, himself a monopolist and,\\nmoreover, privileged as such. Practically, crimes urged and even\\nperpetrated in behalf of so-called \"labor\" receive at the hands of\\njuries, and also not infrequently of courts, an altogether excessive\\ndegree of merciful consideration. At the same time, both here and in\\nEurope Organized Labor is instant in its demand that immunity, denied\\nto ordinary citizens, and those whom it terms \"the classes,\" shall by\\nspecial exemption be conferred upon the Labor Union and upon the\\nWage-earner. The tendency on both sides and at each extreme to\\ninequality in the legislature and before the law is thus manifest.\\n\\nViewing conditions face to face and as they now are, no thoughtful\\nobserver can, in my judgment, avoid the conviction that, whether for\\ngood or ill, for better or for worse, this country as a community has,\\nwithin the last thirty years--that is, we will say, since our centennial\\nyear, 1876--cast loose from its original moorings. It has drifted, and\\nis drifting, into unknown seas. Nor is this true of English-speaking\\nAmerica alone. I have already quoted Lord Morley in another connection.\\nLord Morley, however, only the other day delivered, as Chancellor of\\nManchester University, a most interesting and highly suggestive\\naddress, in which, referring to conservative Great Britain, he thus\\npictured a phase of current belief: \"Political power is described as\\nlying in the hands of a vast and mobile electorate, with scanty regard\\nfor tradition or history. Democracy, they say, is going to write its own\\nprogramme. The structure of executive organs and machinery is undergoing\\nhalf-hidden, but serious alterations. Men discover a change of attitude\\ntowards law as law; a decline in reverence for institutions as\\ninstitutions.\"\\n\\nWhile, however, the influences at work are thus general and the\\nmanifestations whether on the other side of the Atlantic or here bear a\\nstrong resemblance, yet difference of conditions and detail\\n--constitutional peculiarities, so to speak--must not be\\ndisregarded. One form of treatment may not be prescribed for all. In our\\ncase, therefore, it remains to consider how best to adapt this country\\nand ourselves to the unforeseeable,--the navigation of uncharted waters;\\nand this adaptation cannot be considered hi any correct and helpful,\\nbecause scientific, spirit, unless the cause of change is located.\\nSurface manifestations are, in and of themselves, merely deceptive. A\\nphysician, diagnosing the chances of a patient, must first correctly\\nascertain, or at least ascertain with approximate correctness, the seat\\nof the trouble under which the patient is suffering. So, we.\\n\\nAnd here I must frankly confess to small respect for the\\npolitician,--the man whose voice is continually heard, whether from the\\nSenate Chamber or the Hustings. There is in those of his class a\\ncontinual and most noticeable tendency to what may best be described as\\nthe _post ergo propter_ dispensation. With them, the eye is fixed on the\\nimmediate manifestation. Because one event preceded another, the first\\nevent is obviously and indisputably the cause of the later event. For\\ninstance, in the present case, the cause or seat of our existing and\\nvery manifest social, political and financial disturbances is attributed\\nas of course to some peculiarity of legislation, either a subtreasury\\nbill passed in the administration of General Jackson, or a tariff bill\\npassed in the administration of Mr. Taft, or the demonetization of\\nsilver in the Hayes period,--that \"Crime of the Century,\" the\\nCrucifixion of Labor on the Cross of Gold! Once for all, let me say, I\\ncontemplate this school of politicians and so-called \"thinkers\" with\\nsentiments the reverse of respectful. In plain language, I class them\\nwith those known in professional parlance as quacks and charlatans. Not\\nalways, not even in the majority of cases, does that which preceded bear\\nto that which follows the relation of cause and effect. A marked example\\nof this false attribution is afforded in more recent political history\\nby the everlasting recurrence of the statement that American prosperity\\nis the result of an American protective system. Yet in the Protectionist\\ndispensation, this has become an article of faith. To my mind, it is\\nundeserving of even respectful consideration.\\n\\nIf I were asked the cause of that change, little short of\\nrevolutionary, if indeed in any respect short of it, which has occurred\\nin the material condition of the American people, and consequently in\\nall its theories and ideals, within the last thirty years, I should\\nattribute it to a wholly different cause. Mr. Lecky some years ago, in\\nhis book entitled \"Liberty and Democracy,\" made the following statement,\\nin no way original, but, as he put it, sufficiently striking: \"The\\nproduce of the American mines [incident to the discoveries made by\\nColumbus] created, in the most extreme form ever known in Europe, the\\nchange which beyond all others affects most deeply and universally the\\nmaterial well-being of men: it revolutionized the value of the precious\\nmetals, and, in consequence, the price of all articles, the effects of\\nall contracts, the burden of all debts.\"\\n\\nIn other words, referring to the first half of the sixteenth\\ncentury,--the sixty years, we will say, following the land-fall of\\nColumbus,--the historian attributed the great change which then occurred\\nand which stands forth so markedly in history, to the increased\\nNew-World production of the precious metals, combined with the impetus\\ngiven to trade and industry as a consequence of that discovery, and of\\nthe mastery of man over additional globe areas. Now, dismissing from\\nconsideration the so-called American protective system, likewise our\\ncurrency issues and, generally, the patchwork, so to speak, of\\ncrazy-quilt legislation to which so much is attributed during the last\\nthirty years, I confidently submit that in the production of the results\\nunder discussion, they are quantities and factors hardly worthy of\\nconsideration. The cause of the change which has taken place lies far\\ndeeper and must be sought in influences of a wholly different nature,\\ninfluences developed into an increased and still ever increasing\\nactivity, over which legislation has absolutely no control. I refer, of\\ncourse, to man\\'s mastery over the latent forces of Nature. Of these\\nSteam and Electricity are the great examples, which, because always\\napparent, at once strike the imagination. These, as tools, it is to be\\nremembered, date practically from within one hundred years back. It may,\\nindeed, safely be asserted that up to 1815, the end of the Wars of\\nNapoleon and the time of your Professor Lieber, steam even had not as\\nyet practically affected the operations of man, while electricity, when\\nnot a terror, was as yet but a toy. Commerce was still exclusively\\ncarried on by the sailing ship and canal-boat. The years from the fall\\nof Napoleon to our own War of Secession--from Waterloo to\\nGettysburg--were practically those of early and partial development. Not\\nuntil well after Appomattox, that is, since the year 1870,--a period\\ncovering but little more than the life of a generation,--did what is\\nknown to you here as the Applied Sciences cover a range difficult to\\nspecialize. As factors in development, it is safe to say that those\\nthree tremendous agencies--Steam, Electricity, Chemistry--have, so to\\nspeak, worked all their noticeable results within the lifetime of the\\ngeneration born since we celebrated the Centennial of Independence. The\\nmanifestations now resulting and apparent to all are the natural outcome\\nof the use of these modern appliances, become in our case everyday\\nworking tools in the hands of the most resourceful, adaptive, ingenious\\nand energetic of communities, developing a virgin continent of\\nundreamed-of wealth. Naturally, under such conditions, the advance has\\nbeen not only general and continuous, but one of ever increasing\\ncelerity. So Protection and the Currency become flies on the fast\\nrevolving wheel!\\n\\nBut what has otherwise resulted?--An unrest, social, economical,\\npolitical. Not contentment, but a lamentation and an ancient tale of\\nwrong! We hear it in the continual cry over what is known as the\\nincreased cost of living, and feel its pressure in the higher standard\\nof living. What was considered wealth by our ancestors is to-day hardly\\ncompetence. What sufficed for luxury in our childhood barely now\\nsupplies what are known as the comforts of life. Take, for instance, the\\nmotor,--the automobile. I speak within bounds, I think, when I say there\\nare many fold more motors to-day racing over the streets, the highways\\nand the byways of America than there were one-horse wagons thirty-five\\nyears ago. Six hundred, I am told, are to be found within the immediate\\nneighborhood of Columbia; and, since I have been here I have seen in\\nyour streets just one man on horse-back! These figures and that\\nstatement tell the tale. A few years only back, every Carolinian rode\\nto town, and the motor was unknown. A single illustrative example, this\\ncould be duplicated in innumerable ways everywhere and in all walks\\nof life.\\n\\nThe result is obvious, and was inevitable. Entered on a new phase of\\nexistence, the world is not as it was in the days of Columbus, when a\\nsingle new continent was discovered containing in it what we would now\\nregard as a limited accumulation of the precious metals. It is, on the\\ncontrary, as if, in the language of Dr. Johnson, \"the potentiality of\\nwealth\" had been revealed \"beyond the dreams of avarice\"; together with\\nnot one or two, but a dozen continents, the existence and secrets of\\nwhich are suddenly laid bare. The Applied Sciences have been the\\nmagicians,--not Protection or the Currency.\\n\\nAnd still scientists are continually dinning in our ears the question\\nwhether this state of affairs is going to continue,--whether the era of\\ndisturbance has reached its limit! I hold such a question to be little\\nshort of childish. That era has not reached its limits, nor has it even\\napproximated those limits. On the contrary, we have just entered on the\\nuncharted sea. We know what the last thirty years have brought about as\\nthe result of the agencies at work; but as yet we can only dimly dream\\nof what the next sixty years are destined to see brought about.\\nImagination staggers at the suggestion.\\n\\nWhat, then, has been of this the inevitable consequence,--the\\nconsequence which even the blindest should have foreseen? It has\\nresulted in all those far-reaching changes suggested in the earlier part\\nof what I have said to-day, as respects our ideals, our political\\ntheories, our social conditions. In other words, the old era is ended;\\nwhat is implied when we say a new era is entered upon?\\n\\nTo attempt a partial answer to the query implies no claim to a prophetic\\nfaculty. Whether we like to face the fact or not, far-reaching changes\\nin our economical theories and social conditions are imminent, involving\\ncorresponding readjustments in our constitutional arrangements and\\npolitical machinery. Tennyson foreshadowed it all in his \"Locksley Hall\"\\nseventy years ago:--\"The individual withers, and the world is more and\\nmore.\" The day of individualism as it existed in the American ideal of\\nsixty years since is over; that of collectivism and possibly socialism\\nhas opened. The day of social equality is relegated to what may be\\nconsidered a somewhat patriarchal past,--that patriarchal past having\\ncome to a close during the memory of those still in active life.\\n\\nAnd yet, though all this can now be studied in the political discussion\\nendlessly dragging on, strangely and sadly enough that discussion\\ncarries in it hardly a note of encouragement. It is, in a word,\\nunspeakably shallow. And here, having sufficiently for my present\\npurpose though in hurried manner, diagnosed the situation,--located the\\nseat of disturbance,--we come to the question of treatment. Involving,\\nas it necessarily does, problems of the fundamental law, and a\\nrearrangement and different allocation of the functions of government,\\nthis challenges the closest thought of the publicist. That the problem\\nis here crying aloud for solution is apparent. The publications which\\ncumber the counters of our book-stores, those for which the greatest\\npopular call to-day exists--treatises relating to trade interests, to\\ncollectivism, to socialism, even to anarchism--tell the tale in part; in\\npart it is elsewhere and otherwise told. Only recently, in once Puritan\\nMassachusetts, processions paraded the streets carrying banners marked\\nwith this device, more suggestive than strange:--\"No master and no God!\"\\n\\nWhat are the remedies popularly proposed? In that important branch of\\npolity known as Political Ethics, or, as he termed them, Hermeneutics,\\nwhich your Professor Lieber sixty years ago endeavored to treat of, what\\nadvance has since his time been effected?--Nay! what advance has been\\neffected since the time, over two thousand years, of his great\\npredecessor, Aristotle? I confidently submit that what progress is now\\nbeing made in this most erudite of sciences is in the nature of that of\\nthe crab--backwards! In the discussions of Aristotle, the problem in\\nview was, how to bring about government by the wisest,--that is, the\\nmost observant and expert. In other words, government, the object of\\npolitics, was by Aristotle treated in a scientific spirit. And this is\\nas it should be. Take, for example, any problem,--I do not care whether\\nit is legal or medical or one of engineering: How successfully dispose\\nof it? Uniformly, in one way. Those problems are successfully solved, if\\nat all, only when their solution is placed in the hands of the most\\nproficient. Judged by the discussions of to-day, what advance has in\\npolitics been effected? Do the _Outlook_ and the _Commoner_ imply\\nprogress since the Stagirite? Not to any noticeable extent. We are, on\\nthe contrary, fumbling and wallowing about where the Greek pondered and\\nphilosophized.\\n\\nDemocracy, as it is called, is to-day the great panacea,--the political\\nnostrum; as such it is confidently advocated by statesmen and professors\\nand even by the presidents of our institutions of the advanced\\neducation. \"Trust the People\" is the shibboleth! \"Let the People rule!\"\\n\"The cure for too much Liberty is more Liberty!\" To Democracy plain and\\nsimple--Composite Wisdom--I frankly confess I feel no call,--no call\\ngreater than, for instance, towards Autocracy or Aristocracy or\\nPlutocracy. Taken simply, and applied as hitherto applied, all and each\\nlead to but one result,--failure! And that result, let me here predict,\\nwill, in the future, be the same in the case of pure Democracy that, in\\nthe past, it was in the case of the pure Autocracy of the Caesars, or\\nthe case of the pure Aristocracy of Rome or of the so-called Republics\\nof the Middle Ages. A political edifice on shifting sands.\\n\\nYet, to-day what do we see and hear in America? Tell it not in Gath;\\npublish it not in the streets of Askalon I Two thousand years after the\\ntime of Aristotle, we see a prevailing school working directly back to\\nthe condition of affairs which existed in the Athenian agora under the\\ndisapproving eyes of the father of political philosophy. Panaceas,\\nuniversal cure-alls, and quack remedies--the Initiative, the Referendum,\\nand the Recall are paraded as if these--nostrums of the mountebanks of\\nthe county fair--would surely remedy the perplexing ills of new and\\nhitherto unheard-of social, economical, and political conditions.\\nDemocracy! What is Democracy? Democracy, as it is generally understood,\\nI submit, is nothing but the reaching of political conclusions through\\nthe frequent counting of noses; or, as Macaulay two generations ago\\nbetter phrased it, \"the majority of citizens told by the head\";--the\\nonly question at just this juncture being whether, in order to the\\narriving at more acceptable results, both sexes shall be \"told,\" instead\\nof one sex only. Moreover, I with equal confidence make bold to suggest\\nthat while conceded, and while men have even persuaded themselves that\\nthey have faith in it, and really do believe in this \"telling\" of noses\\nas the best and fairest attainable means of reaching correct results,\\nyet in so doing and so professing they simply, as men are prone to do,\\ndeceive themselves. In other words, victims of their own cant, they\\npreach a panacea in which they really do not believe. Nor of this is\\nproof far to seek. _Vox populi, vox Dei_! If you extend the application\\nof this principle by a single step, its loudest advocates draw back in\\nalarm from the inevitable. They seek refuge in the assertion--\"Oh! That\\nis different!\" For instance, take a concrete case; so best can we\\nillustrate.\\n\\nOne of the greatest scientific triumphs reached in modern times--perhaps\\nI might fairly say the greatest--is the discovery of the cause of yellow\\nfever, and its consequent control. As a result of the studies, the\\npatient experimentation and self-sacrifice of the wisest,--that is, the\\nmost observant and expert,--the amazing conclusion was reached that not\\nonly the yellow fever but the innumerable ills of the flesh known under\\nthe caption of \"malarial,\" were due to causes hitherto unsuspected,\\nthough obvious when revealed,--to the existence in the atmosphere of a\\nvenomous insect, in comparison with the work of which the ravages on\\nmankind of the entire carnivorous and reptile creation were of\\ncomparatively small account. The mosquito flew disclosed, the\\natmospheric viper,--a viper most venomous and deadly. How was the\\ndisclosure brought about? What was the remedy applied? Was the discovery\\neffected through universal suffrage? Was the remedy sought for and\\ndecided upon by the Initiative, or through a Referendum at an election\\nheld on the Tuesday succeeding the first Monday of a certain month and\\nyear? Had recourse in this case been had to the panacea now in greatest\\npolitical vogue, we all know perfectly well what would have followed.\\nHistory tells us. The quarantine, as it is called, would have been\\ndecreed, and a day of fasting, humiliation and prayer appointed. The\\nmosquito, quite ignored, would then have gone on in his deadly work. We\\nall equally well know that the man, even the politician or the\\nstatesman, who had suggested a solution of that problem by a count of\\nnoses would have been effaced with ridicule. Even the most simple minded\\nwould have rejected that method of reaching a result. Yet the ilia of\\nthe body politic, too, are complicated. Indeed, far more intricate in\\ntheir processes and more deceitful in their aspects, they more deeply\\naffect the general well-being and happiness than any ill or epidemic\\nwhich torments the physical being, even the mosquito malaria. Yet the\\nills of the body politic, the complications which surround us on every\\nside,--for these the unfailing panacea is said to lie in universal\\nsuffrage, that remedy which is immediately and of course laughed out of\\ncourt if suggested in case of the simpler ills of the flesh.\\n\\nThis, I submit, is demonstration. The true remedy is not to be sought in\\nthat direction in the one case any more than the other.\\n\\nThere is a considerable element of truth, though possibly a not\\ninconsiderable one of exaggeration, in this statement from a paper I\\nrecently chanced upon in the issue of the sober and classical _Edinburgh\\nReview_ for October last,--a paper entitled \"Democracy and\\nLiberalism\":--\"History testifies unmistakably and unanimously to the\\npassion of democracies for incompetence. There is nothing democracy\\ndislikes and suspects so heartily as technical efficiency, particularly\\nwhen it is independent of the popular vote.\" But to-day, what is\\npolitically proposed by our senatorial charlatans and the mountebanks of\\nthe market-place? The Referendum, the constant and easy Recall, the\\neverlasting Initiative are dinned into our ears as the cure-alls of\\nevery ill of the body politic. On the contrary, I submit that, while in\\nthe absence of any better method as yet devised and accepted, the\\nprocess of reaching results by a count of the \"majority told by the\\nhead\" of the citizens then present and voting has certain political\\nadvantages, yet, for all this, as a final, scientific, political\\nprocess, it is unworthy of consideration. A passing expedient, it in no\\ndegree reflects credit on twentieth-century intelligence.\\n\\nAnd now I come to the crux of my discussion. Thus rejecting results\\nreached by the ballot as now in practical use, a query is already in the\\nminds of those who listen. At once suggesting itself and flung in my\\nface, it is asked as a political poser, and not without a sneer,--What\\nelse or better have I to propose? Would I advise a return to old and\\ndiscarded methods,--Heredity, Caste, Autocracy, Plutocracy? I\\nrespectfully submit this is a question no one has a right to put, and\\none I am not called upon to answer. Again, let me take a concrete case.\\nOnce more I appeal to the yellow fever precedent. The first step towards\\na solution of a medical, as of a political, problem is a correct\\ndiagnosis. Then necessarily follows a long period devoted to\\nobservation, to investigation and experiment. If, in the case of the\\nyellow fever, a score of years only ago an observer had pointed out the\\nnature of the disease and the manifest inadequacy of current theories\\nand prevailing methods of prevention and treatment, do you think others\\nwould have had a right to turn upon him and demand that he instantly\\nprescribe a remedy which should be not only complete, but at once\\nrecognized as such and so accepted? In the present case, as I have\\nalready observed, from the days of Aristotle down through two and twenty\\ncenturies, men had been experimenting in all, to them, conceivable ways,\\non the government of the body politic, exactly as they experimented on\\nthe disorders of the physical body. But only yesterday was the source of\\nthe yellow fever, for instance, diagnosed and located, and the proper\\nmeans of prevention applied. The cancer and tuberculosis are to-day\\nunsolved problems. By analogy, they are inviting subjects for an\\nInitiative and a Referendum! Yet would any person who to-day, standing\\nwhere I stand, expressed a disbelief, at once total and contemptuous, of\\nsuch a procedure as respects them, be met by a demand for some other\\npanacea of immediate and guaranteed efficiency? And so with the body\\npolitic. I here to-day am merely attempting a diagnosis, pointing out\\nthe disorders, and exposing as best I can the utter crudeness and\\ninsufficiency of the market-place remedies proposed. Have you a right,\\nthen, to turn on me, and call for some other prescription, warranted to\\ncure, in place of the nostrums so loudly advertised by the sciolists and\\nthe dabblers of the day, and by me so contemptuously set aside? I\\nconfess I am unable to respond, or even to attempt a response to any\\nsuch demand. I am not altogether a quack, nor is this a county fair.\\n\\n\"Paracelsus,\" so denominated, was one of Robert Browning\\'s earlier\\npoems. In it he causes the fifteenth-century alchemist and forerunner of\\nall modern pharmaceutical chemistry, to declare that as the result of\\nlong travel and much research\\n\\n\\n\"I possess\\nTwo sorts of knowledge: one,--vast, shadowy,\\nHints of the unbounded aim....\\nThe other consists of many secrets, caught\\nWhile bent on nobler prize,--perhaps a few\\nPrime principles which may conduct to much:\\nThese last I offer.\"\\n\\n\\nSo, _longo intervallo_, I have a few suggestions,--the result of an\\nobservation extending, as I said at the beginning, over the lives of two\\ngenerations and a connection with many great events in which I have\\nborne a part,--a part not prominent indeed, and more generally, I\\nacknowledge, mistaken than correct. My errors, however, have at least\\nmade me cautious and doubtful of my own conclusions. I submit them for\\nwhat they are worth. Not much, I fear.\\n\\nWhat, then, would I do, were it in my power to prescribe alterations and\\ncuratives for the ills of our American body politic, of which I have\\nspoken; or, more correctly, the far-reaching disturbances manifestly due\\nto the agencies at work, to which I have made reference? Let us come at\\nonce to the point, taking the existing Constitution of the United States\\nas a concrete example, and recognizing the necessity for its revision\\nand readjustment to meet radically changed conditions,--conditions\\nsocial, material, geographical, changed and still changing.\\n\\nIt was Mr. Gladstone who, years ago, made the often-quoted assertion\\nthat the Constitution of the United States was \"the most wonderful work\\never struck off at a given time by the brain and purpose of man.\" I do\\nnot think he was far wrong; though we, of course, realize that the\\nFederal Constitution was a growth and in no degree an inspiration. That\\nConstitution has through a century and a quarter stood the test of time\\nand stress of war, during a period of almost unlimited growth of the\\ncommunity for which it was devised. It has outlasted many nationalities\\nand most of the dynasties in existence at the time of its adoption; and\\nthat, too, under conditions sufficiently trying. I, therefore, regard it\\nwith profound respect; and, so regarding it, I would treat it with a\\ncautious and tender hand. Not lightly pronouncing it antiquated, what\\nchanges would I make in it if to-morrow it were given me to prescribe\\nalterations adapting it to the altered conditions which confront us? I\\ndo not hesitate to say, and I am glad to say, the changes I would\\nsuggest would be limited; yet, I fancy, far-reaching.\\n\\nAnd, in the first place, let us have a clear conception of the end in\\nview. That end is, I submit, exactly the same to-day which Aristotle had\\nin view more than twenty centuries ago. It is, not to solve all\\npolitical problems, but to put political problems as they arise in the\\nhands of those whom he termed the \"best,\"--but whom we know as the most\\nintelligent, observant and expert,--to be, through their agency, in the\\nway of ultimate solution. If, adopting every ill-considered and\\nhalf-fledged measure of so-called reform which might be the fancy of the\\nday, we incorporated them in our fundamental law, but one thing could\\nresult therefrom,--ultimate confusion. The Constitution is neither a\\nlegislative crazy-quilt nor a receptacle of fads. To make it such is in\\nevery respect the reverse of scientific. The work immediately in hand,\\ntherefore, is to devise such changes in the fundamental law as will tend\\nmost effectually to bring about the solution of issues as they may\\narise, by the most expert, observant and reliable. This accomplished, if\\nits accomplishment were only practicable, all possible would have been\\ndone; and the necessary and inevitable readjustment of things would, in\\npolitics as in medicine and in science, be left to solve itself as\\noccasion arose. Provision cannot be made against every contingency.\\n\\nThis premised, the Constitution of the United States is an instrument\\nthrough which powers are delegated by several local communities to a\\ncentral government. The instrument, it was originally held, should be\\nstrictly construed and the powers delegated limited; and in this\\nrespect, with certain alterations made obviously necessary to meet\\nchanged conditions, I would return to the fundamental idea of\\nthe framers.\\n\\nIn saying this I feel confidence also that here in South Carolina at\\nleast I shall meet with an earnest response. The time is not yet remote\\nwhen local self-government worked salvation for South Carolina, as for\\nher sister States of the Confederacy. You here will never forget what\\nimmediately followed the close of our Civil War. As an historic fact,\\nthe Constitution was then suspended. It was suspended by act of an\\nirresponsible Congress, exercising revolutionary but unlimited powers\\nover a large section of the common country. You then had an\\nillustration, not soon to be forgotten, of concentration of legislative\\npower. An episode at once painful and discreditable, it is not necessary\\nhere to refer to it in detail. Appeal, however, was made to the\\nprinciple of local self-government,--it was, so to speak, a recurrence\\nto the theory of State Sovereignty. The appeal struck a responsive,\\nbecause traditional, chord; and it was through a recurrence to State\\nSovereignty as the agency of local self-government that loyalty and\\ncontentment were restored, and, I may add, that I am here to-day.\\nCeasing to be a Military Department, South Carolina once more became a\\nState. Not improbably the demand will in a not remote future be heard\\nthat State lines and local autonomy be practically obliterated. In that\\nevent, I feel a confident assurance that, recurring in memory to the\\nevil days which followed 1865, the spirit of enlightened conservatism\\nwill assert itself here and in the sister States of what was once the\\nConfederacy; and again it will prevail. In the future, as in the past,\\nyou in South Carolina at least will cling to what in 1876 proved the ark\\nof your social and political salvation.\\n\\nTaking another step in the discussion of changes, the Constitution is\\nfounded on that well-known distribution and allocation of powers first\\ntheoretically suggested by Montesquieu. There is a division, accompanied\\nby a mutual limitation of authority, through the Judiciary, the\\nExecutive, and the Legislative. As respects this allocation, how would I\\nmodify that instrument? I freely say that the tendency of my thought,\\nbased on observation, is to conservatism. I have never yet in a single\\ninstance found that when the people of this or any other country\\naccustomed to parliamentary government desired a thing, they failed to\\nobtain it within a reasonable limit of time. Hasty changes are wisely\\ndeprecated; but I think I speak within limitation when I say that\\nneither in the history of Great Britain,--the mother of Parliaments--nor\\nin the history of the United States, has any modification which the\\npeople, on sober second thought, have considered to be for the best,\\nlong been deferred. Action, revolutionary in character, has not, as a\\nrule, been needful, or, when taken, proved salutary. This is a record\\nand result that no careful student of our history will, I take it, deny.\\n\\nSuch being the case, so far as our Judiciary is concerned, I do not\\nhesitate to say I would adhere to older, and, as I think, better\\nprinciples, or revert to them where they have been experimentally\\nabandoned. It took the Anglo-Saxon race two centuries of incessant\\nconflict to wrest from a despotic executive, practically an autocracy,\\njudicial independence. That was effected through what is known as a\\ntenure during good behavior, as opposed to a tenure at the will of the\\nmonarch. This, then, for two centuries, was accepted as a fundamental\\nprinciple of constitutional government. Of late, a new theory has been\\npropounded, and by those chafing at all restraint--constitutionally\\nlawless in disposition--it is said the Recall should also be applied to\\nthe Judiciary. Having, therefore, wrested the independence of the\\nJudiciary from the hand of the Autocrat, we now propose to place it, in\\nall trustfulness, in the hands of the Democrat. To me the proposition\\ndoes not commend itself. It is founded on no correct principle, for the\\nirresponsible democratic majority is even more liable to ill-considered\\nand vacillating action than is the responsible autocrat. In that matter\\nI would not trust myself; why, then, should I trust the composite\\nDemocrat? In the case of the Judiciary, therefore, I would so far as the\\nfundamental law is concerned abide by the older and better considered\\nprinciples of the framers.\\n\\nNext, the Executive. Again, we hear the demand of Democracy,--the\\nRecall! Once more I revert to the record. This Republic has now been in\\nworking operation, and, taken altogether, most successful operation,\\nfor a century and a quarter. During that century and a quarter we have\\nhad, we will say, some five and twenty different chief magistrates.\\nThere is an ancient and somewhat vulgar adage to the effect that the\\nproof of a certain dietary article is in its eating. Apply that homely\\nadage to the matter under consideration. What is the lesson taught? It\\nis simply this,--during a whole century and a quarter of existence there\\nhas not been one single chief executive of the United States to whom the\\narbitrary Recall could have been applied with what would now be agreed\\nupon as a fortunate result. In the Andrew Johnson impeachment case was\\nit not better that things were as they were? On the other hand, every\\none of the seven independent, self-respecting Senators who then by a\\ndisplay of high moral courage saved the country from serious prejudice\\nwould have been recalled out-of-hand had the Recall now demanded been in\\nexistence. Its working would have received prompt exemplification; as it\\nwas, the recall was effected in time, and after due deliberation. The\\ndelay occasioned no public detriment. In this life, experience is\\nundeniably worth something; and the experience here referred to is\\nfairly entitled to consideration. No political system possible to devise\\nis wholly above criticism,--not open to exceptional contingencies or to\\ndangers possible to conjure up. Such have from time to time arisen in\\nthe past; in the future such will inevitably arise. This consideration\\nmust, however, be balanced against a general average of successful\\nworking; and I confidently submit that, weighing thus the proved\\nadvantage of the system we have against the possibilities of danger\\nwhich hereafter may occur, but which never yet have occurred, the scale\\non which are the considerations in favor of change kicks the beam.\\n\\nIn view, however, of the growth of the country, the vastly increased\\ncomplexity of interests involved, the intricacy and the cost of the\\nelection processes to which recourse is necessarily had, I would\\nsubstitute for the present brief tenure of the presidential office--a\\ntenure well enough perhaps in the comparatively simple days which\\npreceded our Civil War--a tenure sufficiently long to enable the\\noccupant of the presidential chair to have a policy and to accomplish at\\nleast something towards its adoption. As the case stands to-day, a\\nPresident for the first time elected has during his term of four years,\\none year, and one year only, in which really to apply himself to the\\naccomplishment of results. The first year of his term is necessarily\\ndevoted to the work of acquiring a familiarity with the machinery of the\\ngovernment, and the shaping of a policy. The second year may be devoted\\nto a more or less strenuous effort at the adoption of the policy thus\\nformulated. As experience shows, the action of the third and fourth\\nyears is gravely affected--if not altogether perverted from the work in\\nhand--by what are known as the political exigencies incident to a\\nsuccession. Manifestly, this calls for correction. The remedy, however,\\nto my mind, is obvious and suggests itself. As the presidency is the\\none office under our Constitution national in character, and in no way\\nlocally representative, I would extend the term to seven years, and\\nrender the occupant of the office thereafter ineligible for reëlection.\\nSeven years is, I am aware, under our political system, an unusual term;\\nand here my ears will, I know, be assailed by the great \"mandate\"\\ncackle. The count of noses being complete, the mind of the composite\\nDemocrat is held to be made up. It only remains to formulate the\\nconsequent decree; and, with least possible delay, put it in way of\\npractical enforcement. Again, I, as a publicist, demur. It is the old\\nissue, that between instant action and action on second thought,\\npresented once more. Briefly, the experience of sixty years strongly\\ninclines me to a preference of matured and considerate action over that\\nimmediate action which notoriously is in nine cases out of ten as\\nill-advised as it is precipitate. Only in the field of politics is the\\nexpediency of the latter assumed as of course; yet, as in science and\\nliterature and art so in politics, final, because satisfactory, results\\nare at best but slowly thrashed out. As respects wisdom, the modern\\nstatute book does not loom, monumental. Its contemplation would indeed\\nperhaps even lead to a surmise that reasonable delay in formulating his\\n\"mandate\" might, in the case of the composite Democrat as in that of the\\nindividual Autocrat, prove a not altogether unmixed, and so in the end\\nan intolerable, evil.\\n\\nThus while a change of the Executive and Legislative branches of the\\ngovernment might not be always simultaneously effected, by selecting\\nseven years as the presidential term the election would be brought\\nabout, as frequently as might be, by itself, uncomplicated by local\\nissues connected with the fortunes or political fate of individual\\ncandidates for office, whether State, Congressional, or Senatorial; and\\nduring the seven years of tenure, four, at least, it might reasonably be\\nanticipated, would be devoted to the promotion of a definite policy, in\\nplace of one year in a term of four, as now. If also ineligible for\\nreelection, there is at least a fair presumption that the occupant of\\nthe position might from start to finish apply himself to its duties and\\nobligations, without being distracted therefrom by ulterior personal\\nends as constantly as humanly held in view.\\n\\nHaving thus disposed of the Judiciary and the Executive, we come to the\\nLegislative. And here I submit is the weak point in our American\\nsystem,--manifestly the weak point, and to those who, like myself, have\\nhad occasion to know, undeniably so. I am here as a publicist; not as a\\nwriter of memoirs: so, on this head, I do not now propose to dilate or\\nbear witness. I will only briefly say that having at one period, and for\\nmore than the lifetime of a generation, been in charge of large\\ncorporate and financial interests, I have had much occasion to deal with\\nlegislative bodies, National, State and Municipal. That page of my\\nexperiences is the one I care least to recall, and would most gladly\\nforget. I am not going to specify, or give names of either localities or\\npersons; but, knowing what I know, it is useless to approach me on this\\ntopic with the usual good-natured and optimistic, if somewhat unctuous\\nand conventional, commonplaces on general uprightness and the tendency\\nto improved conditions and a higher standard. I know better! I have seen\\nlegislators bought like bullocks--they selling themselves. I have\\nwatched them cover their tracks with a cunning more than vulpine. I have\\nmyself been black-mailed and sandbagged, while whole legislative bodies\\nwatched the process, fully cognizant at every step of what was going on.\\nThis, I am glad to say, was years ago. The legislative conditions were\\nthen bad, scandalously bad; nor have I any reason to believe in a\\nregeneration since. The stream will never rise higher than its source;\\nbut it generally indicates the level thereof. In this case, I can only\\nhope that in my experience it failed so to do. Running at a low level,\\nthe waters of that stream were deplorably dirty.\\n\\nThat the legislative branch of our government has fallen so markedly in\\npublic estimation is not, I think, open to denial. To my mind, under the\\nconditions I have referred to, such could not fail to be the case. It\\nhas, consequently, lost public confidence. Hence this popular demand for\\nimmediate legislation by the People,--this twentieth-century appeal to\\nthe Agora and Forum methods which antedate the era of Christ. It is true\\nthe world outgrew them two thousand years ago, and they were discarded;\\nbut, living in a progressive and not a reactionary period, all that, we\\nare assured, is changed! The heart is no longer on the right-hand side\\nof the body. To secure desired results it is only necessary to start\\nquite fresh, as a mere preliminary discarding all lessons of experience.\\n\\nSuch reasoning does not commend itself to my judgment. On the contrary,\\nthe failure of the American legislative to command an increasing public\\nconfidence, while both natural and obvious, is, if my observation guides\\nme to conclusions in any degree correct, traceable to two reasons. So\\nfar as government is concerned, the law-making branch is assumed to be\\nmade up of the wisest and the most expert. Meanwhile, it is as a matter\\nof fact chosen by the process I have not over-respectfully referred to\\nas the counting of noses; and, moreover, by an unwritten law more\\nbinding than any in the Statute Book, that counting of noses is with us\\nlocalized. In other words, when it comes to the choice of our\\nlaw-makers, reducing provincialism to a system we make the local\\nnumerical majority supreme, and any one is considered competent to\\nlegislate. He can do that, even if by common knowledge he is incompetent\\nor untrustworthy in every other capacity. Localization thus becomes the\\nstronghold of mediocrity, the sure avenue to office of the second-and\\nthird-rate man,--he who wishes always to enjoy his share of a little\\nbrief authority, to have, he also, a taste of public life. In this\\nrespect our American system is, I submit, manifestly and incomparably\\ninferior to the system of parliamentary election existing in Great\\nBritain, itself open to grave criticism. In Great Britain the public man\\nseeks the constituency wherever he can find it; or the constituency\\nseeks its representative wherever it recognizes him. The present Prime\\nMinister of Great Britain, for instance, represents a small Scotch\\nconstituency in which he never resided, but by which he was elected more\\nthan twenty years ago, and through which he has since consecutively\\nremained in public life. On the other hand, look at the waste and\\nextravagance of the system now and traditionally in use with us. To get\\ninto public life a man must not only be in sympathy with the majority of\\nthe citizens of the locality in which he lives, but he must continue to\\nbe in sympathy with that majority; or, at any election, like Mr. Cannon\\nin the election just held, where for any passing cause a majority of his\\nneighbors in the locality in which he lives may fail to support him, he\\nmust go into retirement. I cannot here enlarge on this topic, vital as I\\nsee it; I have neither space nor time, and must, therefore, needs\\ncontent myself with the \"hints\" of Paracelsus. I will merely say that as\\nan outcome this localized majority system practically disfranchises the\\nmore intelligent and the more disinterested, the more individual and\\nindependent of every constituency. It reduces their influence, and\\nnegatives their action. It operates in like fashion everywhere. My\\nfield of observation has been at home, here in America; but it has been\\nthe same in France. For instance, while preparing this address I came\\nacross the following in that most respectable sheet, the London\\n_Athenaum_. A very competent Frenchman was there criticising a recent\\nbook entitled \"Idealism in France.\" Reference was by him made to what,\\nin France, is known as the \"_scrutin d\\'arrondissement,\"_ or, in other\\nwords, the district representative system. The critic declares that this\\nsystem has there \"created a party machine which has brought the country\\nunder the sway of a sort of Radical-Socialist Tammany, and bound\\ntogether the voter and the deputy by a tie of mutual corruption, the\\ncandidate promising Government favors to the elector in return for his\\nvote, and the elector supporting the candidate who promises most. Hence\\na policy in which ideas and ideals are forgotten for personal and local\\ninterests, as each candidate strives to outbid his rivals in the bribes\\nthat he offers to his constituents. Hence, finally, a general lowering\\nin the tone of French home politics, every question being made\\nsubservient by the deputies to that of their reëlection.\"\\n\\nI would respectfully inquire if the above does not apply word for word\\nto the condition of affairs with which we are familiar in America.\\n\\nBut let me here again cite a concrete case, still fresh in memory;\\nnothing in abstract discussion tells so much. Take the late Carl\\nSchurz. If there was one man in our public life since 1865 who showed a\\ngenius for the parliamentary career, and who in six short years in the\\nUnited States Senate--a single term--displayed there constructive\\nlegislating qualities of the highest order, it was Carl Schurz. Yet at\\nthe end of that single senatorial term, for local and temporary reasons\\nhe failed to obtain the support of a majority, or the support of\\nanything approaching a majority, of those composing the constituency\\nupon which he depended. Consequently he was retired from that\\nparliamentary position necessary for the accomplishment, through him, of\\nbest public results. Yet at that very time there was no man in the\\nUnited States who commanded so large and so personal a constituency as\\nCarl Schurz; for he represented the entire Germanic element in the\\nUnited States. Distributed as that element was, however, with its vote\\nlocalized under our law, unwritten as well as statutory, there was no\\npossibility of any constituency so concentrating itself that Carl Schurz\\ncould be kept in the position where he could continue to render services\\nof the greatest possible value to the country. I, therefore, confidently\\nhere submit a doubt whether human ingenuity could devise any system\\ncalculated to lead to a greater waste of parliamentary ability, or more\\neffectually keep from the front and position of influence that\\nlegislative superiority which was the arm of Aristotle to secure.\\n\"Cant-patriotism,\" as your Francis Lieber termed it; and, on this\\nscore, he waxed eloquent. \"Do we not live in a world of cant,\" he wrote\\nfrom Columbia here to a friend at the North seventy-five years ago,\\n\"that cant-patriotism which plumes itself in selecting men from within\\nthe State confines only. The truer a nation is, the more essentially it\\nis elevated, the more it disregards petty considerations, and takes the\\ntrue and the good from whatever quarter it may come. Look at history and\\nyou find the proof. Look around you, where you are, and you find it\\nnow.\" And, were Lieber living to-day, he would find a striking\\nexemplification of the consequences of a total and systematic disregard\\nof this elementary proposition in studying the United States Senate from\\nand through its reporters\\' gallery. The decline in the standards of that\\nbody, whether of aspect, intelligence, education or character, under the\\noperation of the local primary has been not less pronounced than\\nstartling. The outcome and ripe result of \"cant-patriotism,\" it affords\\nto the curious observer an impressive object-lesson,--provincialism\\nreduced to a political system; what a witty and incisive French writer\\nhas recently termed the \"Cult of Incompetence.\" Speaking of conditions\\nprevailing not here but in France, this observer says:--\"Democracy in\\nits modern form chooses its\\' delegates in its own image.... What ought\\nthe character of the legislator to be? The very opposite, it seems to\\nme, of the democratic legislator, for he ought to be well-informed and\\nentirely devoid of prejudice.\" Taken as a whole, and a few striking\\nindividual exceptions apart, are those composing the Senate of the\\nUnited States conspicuous in these respects? They certainly do not so\\nimpress the casual observer. That, as a body, they increasingly fail to\\ncommand confidence and attention is matter of common remark. Nor is the\\nreason far to seek. It would be the same as respects literature, science\\nand art, were their representatives chosen and results reached through a\\ncount of noses localized, with selection severely confined to\\nhome talent.\\n\\nI am well aware of the criticism which will at once be passed on what I\\nnow advance. Local representation through choice by numerical majorities\\nwithin given confines, geographically and mathematically fixed, is a\\nsystem so rooted and intrenched in the convictions and traditions of the\\nAmerican community that even to question its wisdom evinces a lack of\\npolitical common-sense. It in fact resembles nothing so much as the\\nattempt to whistle down a strongly prevailing October wind from the\\nWest. The attempt so to do is not practical politics! In reply, however,\\nI would suggest that such a criticism is wholly irrelevant. The\\npublicist has nothing to do with practical politics. It is as if it were\\nobjected to a physician who prescribed sanitation against epidemics that\\nthe community in question was by custom and tradition wedded to filth\\nand surface-drainage, and could not possibly be induced to abandon them\\nin favor of any new-fangled theories of soap-and-water cleanliness. So\\nwhy waste time in prescribing such? Better be common-sensed and\\npractical, taking things as they are. In the case suggested, and\\nconfronted with such criticism, the medical adviser simply shrugs his\\nshoulders, and is silent; the alternative he knows is inescapable. After\\na sufficiency of sound scourgings the objecting community will probably\\nknow better, and may listen to reason; in a way, conforming thereto. So,\\nalso, the body politic. If Ephraim is indeed thus joined to idols, the\\npublicist simply shrugs his shoulders, and passes on; possibly, after\\nEphraim has been sufficiently scourged, he may in that indefinite future\\npopularly known as \"one of these days\" be more clear sighted and wiser.\\n\\nNone the less, so far as our national parliamentary system is concerned,\\ncould I have my way in a revision of the Constitution, I would increase\\nthe senatorial term to ten years, and I would, were such a thing within\\nthe range of possibility, break down the system of the necessary\\nsenatorial selection by a State of an inhabitant of the State. If I\\ncould, I would introduce the British system. For example, though I never\\nvoted for Mr. Bryan and have not been in general sympathy with Mr.\\nRoosevelt, yet few things would give me greater political satisfaction\\nthan to see Mr. Bryan, we will say, elected a Senator from Arizona or\\nOregon, Mr. Roosevelt elected from Illinois or Pennsylvania, President\\nTaft from Utah or Vermont. They apparently best represent existing\\nfeelings and the ideals prevailing in those communities; why, then,\\nshould they not voice those feelings and ideals in our highest\\nparliamentary chamber?\\n\\nAs respects our House of Representatives, it would in principle be the\\nsame. I do not care to go into the rationale of what is known as\\nproportional representation, nor have I time so to do; but, were it in\\nmy power, I would prescribe to-morrow that hereafter the national House\\nof Representatives should be constituted on the proportional basis,--the\\nchoice of representatives to be by States, but, as respects the\\nnomination of candidates, irrespective of district lines. Like many\\nothers, I am very weary of provincial nobodies, \"good men\" locally known\\nto be such!\\n\\nAs I have already said, in parliamentary government all depends in the\\nend on the truly representative character of the legislative body. If\\nthat is as it should be, the rest surely follows. The objective of\\nAristotle is attained.\\n\\nExceeding the limits assigned to it, my discussion has, however,\\nextended too far. I must close. One word before so doing. Why am I here?\\nI am here,--a man considerably exceeding in age the allotted threescore\\nand ten--to deliver a message, be the value of the same greater or less.\\nI greatly fear it is less. I would, however, impart the lessons of an\\nexperience stretching over sixty years,--the results of such observation\\nas my intelligence has enabled me to exercise. I do so, addressing\\nmyself to a local institution of the advanced education. Why? Because,\\nlooking over the country, diagnosing its conditions as well as my\\ncapacity enables me, observing the evolution of the past and\\nforecasting, in as far as I may, the outcome, I am persuaded that the\\nfuture of the country rests more largely in the hands of such\\ninstitutions as this than in those of any other agency or activity. Do\\nnot say I flatter; for, while I can hope for no advancement, I think I\\nhave not overstated the case; I certainly have not overstated my\\nconviction. There has been no man who has influenced the course of\\nmodern thought more deeply and profoundly than Adam Smith, a Professor\\nin a Scotch University of the second class. So here in Columbia seventy\\nyears ago, Francis Lieber prepared and published his \"Manual of\\nPolitical Ethics.\" Adam Smith and Francis Lieber were but\\nprototypes--examples of what I have in mind. The days were when the\\nSenate of the United States afforded a rostrum from which thinkers and\\nteachers first formulated, and then advanced, great policies. Those\\ndays, and I say it regretfully, are past. Unless I am greatly mistaken,\\nhowever, a new political force is now asserting itself. I have recently,\\nat a meeting of historical and scientific associations in Boston, had my\\nattention forcibly called to this aspect of the situation now shaping\\nitself. I there met young men, many, and not the least noticeable of\\nwhom, came from this section. They inspired me with a renewed confidence\\nin our political future. Essentially teachers,--I might add, they were\\npublicists as well as professors. Observers and students, they actively\\nfollowed the course of developing thought in Europe as in this country.\\nExact in their processes, philosophical and scientific in their methods,\\nunselfish in their devotion, they were broad of view. It is for them to\\nrealize in a future not remote the University ideal pictured, and\\ncorrectly pictured, from this stage by one who here preceded me a short\\nsix months ago. They, constituting the University, are the \"hope of the\\nState in the direction of its practical affairs; in teaching the lawyer\\nthe better standards of his profession, his duty to place character\\nabove money making; in teaching the legislator the philosophy of\\nlegislation, and that the constructive forces of legislation carefully\\nconsidered should precede every effort to change an existing status; in\\nteaching those in official life, executive and judicial, that demagogy,\\nand theories of life uncontrolled by true principles, do not make for\\nsuccess, when final success is considered, but that, if they did lead to\\nsuccess, they should be avoided for their inherent imperfection.... The\\nprovince of the University is to educate citizenship in the abstract.\"\\n\\nIt is the presence of this class, to those composing which I bow as\\ndistinctly of a period superior to mine, that you owe my presence\\nto-day,--whatever that presence may be worth. I regard their existence\\nand their coming forward in such institutions as this University of\\nSouth Carolina, as the arc of the bow of promise spanning the political\\nhorizon of our future.\\n\\nThrough you, to them my message is addressed.'"
            ]
          },
          "metadata": {
            "tags": []
          },
          "execution_count": 121
        }
      ]
    },
    {
      "cell_type": "markdown",
      "metadata": {
        "id": "BtPMgQZ0x8cM",
        "colab_type": "text"
      },
      "source": [
        "### Divide into Training-set, Dev-set, Test-set\n"
      ]
    },
    {
      "cell_type": "code",
      "metadata": {
        "id": "MyfjwTng3Fz7",
        "colab_type": "code",
        "colab": {}
      },
      "source": [
        "from spacy.lang.en import English # updated\n",
        "nlp = English()\n",
        "nlp.add_pipe(nlp.create_pipe('sentencizer')) # updated\n"
      ],
      "execution_count": 0,
      "outputs": []
    },
    {
      "cell_type": "code",
      "metadata": {
        "id": "Cdy4W7D_4LyI",
        "colab_type": "code",
        "colab": {}
      },
      "source": [
        "def get_sentences(raw_text):\n",
        "  max_length = min(1000000, len(raw_text))\n",
        "  raw_text = raw_text[:max_length]\n",
        "  doc = nlp(raw_text)\n",
        "  sentences = [sent.string.strip() for sent in doc.sents]\n",
        "  sentences = sentences[5:]\n",
        "  return sentences"
      ],
      "execution_count": 0,
      "outputs": []
    },
    {
      "cell_type": "code",
      "metadata": {
        "id": "VVPMgS-e3bG0",
        "colab_type": "code",
        "colab": {}
      },
      "source": [
        "train_df = data.copy()"
      ],
      "execution_count": 0,
      "outputs": []
    },
    {
      "cell_type": "code",
      "metadata": {
        "id": "KvQWHP3l36rZ",
        "colab_type": "code",
        "colab": {}
      },
      "source": [
        "sentences = train_df.apply(lambda x: get_sentences(x['text']), axis=1)"
      ],
      "execution_count": 0,
      "outputs": []
    },
    {
      "cell_type": "code",
      "metadata": {
        "id": "TmvnG1LFxkK_",
        "colab_type": "code",
        "outputId": "dcd6232a-9604-445f-9eeb-b6e4edc955a5",
        "colab": {
          "base_uri": "https://localhost:8080/",
          "height": 71
        }
      },
      "source": [
        "# sentences.to_csv('sentences.csv', index=False)"
      ],
      "execution_count": 0,
      "outputs": [
        {
          "output_type": "stream",
          "text": [
            "/usr/local/lib/python3.6/dist-packages/ipykernel_launcher.py:1: FutureWarning: The signature of `Series.to_csv` was aligned to that of `DataFrame.to_csv`, and argument 'header' will change its default value from False to True: please pass an explicit value to suppress this warning.\n",
            "  \"\"\"Entry point for launching an IPython kernel.\n"
          ],
          "name": "stderr"
        }
      ]
    },
    {
      "cell_type": "code",
      "metadata": {
        "id": "KXhaqHA86No5",
        "colab_type": "code",
        "colab": {}
      },
      "source": [
        "training_set = []\n",
        "dev_set = []\n",
        "test_set = []\n",
        "\n",
        "train_size = 0.8\n",
        "dev_size = 0.1\n",
        "test_size = 0.1 \n",
        "\n",
        "for i in sentences.index:\n",
        "  label = train_df.iloc[i].author\n",
        "\n",
        "  text = sentences[i]\n",
        "\n",
        "  np.random.shuffle(text)\n",
        "\n",
        "  train_data = text[:round(len(text) * train_size)]\n",
        "\n",
        "  dev_data = text[round(len(text) * train_size):round(len(text) * (train_size + dev_size))]\n",
        "                    \n",
        "  test_data = text[round(len(text) * (train_size + dev_size)):]\n",
        "\n",
        "  training_set.append({'label': label, 'data': train_data})\n",
        "  dev_set.append({'label': label, 'data': val_data})\n",
        "  test_set.append({'label': label, 'data': test_data})\n",
        "\n"
      ],
      "execution_count": 0,
      "outputs": []
    },
    {
      "cell_type": "code",
      "metadata": {
        "id": "BLktAcRuzlYf",
        "colab_type": "code",
        "colab": {}
      },
      "source": [
        "# from google.colab import files\n",
        "# files.download('/content/test_set.csv') \n"
      ],
      "execution_count": 0,
      "outputs": []
    },
    {
      "cell_type": "code",
      "metadata": {
        "id": "EtWiwm4QzFS4",
        "colab_type": "code",
        "outputId": "8b80bc6d-5162-4875-adf2-466fda8d0dce",
        "colab": {
          "base_uri": "https://localhost:8080/",
          "height": 122
        }
      },
      "source": [
        "from google.colab import drive\n",
        "drive.mount('/content/drive')"
      ],
      "execution_count": 0,
      "outputs": [
        {
          "output_type": "stream",
          "text": [
            "Go to this URL in a browser: https://accounts.google.com/o/oauth2/auth?client_id=947318989803-6bn6qk8qdgf4n4g3pfee6491hc0brc4i.apps.googleusercontent.com&redirect_uri=urn%3aietf%3awg%3aoauth%3a2.0%3aoob&response_type=code&scope=email%20https%3a%2f%2fwww.googleapis.com%2fauth%2fdocs.test%20https%3a%2f%2fwww.googleapis.com%2fauth%2fdrive%20https%3a%2f%2fwww.googleapis.com%2fauth%2fdrive.photos.readonly%20https%3a%2f%2fwww.googleapis.com%2fauth%2fpeopleapi.readonly\n",
            "\n",
            "Enter your authorization code:\n",
            "··········\n",
            "Mounted at /content/drive\n"
          ],
          "name": "stdout"
        }
      ]
    },
    {
      "cell_type": "markdown",
      "metadata": {
        "id": "-_oF8_zPeG3h",
        "colab_type": "text"
      },
      "source": [
        "### Data preprocessing"
      ]
    },
    {
      "cell_type": "code",
      "metadata": {
        "id": "um_7x7mByk7h",
        "colab_type": "code",
        "colab": {}
      },
      "source": [
        "training_set = pd.read_csv('/content/drive/My Drive/Colab Notebooks/ProjectGutenberg/training_set.csv')\n"
      ],
      "execution_count": 0,
      "outputs": []
    },
    {
      "cell_type": "code",
      "metadata": {
        "id": "BIaYZ_Ek4phI",
        "colab_type": "code",
        "colab": {}
      },
      "source": [
        "dev_set = pd.read_csv('/content/drive/My Drive/Colab Notebooks/ProjectGutenberg/dev_set.csv')\n",
        "test_set = pd.read_csv('/content/drive/My Drive/Colab Notebooks/ProjectGutenberg/test_set.csv')"
      ],
      "execution_count": 0,
      "outputs": []
    },
    {
      "cell_type": "markdown",
      "metadata": {
        "id": "vRYpo7Xx62Io",
        "colab_type": "text"
      },
      "source": [
        "#### Dataset sampling"
      ]
    },
    {
      "cell_type": "code",
      "metadata": {
        "id": "iBe82iaU07XH",
        "colab_type": "code",
        "colab": {}
      },
      "source": [
        "import textwrap"
      ],
      "execution_count": 0,
      "outputs": []
    },
    {
      "cell_type": "code",
      "metadata": {
        "id": "kvcvRwpK613b",
        "colab_type": "code",
        "colab": {}
      },
      "source": [
        "def dataset_sampling(df):\n",
        "  result_df = []\n",
        "  for index in df.index:\n",
        "    label = df.iloc[index]['label']\n",
        "    text_wrap = textwrap.wrap(df.iloc[index]['data'], width=10000)\n",
        "    for text_small in text_wrap:\n",
        "      result_df.append({'label': label,\n",
        "                    'string': text_small})\n",
        "  return pd.DataFrame(result_df)"
      ],
      "execution_count": 0,
      "outputs": []
    },
    {
      "cell_type": "code",
      "metadata": {
        "id": "uXXcMFUr65Ha",
        "colab_type": "code",
        "colab": {}
      },
      "source": [
        "training_set = dataset_sampling(training_set)"
      ],
      "execution_count": 0,
      "outputs": []
    },
    {
      "cell_type": "code",
      "metadata": {
        "id": "XusAgf8u3NqN",
        "colab_type": "code",
        "colab": {}
      },
      "source": [
        "dev_set = dataset_sampling(dev_set)"
      ],
      "execution_count": 0,
      "outputs": []
    },
    {
      "cell_type": "code",
      "metadata": {
        "id": "WYbM8HZq3SAV",
        "colab_type": "code",
        "colab": {}
      },
      "source": [
        "test_set = dataset_sampling(test_set)"
      ],
      "execution_count": 0,
      "outputs": []
    },
    {
      "cell_type": "markdown",
      "metadata": {
        "id": "ZVaF25RQsoQB",
        "colab_type": "text"
      },
      "source": [
        "#### Remove stopwords"
      ]
    },
    {
      "cell_type": "code",
      "metadata": {
        "id": "hkTnPEajwoZP",
        "colab_type": "code",
        "colab": {}
      },
      "source": [
        "from spacy.lang.en.stop_words import STOP_WORDS\n",
        "from sklearn.feature_extraction.stop_words import ENGLISH_STOP_WORDS\n",
        "import string"
      ],
      "execution_count": 0,
      "outputs": []
    },
    {
      "cell_type": "code",
      "metadata": {
        "id": "mkBoaXK_st-i",
        "colab_type": "code",
        "colab": {}
      },
      "source": [
        "# A custom stoplist\n",
        "STOPLIST = set(list(STOP_WORDS) + [\"n't\", \"'s\", \"'m\", \"ca\"] + list(ENGLISH_STOP_WORDS))\n",
        "# List of symbols we don't care about\n",
        "SYMBOLS = \" \".join(string.punctuation).split(\" \") + [\"-----\", \"---\", \"...\", \"“\", \"”\", \"'ve\", \"--\", \"\\n\"]"
      ],
      "execution_count": 0,
      "outputs": []
    },
    {
      "cell_type": "code",
      "metadata": {
        "id": "HeLYoy_ssqiR",
        "colab_type": "code",
        "outputId": "db5c6649-e82f-40b4-909a-1d2eb2c6cd69",
        "colab": {
          "base_uri": "https://localhost:8080/",
          "height": 70
        }
      },
      "source": [
        "print(STOPLIST)\n",
        "print(SYMBOLS)"
      ],
      "execution_count": 20,
      "outputs": [
        {
          "output_type": "stream",
          "text": [
            "{'after', 'made', 'another', 'of', 'make', 'perhaps', 'full', '’m', 'something', 'last', 'always', 'else', 'myself', 'twelve', 'front', 'whose', 'if', 'seeming', 'yourselves', 'without', 'either', 'whereafter', 'four', 'few', 'other', 'every', 'themselves', 'their', '’s', 'move', 'cant', 'no', 'amoungst', 'amount', '‘ve', 'third', 'however', \"'d\", 'well', 'does', 'herself', 'ca', 'six', 'whenever', 'what', 'while', 'moreover', 'am', 'also', 'used', 'than', 'hers', 'nevertheless', 'must', 'again', 'throughout', 'therefore', 'might', 'ourselves', 'do', 'everything', 'above', 'namely', 'back', 'forty', 'often', 'anywhere', 'you', 'how', 'couldnt', 'sometimes', '‘ll', 'both', 'rather', 'most', 'becomes', 'those', 'former', 'whether', 'these', 'n‘t', 'me', 'five', 'onto', 'becoming', 'has', 'hereupon', 'two', 'down', 'whom', 'almost', 'why', 'should', 'through', 'first', 'very', 'which', 'inc', 'enough', 'himself', 'seem', 'your', 'more', \"n't\", 'keep', 'towards', 'due', 'whereupon', 'various', 'thus', 'all', 'them', 'thru', 'hundred', 'ie', 'he', 'call', 'co', 'please', 'found', 'top', 'around', 'say', 'here', 'name', 'take', 'show', 'nothing', 'yourself', 'sincere', 'though', 'below', 'already', 'done', 'had', 'side', 'whatever', 'only', 'they', 'at', 'others', 'one', 'about', '’ve', 'or', 'seemed', 'thereafter', 'de', 'everywhere', 'etc', 'sometime', 'with', 'then', 'bill', 'will', 'when', 'each', 'thence', 'interest', 'ours', 'and', 'ever', 'us', 'until', 'were', 'mill', 'meanwhile', 'the', 'eleven', 'anyone', 'detail', 'some', 'everyone', 'fifty', 'un', 'too', 'beforehand', 'i', \"'m\", 'much', 'but', 'thick', 'three', 'are', 'by', 'beyond', '’re', 'itself', 'cry', 'whole', \"'ll\", 'regarding', 'been', 'being', 'herein', 'among', 'bottom', 'whereby', 'toward', 'yours', '’d', 'fifteen', 'between', 'before', 'my', 'fill', 'see', 'further', 'under', 'formerly', 'any', 'less', 'find', 'together', '‘s', 'really', 'empty', 'is', 'none', 'neither', 'whereas', 'go', '‘m', 'noone', 'up', 'fire', 'behind', 'put', '‘re', 'during', 'not', 'thereupon', 'to', '’ll', 'still', 'along', 'because', 'describe', 'least', 'hereby', 'did', 'off', 'can', 'sixty', 'it', 'besides', 'latter', 'nobody', 'give', 'we', 'who', 'unless', 'ltd', 'hence', 'once', 'cannot', 'was', 'would', 'out', 'have', 'this', 'our', 'since', 'within', 'latterly', 'same', 'where', 'doing', 'such', 'nine', 'system', 'she', 'a', 'whence', 'against', 'just', 'although', 'thereby', 'seems', 'get', 'now', 'amongst', 'ten', 'into', 'eg', 'hasnt', 'serious', 'could', 'except', 'mine', 'never', 'as', '‘d', 'wherein', \"'re\", 'many', 'its', 'per', 'eight', 're', 'wherever', 'his', 'hereafter', 'n’t', 'beside', 'for', 'part', 'anyway', 'be', \"'ve\", 'in', 'twenty', 'several', 'via', 'next', 'may', 'afterwards', 'mostly', 'nor', 'upon', 'anyhow', 'nowhere', 'so', 'someone', 'somewhere', 'her', 'on', 'using', 'whither', 'that', 'an', 'otherwise', 'thin', 'therein', 'own', 'over', 'even', 'become', 'indeed', 'from', 'con', 'elsewhere', 'anything', 'there', 'him', \"'s\", 'yet', 'quite', 'became', 'across', 'whoever', 'alone', 'somehow'}\n",
            "['!', '\"', '#', '$', '%', '&', \"'\", '(', ')', '*', '+', ',', '-', '.', '/', ':', ';', '<', '=', '>', '?', '@', '[', '\\\\', ']', '^', '_', '`', '{', '|', '}', '~', '-----', '---', '...', '“', '”', \"'ve\", '--', '\\n']\n"
          ],
          "name": "stdout"
        }
      ]
    },
    {
      "cell_type": "code",
      "metadata": {
        "id": "hVrCa0uNiCvE",
        "colab_type": "code",
        "colab": {}
      },
      "source": [
        "import spacy\n",
        "nlp = spacy.load(\"en\", disable=[\"parser\", \"tagger\", \"ner\"])\n",
        "#  turn off named entity recognition, tagging and dependency parsing..."
      ],
      "execution_count": 0,
      "outputs": []
    },
    {
      "cell_type": "markdown",
      "metadata": {
        "id": "OR5iddVz8YTf",
        "colab_type": "text"
      },
      "source": [
        "## Custom Text Processor"
      ]
    },
    {
      "cell_type": "code",
      "metadata": {
        "colab_type": "code",
        "id": "owX0hif0vTZH",
        "colab": {}
      },
      "source": [
        "def cleanup_text(docs, logging=False):\n",
        "  texts = []\n",
        "  counter = 1\n",
        "  for doc in docs:\n",
        "    if not isinstance(doc, str):\n",
        "      doc = str(doc)\n",
        "\n",
        "    max_length = min(1000000, len(doc))\n",
        "    doc = doc[:max_length]\n",
        "    doc = doc.strip().replace(\"\\n\", \" \").replace(\"--\", \" \")\n",
        "\n",
        "    # print(doc)\n",
        "    # if counter > 10:\n",
        "      # break\n",
        "\n",
        "    if counter % 100 == 0 and logging:\n",
        "      print(\"Processed %d out of %d documents.\" % (counter, len(docs)))\n",
        "    counter += 1\n",
        "\n",
        "    doc = nlp(doc, disable=['parser', 'ner'])\n",
        "    tokens = [tok.lemma_.lower().strip() for tok in doc if tok.lemma_ != '-PRON-']\n",
        "    tokens = [tok for tok in tokens if tok not in STOPLIST and tok not in SYMBOLS]\n",
        "    tokens = ' '.join(tokens)\n",
        "\n",
        "    texts.append(tokens)\n",
        "  return"
      ],
      "execution_count": 0,
      "outputs": []
    },
    {
      "cell_type": "code",
      "metadata": {
        "id": "1W6ocov_FRL7",
        "colab_type": "code",
        "colab": {}
      },
      "source": [
        "import numpy as np\n",
        "import multiprocessing as mp\n",
        "\n",
        "import string\n",
        "import spacy \n",
        "import en_core_web_sm\n",
        "from nltk.tokenize import word_tokenize\n",
        "from sklearn.base import TransformerMixin, BaseEstimator\n",
        "\n",
        "nlp = en_core_web_sm.load()\n",
        "\n",
        "\n",
        "class TextPreprocessor(BaseEstimator, TransformerMixin):\n",
        "    def __init__(self,\n",
        "                 variety=\"BrE\",\n",
        "                 user_abbrevs={},\n",
        "                 n_jobs=1):\n",
        "        \"\"\"\n",
        "        Text preprocessing transformer includes steps:\n",
        "            1. Text normalization\n",
        "            2. Punctuation removal\n",
        "            3. Stop words removal\n",
        "            4. Lemmatization\n",
        "        \n",
        "        variety - format of date (AmE - american type, BrE - british format) \n",
        "        user_abbrevs - dict of user abbreviations mappings (from normalise package)\n",
        "        n_jobs - parallel jobs to run\n",
        "        \"\"\"\n",
        "        self.variety = variety\n",
        "        self.user_abbrevs = user_abbrevs\n",
        "        self.n_jobs = n_jobs\n",
        "\n",
        "    def fit(self, X, y=None):\n",
        "        return self\n",
        "\n",
        "    def transform(self, X, *_):\n",
        "        X_copy = X.copy()\n",
        "\n",
        "        partitions = 1\n",
        "        cores = mp.cpu_count()\n",
        "        if self.n_jobs <= -1:\n",
        "            partitions = cores\n",
        "        elif self.n_jobs <= 0:\n",
        "            return X_copy.apply(self._preprocess_text)\n",
        "        else:\n",
        "            partitions = min(self.n_jobs, cores)\n",
        "\n",
        "        data_split = np.array_split(X_copy, partitions)\n",
        "        pool = mp.Pool(cores)\n",
        "        data = pd.concat(pool.map(self._preprocess_part, data_split))\n",
        "        pool.close()\n",
        "        pool.join()\n",
        "\n",
        "        return data\n",
        "\n",
        "    def _preprocess_part(self, part):\n",
        "        return part.apply(self._preprocess_text)\n",
        "\n",
        "    def _preprocess_text(self, text):\n",
        "        # normalized_text = self._normalize(text)\n",
        "        text = str(text)\n",
        "\n",
        "        doc = nlp(text)\n",
        "        removed_punct = self._remove_punct(doc)\n",
        "        removed_stop_words = self._remove_stop_words(removed_punct)\n",
        "        return self._lemmatize(removed_stop_words)\n",
        "\n",
        "    def _remove_punct(self, doc):\n",
        "        return [t for t in doc if t.text not in SYMBOLS]\n",
        "\n",
        "    def _remove_stop_words(self, doc):\n",
        "        return [t for t in doc if not t.is_stop]\n",
        "\n",
        "    def _lemmatize(self, doc):\n",
        "        return ' '.join([t.lemma_ for t in doc]).strip()\n",
        "\n"
      ],
      "execution_count": 0,
      "outputs": []
    },
    {
      "cell_type": "markdown",
      "metadata": {
        "id": "GLAGyzlnuOgU",
        "colab_type": "text"
      },
      "source": [
        "# Vectorization"
      ]
    },
    {
      "cell_type": "code",
      "metadata": {
        "id": "-aht38Fa4jr8",
        "colab_type": "code",
        "colab": {
          "base_uri": "https://localhost:8080/",
          "height": 212
        },
        "outputId": "41adb2b6-bbfd-4d42-d2f6-e81ed5999169"
      },
      "source": [
        "print(training_set.shape)\n",
        "training_set.head()"
      ],
      "execution_count": 35,
      "outputs": [
        {
          "output_type": "stream",
          "text": [
            "(70083, 2)\n"
          ],
          "name": "stdout"
        },
        {
          "output_type": "execute_result",
          "data": {
            "text/html": [
              "<div>\n",
              "<style scoped>\n",
              "    .dataframe tbody tr th:only-of-type {\n",
              "        vertical-align: middle;\n",
              "    }\n",
              "\n",
              "    .dataframe tbody tr th {\n",
              "        vertical-align: top;\n",
              "    }\n",
              "\n",
              "    .dataframe thead th {\n",
              "        text-align: right;\n",
              "    }\n",
              "</style>\n",
              "<table border=\"1\" class=\"dataframe\">\n",
              "  <thead>\n",
              "    <tr style=\"text-align: right;\">\n",
              "      <th></th>\n",
              "      <th>label</th>\n",
              "      <th>string</th>\n",
              "    </tr>\n",
              "  </thead>\n",
              "  <tbody>\n",
              "    <tr>\n",
              "      <th>0</th>\n",
              "      <td>Huxley, Thomas Henry</td>\n",
              "      <td>['How did these isolated patches of a northern...</td>\n",
              "    </tr>\n",
              "    <tr>\n",
              "      <th>1</th>\n",
              "      <td>Huxley, Thomas Henry</td>\n",
              "      <td>dismissed,\\nwithout further consideration, as ...</td>\n",
              "    </tr>\n",
              "    <tr>\n",
              "      <th>2</th>\n",
              "      <td>Huxley, Thomas Henry</td>\n",
              "      <td>the surface like the others, but in this\\ncase...</td>\n",
              "    </tr>\n",
              "    <tr>\n",
              "      <th>3</th>\n",
              "      <td>Huxley, Thomas Henry</td>\n",
              "      <td>doctrine of evolution, especially in regard to...</td>\n",
              "    </tr>\n",
              "    <tr>\n",
              "      <th>4</th>\n",
              "      <td>Huxley, Thomas Henry</td>\n",
              "      <td>a very fine and impalpable powder, or a very p...</td>\n",
              "    </tr>\n",
              "  </tbody>\n",
              "</table>\n",
              "</div>"
            ],
            "text/plain": [
              "                  label                                             string\n",
              "0  Huxley, Thomas Henry  ['How did these isolated patches of a northern...\n",
              "1  Huxley, Thomas Henry  dismissed,\\nwithout further consideration, as ...\n",
              "2  Huxley, Thomas Henry  the surface like the others, but in this\\ncase...\n",
              "3  Huxley, Thomas Henry  doctrine of evolution, especially in regard to...\n",
              "4  Huxley, Thomas Henry  a very fine and impalpable powder, or a very p..."
            ]
          },
          "metadata": {
            "tags": []
          },
          "execution_count": 35
        }
      ]
    },
    {
      "cell_type": "code",
      "metadata": {
        "id": "L8cujyhK7Brl",
        "colab_type": "code",
        "colab": {
          "base_uri": "https://localhost:8080/",
          "height": 212
        },
        "outputId": "417dd392-6f44-4ead-a7a2-db2dedf0067c"
      },
      "source": [
        "print(dev_set.shape)\n",
        "dev_set.head()"
      ],
      "execution_count": 36,
      "outputs": [
        {
          "output_type": "stream",
          "text": [
            "(9843, 2)\n"
          ],
          "name": "stdout"
        },
        {
          "output_type": "execute_result",
          "data": {
            "text/html": [
              "<div>\n",
              "<style scoped>\n",
              "    .dataframe tbody tr th:only-of-type {\n",
              "        vertical-align: middle;\n",
              "    }\n",
              "\n",
              "    .dataframe tbody tr th {\n",
              "        vertical-align: top;\n",
              "    }\n",
              "\n",
              "    .dataframe thead th {\n",
              "        text-align: right;\n",
              "    }\n",
              "</style>\n",
              "<table border=\"1\" class=\"dataframe\">\n",
              "  <thead>\n",
              "    <tr style=\"text-align: right;\">\n",
              "      <th></th>\n",
              "      <th>label</th>\n",
              "      <th>string</th>\n",
              "    </tr>\n",
              "  </thead>\n",
              "  <tbody>\n",
              "    <tr>\n",
              "      <th>0</th>\n",
              "      <td>Huxley, Thomas Henry</td>\n",
              "      <td>['Dr. Stirling, has not taken the trouble to r...</td>\n",
              "    </tr>\n",
              "    <tr>\n",
              "      <th>1</th>\n",
              "      <td>Huxley, Thomas Henry</td>\n",
              "      <td>Turpin and Schwann resolved the living body in...</td>\n",
              "    </tr>\n",
              "    <tr>\n",
              "      <th>2</th>\n",
              "      <td>Huxley, Thomas Henry</td>\n",
              "      <td>succession of changes which, upon the\\nwhole, ...</td>\n",
              "    </tr>\n",
              "    <tr>\n",
              "      <th>3</th>\n",
              "      <td>Huxley, Thomas Henry</td>\n",
              "      <td>of view.', 'Few will venture to affirm that th...</td>\n",
              "    </tr>\n",
              "    <tr>\n",
              "      <th>4</th>\n",
              "      <td>Huxley, Thomas Henry</td>\n",
              "      <td>sarcode stuck against one side, the\\nremainder...</td>\n",
              "    </tr>\n",
              "  </tbody>\n",
              "</table>\n",
              "</div>"
            ],
            "text/plain": [
              "                  label                                             string\n",
              "0  Huxley, Thomas Henry  ['Dr. Stirling, has not taken the trouble to r...\n",
              "1  Huxley, Thomas Henry  Turpin and Schwann resolved the living body in...\n",
              "2  Huxley, Thomas Henry  succession of changes which, upon the\\nwhole, ...\n",
              "3  Huxley, Thomas Henry  of view.', 'Few will venture to affirm that th...\n",
              "4  Huxley, Thomas Henry  sarcode stuck against one side, the\\nremainder..."
            ]
          },
          "metadata": {
            "tags": []
          },
          "execution_count": 36
        }
      ]
    },
    {
      "cell_type": "code",
      "metadata": {
        "id": "ixIQniqy7DcW",
        "colab_type": "code",
        "colab": {
          "base_uri": "https://localhost:8080/",
          "height": 212
        },
        "outputId": "6d27e473-5cc5-43c6-d0d6-b0e3b84e1490"
      },
      "source": [
        "print(test_set.shape)\n",
        "test_set.head()"
      ],
      "execution_count": 37,
      "outputs": [
        {
          "output_type": "stream",
          "text": [
            "(9825, 2)\n"
          ],
          "name": "stdout"
        },
        {
          "output_type": "execute_result",
          "data": {
            "text/html": [
              "<div>\n",
              "<style scoped>\n",
              "    .dataframe tbody tr th:only-of-type {\n",
              "        vertical-align: middle;\n",
              "    }\n",
              "\n",
              "    .dataframe tbody tr th {\n",
              "        vertical-align: top;\n",
              "    }\n",
              "\n",
              "    .dataframe thead th {\n",
              "        text-align: right;\n",
              "    }\n",
              "</style>\n",
              "<table border=\"1\" class=\"dataframe\">\n",
              "  <thead>\n",
              "    <tr style=\"text-align: right;\">\n",
              "      <th></th>\n",
              "      <th>label</th>\n",
              "      <th>string</th>\n",
              "    </tr>\n",
              "  </thead>\n",
              "  <tbody>\n",
              "    <tr>\n",
              "      <th>0</th>\n",
              "      <td>Huxley, Thomas Henry</td>\n",
              "      <td>['Thus he writes:--\"I do not pretend, as he [M...</td>\n",
              "    </tr>\n",
              "    <tr>\n",
              "      <th>1</th>\n",
              "      <td>Huxley, Thomas Henry</td>\n",
              "      <td>face facts and to learn the exact\\nquantity an...</td>\n",
              "    </tr>\n",
              "    <tr>\n",
              "      <th>2</th>\n",
              "      <td>Huxley, Thomas Henry</td>\n",
              "      <td>that, in some animals,\\ndevastating epidemics ...</td>\n",
              "    </tr>\n",
              "    <tr>\n",
              "      <th>3</th>\n",
              "      <td>Huxley, Thomas Henry</td>\n",
              "      <td>from the multitude of other things\\nwhich go b...</td>\n",
              "    </tr>\n",
              "    <tr>\n",
              "      <th>4</th>\n",
              "      <td>Huxley, Thomas Henry</td>\n",
              "      <td>and\\ncarbon, and accumulate nitrogen.', 'There...</td>\n",
              "    </tr>\n",
              "  </tbody>\n",
              "</table>\n",
              "</div>"
            ],
            "text/plain": [
              "                  label                                             string\n",
              "0  Huxley, Thomas Henry  ['Thus he writes:--\"I do not pretend, as he [M...\n",
              "1  Huxley, Thomas Henry  face facts and to learn the exact\\nquantity an...\n",
              "2  Huxley, Thomas Henry  that, in some animals,\\ndevastating epidemics ...\n",
              "3  Huxley, Thomas Henry  from the multitude of other things\\nwhich go b...\n",
              "4  Huxley, Thomas Henry  and\\ncarbon, and accumulate nitrogen.', 'There..."
            ]
          },
          "metadata": {
            "tags": []
          },
          "execution_count": 37
        }
      ]
    },
    {
      "cell_type": "code",
      "metadata": {
        "id": "AAfSsyEi7ERA",
        "colab_type": "code",
        "colab": {}
      },
      "source": [
        "from sklearn.feature_extraction.text import CountVectorizer,TfidfVectorizer\n",
        "from sklearn.base import TransformerMixin\n",
        "from sklearn.pipeline import Pipeline\n"
      ],
      "execution_count": 0,
      "outputs": []
    },
    {
      "cell_type": "code",
      "metadata": {
        "id": "fg1TAbDW8Jqc",
        "colab_type": "code",
        "colab": {}
      },
      "source": [
        "import string\n",
        "from spacy.lang.en.stop_words import STOP_WORDS\n",
        "from spacy.lang.en import English\n",
        "\n",
        "# Create our list of punctuation marks\n",
        "punctuations = string.punctuation\n",
        "\n",
        "# Create our list of stopwords\n",
        "nlp = spacy.load('en')\n",
        "stop_words = spacy.lang.en.stop_words.STOP_WORDS\n",
        "\n",
        "# Load English tokenizer, tagger, parser, NER and word vectors\n",
        "parser = English()\n",
        "\n",
        "# Creating our tokenizer function\n",
        "def spacy_tokenizer(sentence):\n",
        "    # Creating our token object, which is used to create documents with linguistic annotations.\n",
        "    mytokens = parser(sentence)\n",
        "\n",
        "    # Lemmatizing each token and converting each token into lowercase\n",
        "    mytokens = [ word.lemma_.lower().strip() if word.lemma_ != \"-PRON-\" else word.lower_ for word in mytokens ]\n",
        "\n",
        "    # Removing stop words\n",
        "    mytokens = [ word for word in mytokens if word not in stop_words and word not in punctuations ]\n",
        "\n",
        "    # return preprocessed list of tokens\n",
        "    return mytokens\n"
      ],
      "execution_count": 0,
      "outputs": []
    },
    {
      "cell_type": "code",
      "metadata": {
        "id": "EK6fihAA8oK8",
        "colab_type": "code",
        "colab": {}
      },
      "source": [
        "# Custom transformer using spaCy\n",
        "class predictors(TransformerMixin):\n",
        "    def transform(self, X, **transform_params):\n",
        "        # Cleaning Text\n",
        "        return [clean_text(text) for text in X]\n",
        "\n",
        "    def fit(self, X, y=None, **fit_params):\n",
        "        return self\n",
        "\n",
        "    def get_params(self, deep=True):\n",
        "        return {}\n",
        "\n",
        "# Basic function to clean the text\n",
        "def clean_text(text):\n",
        "    # Removing spaces and converting text into lowercase\n",
        "    return text.strip().lower().replace('\\n', ' ')"
      ],
      "execution_count": 0,
      "outputs": []
    },
    {
      "cell_type": "markdown",
      "metadata": {
        "id": "NMnmoZE07nig",
        "colab_type": "text"
      },
      "source": [
        "## SVM with Hyperparameters Tuning"
      ]
    },
    {
      "cell_type": "markdown",
      "metadata": {
        "id": "YzMF9tHp88pB",
        "colab_type": "text"
      },
      "source": [
        "### Bag-of-words Vectorization"
      ]
    },
    {
      "cell_type": "code",
      "metadata": {
        "id": "xJbSFeor-SCW",
        "colab_type": "code",
        "colab": {}
      },
      "source": [
        "bow_vector = CountVectorizer(tokenizer = spacy_tokenizer, ngram_range=(1,1))"
      ],
      "execution_count": 0,
      "outputs": []
    },
    {
      "cell_type": "markdown",
      "metadata": {
        "id": "4tQjLtHb-WZB",
        "colab_type": "text"
      },
      "source": [
        "### SVM Tuning"
      ]
    },
    {
      "cell_type": "code",
      "metadata": {
        "id": "4wBTPRUy7nNG",
        "colab_type": "code",
        "colab": {}
      },
      "source": [
        "from sklearn.svm import SVC\n"
      ],
      "execution_count": 0,
      "outputs": []
    },
    {
      "cell_type": "code",
      "metadata": {
        "id": "wDh-hU5o9WeB",
        "colab_type": "code",
        "colab": {}
      },
      "source": [
        "# GridSearchCV\n",
        "from sklearn.model_selection import GridSearchCV\n",
        "from sklearn.metrics import classification_report\n"
      ],
      "execution_count": 0,
      "outputs": []
    },
    {
      "cell_type": "code",
      "metadata": {
        "id": "gBChgu309luW",
        "colab_type": "code",
        "colab": {}
      },
      "source": [
        "param_grid = {'kernel': ['linear', 'rbf'],\n",
        "              'C': [0.1, 1, 10]}\n",
        "\n",
        "clf = GridSearchCV(SVC(class_weight='balanced'), param_grid)\n"
      ],
      "execution_count": 0,
      "outputs": []
    },
    {
      "cell_type": "code",
      "metadata": {
        "id": "nWiEN8V0-mPw",
        "colab_type": "code",
        "colab": {}
      },
      "source": [
        "training_set.to_csv('training_set_big.csv', index=False)"
      ],
      "execution_count": 0,
      "outputs": []
    },
    {
      "cell_type": "code",
      "metadata": {
        "id": "MY064fT2_HX3",
        "colab_type": "code",
        "colab": {}
      },
      "source": [
        "X_train = training_set['string']\n",
        "y_train = training_set['label']"
      ],
      "execution_count": 0,
      "outputs": []
    },
    {
      "cell_type": "code",
      "metadata": {
        "id": "rLE89Q4q7WPa",
        "colab_type": "code",
        "colab": {}
      },
      "source": [
        "# Create pipeline using Bag of Words\n",
        "pipe = Pipeline([(\"cleaner\", predictors()),\n",
        "                 ('vectorizer', bow_vector),\n",
        "                 ('classifier', clf)])\n",
        "# model generation\n",
        "pipe.fit(X_train, y_train)\n"
      ],
      "execution_count": 0,
      "outputs": []
    },
    {
      "cell_type": "code",
      "metadata": {
        "id": "WWdkuHCM-A0k",
        "colab_type": "code",
        "colab": {}
      },
      "source": [
        ""
      ],
      "execution_count": 0,
      "outputs": []
    }
  ]
}