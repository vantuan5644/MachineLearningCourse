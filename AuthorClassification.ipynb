{
  "nbformat": 4,
  "nbformat_minor": 0,
  "metadata": {
    "colab": {
      "name": "AuthorClassification",
      "provenance": [],
      "collapsed_sections": [
        "OR5iddVz8YTf"
      ],
      "include_colab_link": true
    },
    "kernelspec": {
      "name": "python3",
      "display_name": "Python 3"
    },
    "accelerator": "GPU"
  },
  "cells": [
    {
      "cell_type": "markdown",
      "metadata": {
        "id": "view-in-github",
        "colab_type": "text"
      },
      "source": [
        "<a href=\"https://colab.research.google.com/github/vantuan5644/MachineLearningCourse/blob/master/AuthorClassification.ipynb\" target=\"_parent\"><img src=\"https://colab.research.google.com/assets/colab-badge.svg\" alt=\"Open In Colab\"/></a>"
      ]
    },
    {
      "cell_type": "markdown",
      "metadata": {
        "id": "t6sGtYcISsqT",
        "colab_type": "text"
      },
      "source": [
        "# Project Gutenberg - Author Classification \n",
        "\n",
        "- **Objective**: Use NLP and supervised learning and unsupervised learning techniques to classify text-authors\n",
        "\n",
        "- **Data description**: [Project Gutenberg](https://www.gutenberg.org/)\n",
        "  - Data is crawled using alternative-API (raw text)\n",
        "  - 1000 random authors\n",
        "  - In English language\n",
        "\n",
        "- **Outline**\n",
        "  - Text cleaning with SpaCy\n",
        "  - Convert text to numerical vector using tf-idf and Bag-of-words\n",
        "  - Word2vec using Gensim\n",
        "  - Using ML classification methods (Naive Bayes, Decision Tree, Random Forest)\n",
        "  - Using RNN (LSTM)\n",
        "  - Using LSA, LDA and NMFA for **topic modeling**\n",
        "  - Analysis and conclusions"
      ]
    },
    {
      "cell_type": "markdown",
      "metadata": {
        "id": "s8rlaovFgxev",
        "colab_type": "text"
      },
      "source": [
        "## NLTK Gutenberg Corpus"
      ]
    },
    {
      "cell_type": "code",
      "metadata": {
        "id": "j-mEotMcFnan",
        "colab_type": "code",
        "outputId": "5dd1a5a0-0dde-4645-9770-b9a6840be724",
        "colab": {
          "base_uri": "https://localhost:8080/",
          "height": 97
        }
      },
      "source": [
        "import keras \n",
        "import tensorflow\n",
        "import nltk\n",
        "import spacy\n",
        "import pandas as pd\n",
        "import numpy as np\n",
        "import matplotlib.pyplot as plt"
      ],
      "execution_count": 1,
      "outputs": [
        {
          "output_type": "stream",
          "text": [
            "Using TensorFlow backend.\n"
          ],
          "name": "stderr"
        },
        {
          "output_type": "display_data",
          "data": {
            "text/html": [
              "<p style=\"color: red;\">\n",
              "The default version of TensorFlow in Colab will soon switch to TensorFlow 2.x.<br>\n",
              "We recommend you <a href=\"https://www.tensorflow.org/guide/migrate\" target=\"_blank\">upgrade</a> now \n",
              "or ensure your notebook will continue to use TensorFlow 1.x via the <code>%tensorflow_version 1.x</code> magic:\n",
              "<a href=\"https://colab.research.google.com/notebooks/tensorflow_version.ipynb\" target=\"_blank\">more info</a>.</p>\n"
            ],
            "text/plain": [
              "<IPython.core.display.HTML object>"
            ]
          },
          "metadata": {
            "tags": []
          }
        }
      ]
    },
    {
      "cell_type": "code",
      "metadata": {
        "id": "BzScI9bHNt00",
        "colab_type": "code",
        "outputId": "e337dfce-8d83-4756-8ed7-c1b19ee89b23",
        "colab": {
          "base_uri": "https://localhost:8080/",
          "height": 68
        }
      },
      "source": [
        "nltk.download('gutenberg')"
      ],
      "execution_count": 0,
      "outputs": [
        {
          "output_type": "stream",
          "text": [
            "[nltk_data] Downloading package gutenberg to /root/nltk_data...\n",
            "[nltk_data]   Unzipping corpora/gutenberg.zip.\n"
          ],
          "name": "stdout"
        },
        {
          "output_type": "execute_result",
          "data": {
            "text/plain": [
              "True"
            ]
          },
          "metadata": {
            "tags": []
          },
          "execution_count": 3
        }
      ]
    },
    {
      "cell_type": "code",
      "metadata": {
        "id": "o6tu5QCRYZM0",
        "colab_type": "code",
        "colab": {}
      },
      "source": [
        "from nltk.corpus import gutenberg"
      ],
      "execution_count": 0,
      "outputs": []
    },
    {
      "cell_type": "code",
      "metadata": {
        "id": "rnEXhtbLY8BN",
        "colab_type": "code",
        "outputId": "2aad472a-ae51-4376-bacd-482be01a09cf",
        "colab": {
          "base_uri": "https://localhost:8080/",
          "height": 34
        }
      },
      "source": [
        "len(gutenberg.fileids())"
      ],
      "execution_count": 0,
      "outputs": [
        {
          "output_type": "execute_result",
          "data": {
            "text/plain": [
              "18"
            ]
          },
          "metadata": {
            "tags": []
          },
          "execution_count": 4
        }
      ]
    },
    {
      "cell_type": "code",
      "metadata": {
        "id": "tz5Gox2cuB06",
        "colab_type": "code",
        "outputId": "35c71b91-8961-4e9f-bf60-e5f365740c11",
        "colab": {
          "base_uri": "https://localhost:8080/",
          "height": 323
        }
      },
      "source": [
        "gutenberg.fileids()"
      ],
      "execution_count": 0,
      "outputs": [
        {
          "output_type": "execute_result",
          "data": {
            "text/plain": [
              "['austen-emma.txt',\n",
              " 'austen-persuasion.txt',\n",
              " 'austen-sense.txt',\n",
              " 'bible-kjv.txt',\n",
              " 'blake-poems.txt',\n",
              " 'bryant-stories.txt',\n",
              " 'burgess-busterbrown.txt',\n",
              " 'carroll-alice.txt',\n",
              " 'chesterton-ball.txt',\n",
              " 'chesterton-brown.txt',\n",
              " 'chesterton-thursday.txt',\n",
              " 'edgeworth-parents.txt',\n",
              " 'melville-moby_dick.txt',\n",
              " 'milton-paradise.txt',\n",
              " 'shakespeare-caesar.txt',\n",
              " 'shakespeare-hamlet.txt',\n",
              " 'shakespeare-macbeth.txt',\n",
              " 'whitman-leaves.txt']"
            ]
          },
          "metadata": {
            "tags": []
          },
          "execution_count": 5
        }
      ]
    },
    {
      "cell_type": "markdown",
      "metadata": {
        "id": "to5bt1XD_J3X",
        "colab_type": "text"
      },
      "source": [
        "# Main features of SpaCy:\n",
        "1. Tokenization: Segmenting text into words, punctuations marks\n",
        "2. Part-of-speech Tagging: Assign word types (verb, noun)\n",
        "3. Dependency Parsing: Assign syntactic dependency labels (subject or object)\n",
        "4. Sentence Boundary Detection: Segmenting individual sentences\n",
        "5. Named Entity Recognition: Labelling named \"real-world\" objects (persons, companies, locations)\n",
        "6. Entity Linking: Disambiguating textual entities to unique identifiers in a Knowledge Base\n",
        "7. Similarity: Comparing words, text spans, documents\n",
        "8. Text Classification: Assigning categories or labels to a whole document\n",
        "9. Rule-based Matching: Finding sequences of tokens based on their texts and linguistic annotations\n",
        "10. Training: Updating and improving a statistical model's prediction\n",
        "11. Serialization: Saving objects to files or byte strings"
      ]
    },
    {
      "cell_type": "markdown",
      "metadata": {
        "id": "-qPkCGFjCPYi",
        "colab_type": "text"
      },
      "source": [
        "## Some terms in NLP\n",
        "1. Text: The base form of the word\n",
        "2. POS: The simple part-of-speech tag\n",
        "3. Tag: The detailed part-of-speech tag\n",
        "4. Dep: Syntactic dependency (the relation between tokens)\n",
        "5. Shape: The word shape -  capitalization, punctuation, digits\n",
        "6. is alpha: Is the token an alpha character?\n",
        "7. is stop: is the token part of a stop list"
      ]
    },
    {
      "cell_type": "code",
      "metadata": {
        "id": "lk7oauPK1wgZ",
        "colab_type": "code",
        "colab": {}
      },
      "source": [
        "# Load default model\n",
        "import spacy\n",
        "nlp = spacy.load(\"en_core_web_sm\")"
      ],
      "execution_count": 0,
      "outputs": []
    },
    {
      "cell_type": "code",
      "metadata": {
        "id": "Uguk2Vn0BW3O",
        "colab_type": "code",
        "outputId": "4563ae35-311d-424f-a838-59a89df1e4c9",
        "colab": {
          "base_uri": "https://localhost:8080/",
          "height": 204
        }
      },
      "source": [
        "doc = nlp(\"Apple is looking at buying U.K. startup for $1 billion\")\n",
        "for token in doc:\n",
        "    print(token.text, token.lemma_, token.pos_, token.tag_, token.dep_,\n",
        "            token.shape_, token.is_alpha, token.is_stop)"
      ],
      "execution_count": 0,
      "outputs": [
        {
          "output_type": "stream",
          "text": [
            "Apple Apple PROPN NNP nsubj Xxxxx True False\n",
            "is be VERB VBZ aux xx True True\n",
            "looking look VERB VBG ROOT xxxx True False\n",
            "at at ADP IN prep xx True True\n",
            "buying buy VERB VBG pcomp xxxx True False\n",
            "U.K. U.K. PROPN NNP compound X.X. False False\n",
            "startup startup NOUN NN dobj xxxx True False\n",
            "for for ADP IN prep xxx True True\n",
            "$ $ SYM $ quantmod $ False False\n",
            "1 1 NUM CD compound d False False\n",
            "billion billion NUM CD pobj xxxx True False\n"
          ],
          "name": "stdout"
        }
      ]
    },
    {
      "cell_type": "markdown",
      "metadata": {
        "id": "Qim525GLFav-",
        "colab_type": "text"
      },
      "source": [
        "![Vocab, hashes and lexemes](https://spacy.io/vocab_stringstore-1d1c9ccd7a1cf4d168bfe4ca791e6eed.svg)"
      ]
    },
    {
      "cell_type": "code",
      "metadata": {
        "id": "hpzeZrRkDFoF",
        "colab_type": "code",
        "outputId": "50720ab5-8ac8-4f72-db5b-03c38d3baca0",
        "colab": {
          "base_uri": "https://localhost:8080/",
          "height": 34
        }
      },
      "source": [
        "spacy.explain(\"NNP\")"
      ],
      "execution_count": 0,
      "outputs": [
        {
          "output_type": "execute_result",
          "data": {
            "text/plain": [
              "'noun, proper singular'"
            ]
          },
          "metadata": {
            "tags": []
          },
          "execution_count": 12
        }
      ]
    },
    {
      "cell_type": "code",
      "metadata": {
        "id": "PBhK_wN2DgMf",
        "colab_type": "code",
        "outputId": "491aba57-2f2e-4bc7-87e2-eb751082402e",
        "colab": {
          "base_uri": "https://localhost:8080/",
          "height": 34
        }
      },
      "source": [
        "spacy.explain(\"VBZ\")"
      ],
      "execution_count": 0,
      "outputs": [
        {
          "output_type": "execute_result",
          "data": {
            "text/plain": [
              "'verb, 3rd person singular present'"
            ]
          },
          "metadata": {
            "tags": []
          },
          "execution_count": 13
        }
      ]
    },
    {
      "cell_type": "markdown",
      "metadata": {
        "id": "qeVs1JwFDnxm",
        "colab_type": "text"
      },
      "source": [
        "#### Visualizing the dependency parse"
      ]
    },
    {
      "cell_type": "code",
      "metadata": {
        "id": "6RNvpxHMDigO",
        "colab_type": "code",
        "colab": {}
      },
      "source": [
        "from spacy import displacy"
      ],
      "execution_count": 0,
      "outputs": []
    },
    {
      "cell_type": "code",
      "metadata": {
        "id": "a1HGnFg6DsxA",
        "colab_type": "code",
        "outputId": "14b78395-2d65-48e8-939b-91cd30f8494a",
        "colab": {
          "base_uri": "https://localhost:8080/",
          "height": 52
        }
      },
      "source": [
        "displacy.render(doc, style=\"ent\", jupyter=True)"
      ],
      "execution_count": 0,
      "outputs": [
        {
          "output_type": "display_data",
          "data": {
            "text/html": [
              "<div class=\"entities\" style=\"line-height: 2.5; direction: ltr\">\n",
              "<mark class=\"entity\" style=\"background: #7aecec; padding: 0.45em 0.6em; margin: 0 0.25em; line-height: 1; border-radius: 0.35em; box-decoration-break: clone; -webkit-box-decoration-break: clone\">\n",
              "    Apple\n",
              "    <span style=\"font-size: 0.8em; font-weight: bold; line-height: 1; border-radius: 0.35em; text-transform: uppercase; vertical-align: middle; margin-left: 0.5rem\">ORG</span>\n",
              "</mark>\n",
              " is looking at buying \n",
              "<mark class=\"entity\" style=\"background: #feca74; padding: 0.45em 0.6em; margin: 0 0.25em; line-height: 1; border-radius: 0.35em; box-decoration-break: clone; -webkit-box-decoration-break: clone\">\n",
              "    U.K.\n",
              "    <span style=\"font-size: 0.8em; font-weight: bold; line-height: 1; border-radius: 0.35em; text-transform: uppercase; vertical-align: middle; margin-left: 0.5rem\">GPE</span>\n",
              "</mark>\n",
              " startup for \n",
              "<mark class=\"entity\" style=\"background: #e4e7d2; padding: 0.45em 0.6em; margin: 0 0.25em; line-height: 1; border-radius: 0.35em; box-decoration-break: clone; -webkit-box-decoration-break: clone\">\n",
              "    $1 billion\n",
              "    <span style=\"font-size: 0.8em; font-weight: bold; line-height: 1; border-radius: 0.35em; text-transform: uppercase; vertical-align: middle; margin-left: 0.5rem\">MONEY</span>\n",
              "</mark>\n",
              "</div>"
            ],
            "text/plain": [
              "<IPython.core.display.HTML object>"
            ]
          },
          "metadata": {
            "tags": []
          }
        }
      ]
    },
    {
      "cell_type": "code",
      "metadata": {
        "id": "zRcLxl8fEB26",
        "colab_type": "code",
        "outputId": "c8d653f5-b562-424b-ee54-95a8fe0b5c97",
        "colab": {
          "base_uri": "https://localhost:8080/",
          "height": 441
        }
      },
      "source": [
        "displacy.render(doc, style=\"dep\", jupyter=True)"
      ],
      "execution_count": 0,
      "outputs": [
        {
          "output_type": "display_data",
          "data": {
            "text/html": [
              "<svg xmlns=\"http://www.w3.org/2000/svg\" xmlns:xlink=\"http://www.w3.org/1999/xlink\" xml:lang=\"en\" id=\"c0fd7f738b7d47de93192fdd3d5c893c-0\" class=\"displacy\" width=\"1975\" height=\"399.5\" direction=\"ltr\" style=\"max-width: none; height: 399.5px; color: #000000; background: #ffffff; font-family: Arial; direction: ltr\">\n",
              "<text class=\"displacy-token\" fill=\"currentColor\" text-anchor=\"middle\" y=\"309.5\">\n",
              "    <tspan class=\"displacy-word\" fill=\"currentColor\" x=\"50\">Apple</tspan>\n",
              "    <tspan class=\"displacy-tag\" dy=\"2em\" fill=\"currentColor\" x=\"50\">PROPN</tspan>\n",
              "</text>\n",
              "\n",
              "<text class=\"displacy-token\" fill=\"currentColor\" text-anchor=\"middle\" y=\"309.5\">\n",
              "    <tspan class=\"displacy-word\" fill=\"currentColor\" x=\"225\">is</tspan>\n",
              "    <tspan class=\"displacy-tag\" dy=\"2em\" fill=\"currentColor\" x=\"225\">VERB</tspan>\n",
              "</text>\n",
              "\n",
              "<text class=\"displacy-token\" fill=\"currentColor\" text-anchor=\"middle\" y=\"309.5\">\n",
              "    <tspan class=\"displacy-word\" fill=\"currentColor\" x=\"400\">looking</tspan>\n",
              "    <tspan class=\"displacy-tag\" dy=\"2em\" fill=\"currentColor\" x=\"400\">VERB</tspan>\n",
              "</text>\n",
              "\n",
              "<text class=\"displacy-token\" fill=\"currentColor\" text-anchor=\"middle\" y=\"309.5\">\n",
              "    <tspan class=\"displacy-word\" fill=\"currentColor\" x=\"575\">at</tspan>\n",
              "    <tspan class=\"displacy-tag\" dy=\"2em\" fill=\"currentColor\" x=\"575\">ADP</tspan>\n",
              "</text>\n",
              "\n",
              "<text class=\"displacy-token\" fill=\"currentColor\" text-anchor=\"middle\" y=\"309.5\">\n",
              "    <tspan class=\"displacy-word\" fill=\"currentColor\" x=\"750\">buying</tspan>\n",
              "    <tspan class=\"displacy-tag\" dy=\"2em\" fill=\"currentColor\" x=\"750\">VERB</tspan>\n",
              "</text>\n",
              "\n",
              "<text class=\"displacy-token\" fill=\"currentColor\" text-anchor=\"middle\" y=\"309.5\">\n",
              "    <tspan class=\"displacy-word\" fill=\"currentColor\" x=\"925\">U.K.</tspan>\n",
              "    <tspan class=\"displacy-tag\" dy=\"2em\" fill=\"currentColor\" x=\"925\">PROPN</tspan>\n",
              "</text>\n",
              "\n",
              "<text class=\"displacy-token\" fill=\"currentColor\" text-anchor=\"middle\" y=\"309.5\">\n",
              "    <tspan class=\"displacy-word\" fill=\"currentColor\" x=\"1100\">startup</tspan>\n",
              "    <tspan class=\"displacy-tag\" dy=\"2em\" fill=\"currentColor\" x=\"1100\">NOUN</tspan>\n",
              "</text>\n",
              "\n",
              "<text class=\"displacy-token\" fill=\"currentColor\" text-anchor=\"middle\" y=\"309.5\">\n",
              "    <tspan class=\"displacy-word\" fill=\"currentColor\" x=\"1275\">for</tspan>\n",
              "    <tspan class=\"displacy-tag\" dy=\"2em\" fill=\"currentColor\" x=\"1275\">ADP</tspan>\n",
              "</text>\n",
              "\n",
              "<text class=\"displacy-token\" fill=\"currentColor\" text-anchor=\"middle\" y=\"309.5\">\n",
              "    <tspan class=\"displacy-word\" fill=\"currentColor\" x=\"1450\">$</tspan>\n",
              "    <tspan class=\"displacy-tag\" dy=\"2em\" fill=\"currentColor\" x=\"1450\">SYM</tspan>\n",
              "</text>\n",
              "\n",
              "<text class=\"displacy-token\" fill=\"currentColor\" text-anchor=\"middle\" y=\"309.5\">\n",
              "    <tspan class=\"displacy-word\" fill=\"currentColor\" x=\"1625\">1</tspan>\n",
              "    <tspan class=\"displacy-tag\" dy=\"2em\" fill=\"currentColor\" x=\"1625\">NUM</tspan>\n",
              "</text>\n",
              "\n",
              "<text class=\"displacy-token\" fill=\"currentColor\" text-anchor=\"middle\" y=\"309.5\">\n",
              "    <tspan class=\"displacy-word\" fill=\"currentColor\" x=\"1800\">billion</tspan>\n",
              "    <tspan class=\"displacy-tag\" dy=\"2em\" fill=\"currentColor\" x=\"1800\">NUM</tspan>\n",
              "</text>\n",
              "\n",
              "<g class=\"displacy-arrow\">\n",
              "    <path class=\"displacy-arc\" id=\"arrow-c0fd7f738b7d47de93192fdd3d5c893c-0-0\" stroke-width=\"2px\" d=\"M70,264.5 C70,89.5 395.0,89.5 395.0,264.5\" fill=\"none\" stroke=\"currentColor\"/>\n",
              "    <text dy=\"1.25em\" style=\"font-size: 0.8em; letter-spacing: 1px\">\n",
              "        <textPath xlink:href=\"#arrow-c0fd7f738b7d47de93192fdd3d5c893c-0-0\" class=\"displacy-label\" startOffset=\"50%\" side=\"left\" fill=\"currentColor\" text-anchor=\"middle\">nsubj</textPath>\n",
              "    </text>\n",
              "    <path class=\"displacy-arrowhead\" d=\"M70,266.5 L62,254.5 78,254.5\" fill=\"currentColor\"/>\n",
              "</g>\n",
              "\n",
              "<g class=\"displacy-arrow\">\n",
              "    <path class=\"displacy-arc\" id=\"arrow-c0fd7f738b7d47de93192fdd3d5c893c-0-1\" stroke-width=\"2px\" d=\"M245,264.5 C245,177.0 390.0,177.0 390.0,264.5\" fill=\"none\" stroke=\"currentColor\"/>\n",
              "    <text dy=\"1.25em\" style=\"font-size: 0.8em; letter-spacing: 1px\">\n",
              "        <textPath xlink:href=\"#arrow-c0fd7f738b7d47de93192fdd3d5c893c-0-1\" class=\"displacy-label\" startOffset=\"50%\" side=\"left\" fill=\"currentColor\" text-anchor=\"middle\">aux</textPath>\n",
              "    </text>\n",
              "    <path class=\"displacy-arrowhead\" d=\"M245,266.5 L237,254.5 253,254.5\" fill=\"currentColor\"/>\n",
              "</g>\n",
              "\n",
              "<g class=\"displacy-arrow\">\n",
              "    <path class=\"displacy-arc\" id=\"arrow-c0fd7f738b7d47de93192fdd3d5c893c-0-2\" stroke-width=\"2px\" d=\"M420,264.5 C420,177.0 565.0,177.0 565.0,264.5\" fill=\"none\" stroke=\"currentColor\"/>\n",
              "    <text dy=\"1.25em\" style=\"font-size: 0.8em; letter-spacing: 1px\">\n",
              "        <textPath xlink:href=\"#arrow-c0fd7f738b7d47de93192fdd3d5c893c-0-2\" class=\"displacy-label\" startOffset=\"50%\" side=\"left\" fill=\"currentColor\" text-anchor=\"middle\">prep</textPath>\n",
              "    </text>\n",
              "    <path class=\"displacy-arrowhead\" d=\"M565.0,266.5 L573.0,254.5 557.0,254.5\" fill=\"currentColor\"/>\n",
              "</g>\n",
              "\n",
              "<g class=\"displacy-arrow\">\n",
              "    <path class=\"displacy-arc\" id=\"arrow-c0fd7f738b7d47de93192fdd3d5c893c-0-3\" stroke-width=\"2px\" d=\"M595,264.5 C595,177.0 740.0,177.0 740.0,264.5\" fill=\"none\" stroke=\"currentColor\"/>\n",
              "    <text dy=\"1.25em\" style=\"font-size: 0.8em; letter-spacing: 1px\">\n",
              "        <textPath xlink:href=\"#arrow-c0fd7f738b7d47de93192fdd3d5c893c-0-3\" class=\"displacy-label\" startOffset=\"50%\" side=\"left\" fill=\"currentColor\" text-anchor=\"middle\">pcomp</textPath>\n",
              "    </text>\n",
              "    <path class=\"displacy-arrowhead\" d=\"M740.0,266.5 L748.0,254.5 732.0,254.5\" fill=\"currentColor\"/>\n",
              "</g>\n",
              "\n",
              "<g class=\"displacy-arrow\">\n",
              "    <path class=\"displacy-arc\" id=\"arrow-c0fd7f738b7d47de93192fdd3d5c893c-0-4\" stroke-width=\"2px\" d=\"M945,264.5 C945,177.0 1090.0,177.0 1090.0,264.5\" fill=\"none\" stroke=\"currentColor\"/>\n",
              "    <text dy=\"1.25em\" style=\"font-size: 0.8em; letter-spacing: 1px\">\n",
              "        <textPath xlink:href=\"#arrow-c0fd7f738b7d47de93192fdd3d5c893c-0-4\" class=\"displacy-label\" startOffset=\"50%\" side=\"left\" fill=\"currentColor\" text-anchor=\"middle\">compound</textPath>\n",
              "    </text>\n",
              "    <path class=\"displacy-arrowhead\" d=\"M945,266.5 L937,254.5 953,254.5\" fill=\"currentColor\"/>\n",
              "</g>\n",
              "\n",
              "<g class=\"displacy-arrow\">\n",
              "    <path class=\"displacy-arc\" id=\"arrow-c0fd7f738b7d47de93192fdd3d5c893c-0-5\" stroke-width=\"2px\" d=\"M770,264.5 C770,89.5 1095.0,89.5 1095.0,264.5\" fill=\"none\" stroke=\"currentColor\"/>\n",
              "    <text dy=\"1.25em\" style=\"font-size: 0.8em; letter-spacing: 1px\">\n",
              "        <textPath xlink:href=\"#arrow-c0fd7f738b7d47de93192fdd3d5c893c-0-5\" class=\"displacy-label\" startOffset=\"50%\" side=\"left\" fill=\"currentColor\" text-anchor=\"middle\">dobj</textPath>\n",
              "    </text>\n",
              "    <path class=\"displacy-arrowhead\" d=\"M1095.0,266.5 L1103.0,254.5 1087.0,254.5\" fill=\"currentColor\"/>\n",
              "</g>\n",
              "\n",
              "<g class=\"displacy-arrow\">\n",
              "    <path class=\"displacy-arc\" id=\"arrow-c0fd7f738b7d47de93192fdd3d5c893c-0-6\" stroke-width=\"2px\" d=\"M770,264.5 C770,2.0 1275.0,2.0 1275.0,264.5\" fill=\"none\" stroke=\"currentColor\"/>\n",
              "    <text dy=\"1.25em\" style=\"font-size: 0.8em; letter-spacing: 1px\">\n",
              "        <textPath xlink:href=\"#arrow-c0fd7f738b7d47de93192fdd3d5c893c-0-6\" class=\"displacy-label\" startOffset=\"50%\" side=\"left\" fill=\"currentColor\" text-anchor=\"middle\">prep</textPath>\n",
              "    </text>\n",
              "    <path class=\"displacy-arrowhead\" d=\"M1275.0,266.5 L1283.0,254.5 1267.0,254.5\" fill=\"currentColor\"/>\n",
              "</g>\n",
              "\n",
              "<g class=\"displacy-arrow\">\n",
              "    <path class=\"displacy-arc\" id=\"arrow-c0fd7f738b7d47de93192fdd3d5c893c-0-7\" stroke-width=\"2px\" d=\"M1470,264.5 C1470,89.5 1795.0,89.5 1795.0,264.5\" fill=\"none\" stroke=\"currentColor\"/>\n",
              "    <text dy=\"1.25em\" style=\"font-size: 0.8em; letter-spacing: 1px\">\n",
              "        <textPath xlink:href=\"#arrow-c0fd7f738b7d47de93192fdd3d5c893c-0-7\" class=\"displacy-label\" startOffset=\"50%\" side=\"left\" fill=\"currentColor\" text-anchor=\"middle\">quantmod</textPath>\n",
              "    </text>\n",
              "    <path class=\"displacy-arrowhead\" d=\"M1470,266.5 L1462,254.5 1478,254.5\" fill=\"currentColor\"/>\n",
              "</g>\n",
              "\n",
              "<g class=\"displacy-arrow\">\n",
              "    <path class=\"displacy-arc\" id=\"arrow-c0fd7f738b7d47de93192fdd3d5c893c-0-8\" stroke-width=\"2px\" d=\"M1645,264.5 C1645,177.0 1790.0,177.0 1790.0,264.5\" fill=\"none\" stroke=\"currentColor\"/>\n",
              "    <text dy=\"1.25em\" style=\"font-size: 0.8em; letter-spacing: 1px\">\n",
              "        <textPath xlink:href=\"#arrow-c0fd7f738b7d47de93192fdd3d5c893c-0-8\" class=\"displacy-label\" startOffset=\"50%\" side=\"left\" fill=\"currentColor\" text-anchor=\"middle\">compound</textPath>\n",
              "    </text>\n",
              "    <path class=\"displacy-arrowhead\" d=\"M1645,266.5 L1637,254.5 1653,254.5\" fill=\"currentColor\"/>\n",
              "</g>\n",
              "\n",
              "<g class=\"displacy-arrow\">\n",
              "    <path class=\"displacy-arc\" id=\"arrow-c0fd7f738b7d47de93192fdd3d5c893c-0-9\" stroke-width=\"2px\" d=\"M1295,264.5 C1295,2.0 1800.0,2.0 1800.0,264.5\" fill=\"none\" stroke=\"currentColor\"/>\n",
              "    <text dy=\"1.25em\" style=\"font-size: 0.8em; letter-spacing: 1px\">\n",
              "        <textPath xlink:href=\"#arrow-c0fd7f738b7d47de93192fdd3d5c893c-0-9\" class=\"displacy-label\" startOffset=\"50%\" side=\"left\" fill=\"currentColor\" text-anchor=\"middle\">pobj</textPath>\n",
              "    </text>\n",
              "    <path class=\"displacy-arrowhead\" d=\"M1800.0,266.5 L1808.0,254.5 1792.0,254.5\" fill=\"currentColor\"/>\n",
              "</g>\n",
              "</svg>"
            ],
            "text/plain": [
              "<IPython.core.display.HTML object>"
            ]
          },
          "metadata": {
            "tags": []
          }
        }
      ]
    },
    {
      "cell_type": "markdown",
      "metadata": {
        "id": "Yt955tVtGaou",
        "colab_type": "text"
      },
      "source": [
        "# Extract statistics description about the corpus"
      ]
    },
    {
      "cell_type": "code",
      "metadata": {
        "id": "8yCZgwHEOWkU",
        "colab_type": "code",
        "colab": {}
      },
      "source": [
        "gutenberg_corpus = {}\n",
        "for fileid in gutenberg.fileids():\n",
        "  gutenberg_corpus[fileid] = {}\n",
        "  gutenberg_corpus[fileid]['num_vocab'] = len(set([w.lower() for w in gutenberg.words(fileid)]))\n",
        "  gutenberg_corpus[fileid]['nof_chars_per_word'] = len(gutenberg.raw(fileid)) / len(gutenberg.words(fileid))\n",
        "  gutenberg_corpus[fileid]['nof_words_per_sentence'] = len(gutenberg.words(fileid)) / len(gutenberg.sents(fileid))\n",
        "  gutenberg_corpus[fileid]['nof_times_per_word'] = len(gutenberg.words(fileid)) / num_vocab"
      ],
      "execution_count": 0,
      "outputs": []
    },
    {
      "cell_type": "code",
      "metadata": {
        "id": "bpEBZzTmPV0Y",
        "colab_type": "code",
        "colab": {}
      },
      "source": [
        "gutenberg_corpus_df = pd.DataFrame(gutenberg_corpus).T"
      ],
      "execution_count": 0,
      "outputs": []
    },
    {
      "cell_type": "code",
      "metadata": {
        "id": "bNNIalcAQOen",
        "colab_type": "code",
        "outputId": "37cc50af-cda6-4fa6-dae6-2eb55a55304f",
        "colab": {
          "base_uri": "https://localhost:8080/",
          "height": 607
        }
      },
      "source": [
        "gutenberg_corpus_df"
      ],
      "execution_count": 0,
      "outputs": [
        {
          "output_type": "execute_result",
          "data": {
            "text/html": [
              "<div>\n",
              "<style scoped>\n",
              "    .dataframe tbody tr th:only-of-type {\n",
              "        vertical-align: middle;\n",
              "    }\n",
              "\n",
              "    .dataframe tbody tr th {\n",
              "        vertical-align: top;\n",
              "    }\n",
              "\n",
              "    .dataframe thead th {\n",
              "        text-align: right;\n",
              "    }\n",
              "</style>\n",
              "<table border=\"1\" class=\"dataframe\">\n",
              "  <thead>\n",
              "    <tr style=\"text-align: right;\">\n",
              "      <th></th>\n",
              "      <th>num_vocab</th>\n",
              "      <th>nof_chars_per_word</th>\n",
              "      <th>nof_words_per_sentence</th>\n",
              "      <th>nof_times_per_word</th>\n",
              "    </tr>\n",
              "  </thead>\n",
              "  <tbody>\n",
              "    <tr>\n",
              "      <th>austen-emma.txt</th>\n",
              "      <td>7344.0</td>\n",
              "      <td>4.609909</td>\n",
              "      <td>24.822884</td>\n",
              "      <td>15.453501</td>\n",
              "    </tr>\n",
              "    <tr>\n",
              "      <th>austen-persuasion.txt</th>\n",
              "      <td>5835.0</td>\n",
              "      <td>4.749794</td>\n",
              "      <td>26.199893</td>\n",
              "      <td>7.883954</td>\n",
              "    </tr>\n",
              "    <tr>\n",
              "      <th>austen-sense.txt</th>\n",
              "      <td>6403.0</td>\n",
              "      <td>4.753786</td>\n",
              "      <td>28.320864</td>\n",
              "      <td>11.369740</td>\n",
              "    </tr>\n",
              "    <tr>\n",
              "      <th>bible-kjv.txt</th>\n",
              "      <td>12767.0</td>\n",
              "      <td>4.286882</td>\n",
              "      <td>33.573199</td>\n",
              "      <td>81.163990</td>\n",
              "    </tr>\n",
              "    <tr>\n",
              "      <th>blake-poems.txt</th>\n",
              "      <td>1535.0</td>\n",
              "      <td>4.567034</td>\n",
              "      <td>19.073059</td>\n",
              "      <td>0.670896</td>\n",
              "    </tr>\n",
              "    <tr>\n",
              "      <th>bryant-stories.txt</th>\n",
              "      <td>3940.0</td>\n",
              "      <td>4.489300</td>\n",
              "      <td>19.407265</td>\n",
              "      <td>4.462175</td>\n",
              "    </tr>\n",
              "    <tr>\n",
              "      <th>burgess-busterbrown.txt</th>\n",
              "      <td>1559.0</td>\n",
              "      <td>4.464642</td>\n",
              "      <td>17.991461</td>\n",
              "      <td>1.522888</td>\n",
              "    </tr>\n",
              "    <tr>\n",
              "      <th>carroll-alice.txt</th>\n",
              "      <td>2636.0</td>\n",
              "      <td>4.233216</td>\n",
              "      <td>20.029360</td>\n",
              "      <td>2.739319</td>\n",
              "    </tr>\n",
              "    <tr>\n",
              "      <th>chesterton-ball.txt</th>\n",
              "      <td>8335.0</td>\n",
              "      <td>4.716174</td>\n",
              "      <td>20.296296</td>\n",
              "      <td>7.789592</td>\n",
              "    </tr>\n",
              "    <tr>\n",
              "      <th>chesterton-brown.txt</th>\n",
              "      <td>7794.0</td>\n",
              "      <td>4.724783</td>\n",
              "      <td>22.612454</td>\n",
              "      <td>6.911580</td>\n",
              "    </tr>\n",
              "    <tr>\n",
              "      <th>chesterton-thursday.txt</th>\n",
              "      <td>6349.0</td>\n",
              "      <td>4.630994</td>\n",
              "      <td>18.496259</td>\n",
              "      <td>5.558384</td>\n",
              "    </tr>\n",
              "    <tr>\n",
              "      <th>edgeworth-parents.txt</th>\n",
              "      <td>8447.0</td>\n",
              "      <td>4.439118</td>\n",
              "      <td>20.592669</td>\n",
              "      <td>16.918005</td>\n",
              "    </tr>\n",
              "    <tr>\n",
              "      <th>melville-moby_dick.txt</th>\n",
              "      <td>17231.0</td>\n",
              "      <td>4.765719</td>\n",
              "      <td>25.928919</td>\n",
              "      <td>20.945952</td>\n",
              "    </tr>\n",
              "    <tr>\n",
              "      <th>milton-paradise.txt</th>\n",
              "      <td>9021.0</td>\n",
              "      <td>4.835735</td>\n",
              "      <td>52.309562</td>\n",
              "      <td>7.775859</td>\n",
              "    </tr>\n",
              "    <tr>\n",
              "      <th>shakespeare-caesar.txt</th>\n",
              "      <td>3032.0</td>\n",
              "      <td>4.347540</td>\n",
              "      <td>11.943135</td>\n",
              "      <td>2.074606</td>\n",
              "    </tr>\n",
              "    <tr>\n",
              "      <th>shakespeare-hamlet.txt</th>\n",
              "      <td>4716.0</td>\n",
              "      <td>4.359770</td>\n",
              "      <td>12.028332</td>\n",
              "      <td>3.000321</td>\n",
              "    </tr>\n",
              "    <tr>\n",
              "      <th>shakespeare-macbeth.txt</th>\n",
              "      <td>3464.0</td>\n",
              "      <td>4.336690</td>\n",
              "      <td>12.134242</td>\n",
              "      <td>1.858336</td>\n",
              "    </tr>\n",
              "    <tr>\n",
              "      <th>whitman-leaves.txt</th>\n",
              "      <td>12452.0</td>\n",
              "      <td>4.591950</td>\n",
              "      <td>36.443059</td>\n",
              "      <td>12.438403</td>\n",
              "    </tr>\n",
              "  </tbody>\n",
              "</table>\n",
              "</div>"
            ],
            "text/plain": [
              "                         num_vocab  ...  nof_times_per_word\n",
              "austen-emma.txt             7344.0  ...           15.453501\n",
              "austen-persuasion.txt       5835.0  ...            7.883954\n",
              "austen-sense.txt            6403.0  ...           11.369740\n",
              "bible-kjv.txt              12767.0  ...           81.163990\n",
              "blake-poems.txt             1535.0  ...            0.670896\n",
              "bryant-stories.txt          3940.0  ...            4.462175\n",
              "burgess-busterbrown.txt     1559.0  ...            1.522888\n",
              "carroll-alice.txt           2636.0  ...            2.739319\n",
              "chesterton-ball.txt         8335.0  ...            7.789592\n",
              "chesterton-brown.txt        7794.0  ...            6.911580\n",
              "chesterton-thursday.txt     6349.0  ...            5.558384\n",
              "edgeworth-parents.txt       8447.0  ...           16.918005\n",
              "melville-moby_dick.txt     17231.0  ...           20.945952\n",
              "milton-paradise.txt         9021.0  ...            7.775859\n",
              "shakespeare-caesar.txt      3032.0  ...            2.074606\n",
              "shakespeare-hamlet.txt      4716.0  ...            3.000321\n",
              "shakespeare-macbeth.txt     3464.0  ...            1.858336\n",
              "whitman-leaves.txt         12452.0  ...           12.438403\n",
              "\n",
              "[18 rows x 4 columns]"
            ]
          },
          "metadata": {
            "tags": []
          },
          "execution_count": 90
        }
      ]
    },
    {
      "cell_type": "code",
      "metadata": {
        "id": "LvQnkYD8QmOT",
        "colab_type": "code",
        "outputId": "ceca6bc5-406c-4196-eb07-61565b50dad6",
        "colab": {
          "base_uri": "https://localhost:8080/",
          "height": 726
        }
      },
      "source": [
        "import matplotlib.pyplot as plt\n",
        "\n",
        "fig, axes = plt.subplots(nrows=len(gutenberg_corpus_df.columns), ncols=1)\n",
        "for i, metric in enumerate(gutenberg_corpus_df.columns):\n",
        "    gutenberg_corpus_df[metric].plot(ax=axes[i], kind='bar', sharex=True, sharey=False, figsize=(10, 10), title=gutenberg_corpus_df.columns[i], color=np.random.rand(3))\n",
        "    # plt.xlabel(dim)\n",
        "    \n",
        "plt.show()\n"
      ],
      "execution_count": 0,
      "outputs": [
        {
          "output_type": "display_data",
          "data": {
            "image/png": "[encoded data removed]",
            "text/plain": [
              "<Figure size 720x720 with 4 Axes>"
            ]
          },
          "metadata": {
            "tags": []
          }
        }
      ]
    },
    {
      "cell_type": "markdown",
      "metadata": {
        "id": "MqJ5JFEfc7Cr",
        "colab_type": "text"
      },
      "source": [
        "## Gutenberg alt-API"
      ]
    },
    {
      "cell_type": "markdown",
      "metadata": {
        "id": "1jkyu-rJq2Gx",
        "colab_type": "text"
      },
      "source": [
        "### Install dependencies"
      ]
    },
    {
      "cell_type": "code",
      "metadata": {
        "colab_type": "code",
        "outputId": "1b1fbc49-78f5-4b64-a1ec-375e02e0dd9f",
        "id": "1l-tvrmRYB_p",
        "colab": {
          "base_uri": "https://localhost:8080/",
          "height": 136
        }
      },
      "source": [
        "!git clone https://github.com/c-w/Gutenberg.git\n"
      ],
      "execution_count": 0,
      "outputs": [
        {
          "output_type": "stream",
          "text": [
            "Cloning into 'Gutenberg'...\n",
            "remote: Enumerating objects: 25, done.\u001b[K\n",
            "remote: Counting objects: 100% (25/25), done.\u001b[K\n",
            "remote: Compressing objects: 100% (20/20), done.\u001b[K\n",
            "remote: Total 2441 (delta 11), reused 16 (delta 5), pack-reused 2416\u001b[K\n",
            "Receiving objects: 100% (2441/2441), 5.99 MiB | 13.15 MiB/s, done.\n",
            "Resolving deltas: 100% (1565/1565), done.\n"
          ],
          "name": "stdout"
        }
      ]
    },
    {
      "cell_type": "code",
      "metadata": {
        "id": "aPqCUlvkcwHe",
        "colab_type": "code",
        "outputId": "5d674f74-2975-4b4d-a1e6-014bc896ed49",
        "colab": {
          "base_uri": "https://localhost:8080/",
          "height": 802
        }
      },
      "source": [
        "!sudo apt-get install libdb++-dev\n",
        "!export BERKELEYDB_DIR=/usr"
      ],
      "execution_count": 0,
      "outputs": [
        {
          "output_type": "stream",
          "text": [
            "Reading package lists... Done\n",
            "Building dependency tree       \n",
            "Reading state information... Done\n",
            "The following package was automatically installed and is no longer required:\n",
            "  libnvidia-common-430\n",
            "Use 'sudo apt autoremove' to remove it.\n",
            "The following additional packages will be installed:\n",
            "  libdb5.3++ libdb5.3++-dev libdb5.3-dev\n",
            "Suggested packages:\n",
            "  db5.3-doc\n",
            "The following NEW packages will be installed:\n",
            "  libdb++-dev libdb5.3++ libdb5.3++-dev libdb5.3-dev\n",
            "0 upgraded, 4 newly installed, 0 to remove and 7 not upgraded.\n",
            "Need to get 2,245 kB of archives.\n",
            "After this operation, 8,395 kB of additional disk space will be used.\n",
            "Get:1 http://archive.ubuntu.com/ubuntu bionic-updates/main amd64 libdb5.3++ amd64 5.3.28-13.1ubuntu1.1 [703 kB]\n",
            "Get:2 http://archive.ubuntu.com/ubuntu bionic-updates/main amd64 libdb5.3-dev amd64 5.3.28-13.1ubuntu1.1 [762 kB]\n",
            "Get:3 http://archive.ubuntu.com/ubuntu bionic-updates/main amd64 libdb5.3++-dev amd64 5.3.28-13.1ubuntu1.1 [778 kB]\n",
            "Get:4 http://archive.ubuntu.com/ubuntu bionic/main amd64 libdb++-dev amd64 1:5.3.21~exp1ubuntu2 [2,340 B]\n",
            "Fetched 2,245 kB in 1s (1,531 kB/s)\n",
            "debconf: unable to initialize frontend: Dialog\n",
            "debconf: (No usable dialog-like program is installed, so the dialog based frontend cannot be used. at /usr/share/perl5/Debconf/FrontEnd/Dialog.pm line 76, <> line 4.)\n",
            "debconf: falling back to frontend: Readline\n",
            "debconf: unable to initialize frontend: Readline\n",
            "debconf: (This frontend requires a controlling tty.)\n",
            "debconf: falling back to frontend: Teletype\n",
            "dpkg-preconfigure: unable to re-open stdin: \n",
            "Selecting previously unselected package libdb5.3++:amd64.\n",
            "(Reading database ... 145674 files and directories currently installed.)\n",
            "Preparing to unpack .../libdb5.3++_5.3.28-13.1ubuntu1.1_amd64.deb ...\n",
            "Unpacking libdb5.3++:amd64 (5.3.28-13.1ubuntu1.1) ...\n",
            "Selecting previously unselected package libdb5.3-dev.\n",
            "Preparing to unpack .../libdb5.3-dev_5.3.28-13.1ubuntu1.1_amd64.deb ...\n",
            "Unpacking libdb5.3-dev (5.3.28-13.1ubuntu1.1) ...\n",
            "Selecting previously unselected package libdb5.3++-dev.\n",
            "Preparing to unpack .../libdb5.3++-dev_5.3.28-13.1ubuntu1.1_amd64.deb ...\n",
            "Unpacking libdb5.3++-dev (5.3.28-13.1ubuntu1.1) ...\n",
            "Selecting previously unselected package libdb++-dev:amd64.\n",
            "Preparing to unpack .../libdb++-dev_1%3a5.3.21~exp1ubuntu2_amd64.deb ...\n",
            "Unpacking libdb++-dev:amd64 (1:5.3.21~exp1ubuntu2) ...\n",
            "Setting up libdb5.3-dev (5.3.28-13.1ubuntu1.1) ...\n",
            "Setting up libdb5.3++:amd64 (5.3.28-13.1ubuntu1.1) ...\n",
            "Setting up libdb5.3++-dev (5.3.28-13.1ubuntu1.1) ...\n",
            "Setting up libdb++-dev:amd64 (1:5.3.21~exp1ubuntu2) ...\n",
            "Processing triggers for libc-bin (2.27-3ubuntu1) ...\n"
          ],
          "name": "stdout"
        }
      ]
    },
    {
      "cell_type": "code",
      "metadata": {
        "id": "bcvYrUHwc9oq",
        "colab_type": "code",
        "outputId": "8492903b-a440-4b00-bfe3-d8d3a378cba9",
        "colab": {
          "base_uri": "https://localhost:8080/",
          "height": 887
        }
      },
      "source": [
        "%cd Gutenberg/\n",
        "!pip3 install ."
      ],
      "execution_count": 0,
      "outputs": [
        {
          "output_type": "stream",
          "text": [
            "/content/Gutenberg\n",
            "Processing /content/Gutenberg\n",
            "Collecting SPARQLWrapper>=1.8.2\n",
            "  Using cached https://files.pythonhosted.org/packages/b0/1d/d7c60a451a255fca655fe37eb3f6e3b3daa7d33fc87eeec0d8631d501e76/SPARQLWrapper-1.8.4-py3-none-any.whl\n",
            "Collecting bsddb3>=6.1.0\n",
            "  Using cached https://files.pythonhosted.org/packages/e9/fc/ebfbd4de236b493f9ece156f816c21df0ae87ccc22604c5f9b664efef1b9/bsddb3-6.2.6.tar.gz\n",
            "Requirement already satisfied: future>=0.15.2 in /usr/local/lib/python3.6/dist-packages (from Gutenberg==0.8.0) (0.16.0)\n",
            "Collecting rdflib-sqlalchemy>=0.3.8\n",
            "  Downloading https://files.pythonhosted.org/packages/d3/27/598bc4e206399075bef5b055898dee5f35e9f4b1d8737c3fce2f3c4ee013/rdflib_sqlalchemy-0.4.0-py3-none-any.whl\n",
            "Collecting rdflib>=4.2.0\n",
            "\u001b[?25l  Downloading https://files.pythonhosted.org/packages/3c/fe/630bacb652680f6d481b9febbb3e2c3869194a1a5fc3401a4a41195a2f8f/rdflib-4.2.2-py3-none-any.whl (344kB)\n",
            "\u001b[K     |████████████████████████████████| 348kB 44.5MB/s \n",
            "\u001b[?25hRequirement already satisfied: requests>=2.5.1 in /usr/local/lib/python3.6/dist-packages (from Gutenberg==0.8.0) (2.21.0)\n",
            "Requirement already satisfied: setuptools>=18.5 in /usr/local/lib/python3.6/dist-packages (from Gutenberg==0.8.0) (42.0.2)\n",
            "Requirement already satisfied: six>=1.10.0 in /usr/local/lib/python3.6/dist-packages (from Gutenberg==0.8.0) (1.12.0)\n",
            "Requirement already satisfied: SQLAlchemy>=1.1.4 in /usr/local/lib/python3.6/dist-packages (from rdflib-sqlalchemy>=0.3.8->Gutenberg==0.8.0) (1.3.12)\n",
            "Collecting alembic>=0.8.8\n",
            "\u001b[?25l  Downloading https://files.pythonhosted.org/packages/dc/6d/3c1411dfdcf089ec89ce5e2222deb2292f39b6b1a5911222e15af9fe5a92/alembic-1.3.2.tar.gz (1.1MB)\n",
            "\u001b[K     |████████████████████████████████| 1.1MB 66.5MB/s \n",
            "\u001b[?25hCollecting isodate\n",
            "\u001b[?25l  Downloading https://files.pythonhosted.org/packages/9b/9f/b36f7774ff5ea8e428fdcfc4bb332c39ee5b9362ddd3d40d9516a55221b2/isodate-0.6.0-py2.py3-none-any.whl (45kB)\n",
            "\u001b[K     |████████████████████████████████| 51kB 9.9MB/s \n",
            "\u001b[?25hRequirement already satisfied: pyparsing in /usr/local/lib/python3.6/dist-packages (from rdflib>=4.2.0->Gutenberg==0.8.0) (2.4.5)\n",
            "Requirement already satisfied: idna<2.9,>=2.5 in /usr/local/lib/python3.6/dist-packages (from requests>=2.5.1->Gutenberg==0.8.0) (2.8)\n",
            "Requirement already satisfied: urllib3<1.25,>=1.21.1 in /usr/local/lib/python3.6/dist-packages (from requests>=2.5.1->Gutenberg==0.8.0) (1.24.3)\n",
            "Requirement already satisfied: chardet<3.1.0,>=3.0.2 in /usr/local/lib/python3.6/dist-packages (from requests>=2.5.1->Gutenberg==0.8.0) (3.0.4)\n",
            "Requirement already satisfied: certifi>=2017.4.17 in /usr/local/lib/python3.6/dist-packages (from requests>=2.5.1->Gutenberg==0.8.0) (2019.11.28)\n",
            "Collecting Mako\n",
            "\u001b[?25l  Downloading https://files.pythonhosted.org/packages/b0/3c/8dcd6883d009f7cae0f3157fb53e9afb05a0d3d33b3db1268ec2e6f4a56b/Mako-1.1.0.tar.gz (463kB)\n",
            "\u001b[K     |████████████████████████████████| 471kB 59.9MB/s \n",
            "\u001b[?25hCollecting python-editor>=0.3\n",
            "  Downloading https://files.pythonhosted.org/packages/c6/d3/201fc3abe391bbae6606e6f1d598c15d367033332bd54352b12f35513717/python_editor-1.0.4-py3-none-any.whl\n",
            "Requirement already satisfied: python-dateutil in /usr/local/lib/python3.6/dist-packages (from alembic>=0.8.8->rdflib-sqlalchemy>=0.3.8->Gutenberg==0.8.0) (2.6.1)\n",
            "Requirement already satisfied: MarkupSafe>=0.9.2 in /usr/local/lib/python3.6/dist-packages (from Mako->alembic>=0.8.8->rdflib-sqlalchemy>=0.3.8->Gutenberg==0.8.0) (1.1.1)\n",
            "Building wheels for collected packages: Gutenberg, bsddb3, alembic, Mako\n",
            "  Building wheel for Gutenberg (setup.py) ... \u001b[?25l\u001b[?25hdone\n",
            "  Created wheel for Gutenberg: filename=Gutenberg-0.8.0-cp36-none-any.whl size=26370 sha256=204591df8fde80448f5602bab08e536708d875ad3038974a38f4ac6658ea6aff\n",
            "  Stored in directory: /tmp/pip-ephem-wheel-cache-hle2hsj2/wheels/a6/bb/7e/2beb48e3bec826e0278109e548ddd807fe6972d2c4626bdd4f\n",
            "  Building wheel for bsddb3 (setup.py) ... \u001b[?25l\u001b[?25hdone\n",
            "  Created wheel for bsddb3: filename=bsddb3-6.2.6-cp36-cp36m-linux_x86_64.whl size=298292 sha256=e17f7f0ca7f9b7dbb47ecd0ab86aa2c6d012fa9e3c0517a9b26120b81108229a\n",
            "  Stored in directory: /root/.cache/pip/wheels/11/b8/b3/fa84db10bf8c563e4ba1a72837a0946d123f12adb34b164bf5\n",
            "  Building wheel for alembic (setup.py) ... \u001b[?25l\u001b[?25hdone\n",
            "  Created wheel for alembic: filename=alembic-1.3.2-py2.py3-none-any.whl size=151128 sha256=58912c2e8361628210906dd814327dd2d8e27cfd13617b8473630fd75d1bb648\n",
            "  Stored in directory: /root/.cache/pip/wheels/5c/66/53/e0633382ac8625ab1c099db6a290d1b6b24f849a4666a57105\n",
            "  Building wheel for Mako (setup.py) ... \u001b[?25l\u001b[?25hdone\n",
            "  Created wheel for Mako: filename=Mako-1.1.0-cp36-none-any.whl size=75363 sha256=ec1ee9f9e6d389cc2387b15f7ce17ad5ced74393efbfdb0439d4dc1f0b1b2c39\n",
            "  Stored in directory: /root/.cache/pip/wheels/98/32/7b/a291926643fc1d1e02593e0d9e247c5a866a366b8343b7aa27\n",
            "Successfully built Gutenberg bsddb3 alembic Mako\n",
            "Installing collected packages: isodate, rdflib, SPARQLWrapper, bsddb3, Mako, python-editor, alembic, rdflib-sqlalchemy, Gutenberg\n",
            "Successfully installed Gutenberg-0.8.0 Mako-1.1.0 SPARQLWrapper-1.8.4 alembic-1.3.2 bsddb3-6.2.6 isodate-0.6.0 python-editor-1.0.4 rdflib-4.2.2 rdflib-sqlalchemy-0.4.0\n"
          ],
          "name": "stdout"
        }
      ]
    },
    {
      "cell_type": "markdown",
      "metadata": {
        "id": "ANA4_8oEqbKB",
        "colab_type": "text"
      },
      "source": [
        "### Populate the cache"
      ]
    },
    {
      "cell_type": "code",
      "metadata": {
        "id": "TkoM1k7cdONZ",
        "colab_type": "code",
        "colab": {}
      },
      "source": [
        "# from gutenberg.acquire import get_metadata_cache\n",
        "# cache = get_metadata_cache()\n",
        "# cache.populate()"
      ],
      "execution_count": 0,
      "outputs": []
    },
    {
      "cell_type": "code",
      "metadata": {
        "id": "JrQ-Rnxirt1v",
        "colab_type": "code",
        "outputId": "5156926e-e3b8-416c-e963-d50f6b515a67",
        "colab": {
          "base_uri": "https://localhost:8080/",
          "height": 121
        }
      },
      "source": [
        "from google.colab import drive\n",
        "drive.mount('/content/drive', force_remount=True)"
      ],
      "execution_count": 0,
      "outputs": [
        {
          "output_type": "stream",
          "text": [
            "Go to this URL in a browser: https://accounts.google.com/o/oauth2/auth?client_id=947318989803-6bn6qk8qdgf4n4g3pfee6491hc0brc4i.apps.googleusercontent.com&redirect_uri=urn%3aietf%3awg%3aoauth%3a2.0%3aoob&response_type=code&scope=email%20https%3a%2f%2fwww.googleapis.com%2fauth%2fdocs.test%20https%3a%2f%2fwww.googleapis.com%2fauth%2fdrive%20https%3a%2f%2fwww.googleapis.com%2fauth%2fdrive.photos.readonly%20https%3a%2f%2fwww.googleapis.com%2fauth%2fpeopleapi.readonly\n",
            "\n",
            "Enter your authorization code:\n",
            "··········\n",
            "Mounted at /content/drive\n"
          ],
          "name": "stdout"
        }
      ]
    },
    {
      "cell_type": "markdown",
      "metadata": {
        "id": "fPj_pH6GssXE",
        "colab_type": "text"
      },
      "source": [
        "### Get the downloaded data"
      ]
    },
    {
      "cell_type": "code",
      "metadata": {
        "id": "8Kqw2ag3p9pf",
        "colab_type": "code",
        "colab": {}
      },
      "source": [
        "# data = pd.read_csv('/content/drive/My Drive/Colab Notebooks/ProjectGutenberg/gutenberg_sample_authors.csv')\n",
        "data = pd.read_csv('/content/drive/My Drive/Colab Notebooks/ProjectGutenberg/gutenberg_authors_big.csv')"
      ],
      "execution_count": 0,
      "outputs": []
    },
    {
      "cell_type": "code",
      "metadata": {
        "id": "3pDdghQkqUOf",
        "colab_type": "code",
        "outputId": "34a623c3-cd5a-4dcf-c417-cb4d59c2a480",
        "colab": {
          "base_uri": "https://localhost:8080/",
          "height": 946
        }
      },
      "source": [
        "data"
      ],
      "execution_count": 0,
      "outputs": [
        {
          "output_type": "execute_result",
          "data": {
            "text/html": [
              "<div>\n",
              "<style scoped>\n",
              "    .dataframe tbody tr th:only-of-type {\n",
              "        vertical-align: middle;\n",
              "    }\n",
              "\n",
              "    .dataframe tbody tr th {\n",
              "        vertical-align: top;\n",
              "    }\n",
              "\n",
              "    .dataframe thead th {\n",
              "        text-align: right;\n",
              "    }\n",
              "</style>\n",
              "<table border=\"1\" class=\"dataframe\">\n",
              "  <thead>\n",
              "    <tr style=\"text-align: right;\">\n",
              "      <th></th>\n",
              "      <th>key</th>\n",
              "      <th>language</th>\n",
              "      <th>author</th>\n",
              "      <th>title</th>\n",
              "      <th>subject</th>\n",
              "      <th>encoding</th>\n",
              "      <th>text</th>\n",
              "    </tr>\n",
              "  </thead>\n",
              "  <tbody>\n",
              "    <tr>\n",
              "      <th>0</th>\n",
              "      <td>10060</td>\n",
              "      <td>en</td>\n",
              "      <td>Huxley, Thomas Henry</td>\n",
              "      <td>Discourses: Biological &amp; Geological Essays</td>\n",
              "      <td>Geology Biology Q</td>\n",
              "      <td>us-ascii</td>\n",
              "      <td>Richard Prairie and PG Distributed Proofreader...</td>\n",
              "    </tr>\n",
              "    <tr>\n",
              "      <th>1</th>\n",
              "      <td>10078</td>\n",
              "      <td>en</td>\n",
              "      <td>Johnson, Douglas Wilson</td>\n",
              "      <td>Plain Words from America: A Letter to a German...</td>\n",
              "      <td>World War, 1914-1918 -- Public opinion D501</td>\n",
              "      <td>us-ascii</td>\n",
              "      <td>Distributed Proofreaders\\n\\n\\n\\nPLAIN WORDS FR...</td>\n",
              "    </tr>\n",
              "    <tr>\n",
              "      <th>2</th>\n",
              "      <td>10096</td>\n",
              "      <td>en</td>\n",
              "      <td>Euripides</td>\n",
              "      <td>The Trojan women of Euripides</td>\n",
              "      <td>Helen, of Troy, Queen of Sparta -- Drama Hecub...</td>\n",
              "      <td>iso-8859-1</td>\n",
              "      <td>THE TROJAN WOMEN OF EURIPIDES\\n\\n\\n\\nTRANSLATE...</td>\n",
              "    </tr>\n",
              "    <tr>\n",
              "      <th>3</th>\n",
              "      <td>10097</td>\n",
              "      <td>en</td>\n",
              "      <td>Carpenter, Edward</td>\n",
              "      <td>The Healing of Nations and the Hidden Sources ...</td>\n",
              "      <td>World War, 1914-1918 D501</td>\n",
              "      <td>utf-8</td>\n",
              "      <td>THE HEALING OF NATIONS AND THE HIDDEN SOURCES ...</td>\n",
              "    </tr>\n",
              "    <tr>\n",
              "      <th>4</th>\n",
              "      <td>10213</td>\n",
              "      <td>en</td>\n",
              "      <td>Gregory, Jackson</td>\n",
              "      <td>The Everlasting Whisper</td>\n",
              "      <td>PS Western stories California -- Fiction</td>\n",
              "      <td>utf-8</td>\n",
              "      <td>THE EVERLASTING WHISPER\\n\\n_A Tale of the Cali...</td>\n",
              "    </tr>\n",
              "    <tr>\n",
              "      <th>...</th>\n",
              "      <td>...</td>\n",
              "      <td>...</td>\n",
              "      <td>...</td>\n",
              "      <td>...</td>\n",
              "      <td>...</td>\n",
              "      <td>...</td>\n",
              "      <td>...</td>\n",
              "    </tr>\n",
              "    <tr>\n",
              "      <th>2424</th>\n",
              "      <td>9869</td>\n",
              "      <td>en</td>\n",
              "      <td>Musset, Alfred de</td>\n",
              "      <td>The Confession of a Child of the Century</td>\n",
              "      <td>Historical fiction PQ French fiction</td>\n",
              "      <td>iso-8859-1</td>\n",
              "      <td>THE CONFESSION OF\\n\\n                      A C...</td>\n",
              "    </tr>\n",
              "    <tr>\n",
              "      <th>2425</th>\n",
              "      <td>9966</td>\n",
              "      <td>en</td>\n",
              "      <td>Perkins, Lucy Fitch</td>\n",
              "      <td>The Spartan Twins</td>\n",
              "      <td>Twins -- Juvenile fiction PZ Greece -- History...</td>\n",
              "      <td>us-ascii</td>\n",
              "      <td>THE SPARTAN TWINS\\n\\n                         ...</td>\n",
              "    </tr>\n",
              "    <tr>\n",
              "      <th>2426</th>\n",
              "      <td>9968</td>\n",
              "      <td>en</td>\n",
              "      <td>Oxley, James Macdonald</td>\n",
              "      <td>The Young Woodsman; Or, Life in the Forests of...</td>\n",
              "      <td>Hunting -- Fiction Adventure stories Outdoor l...</td>\n",
              "      <td>iso-8859-1</td>\n",
              "      <td>Online Distributed Proofreading Team\\n\\n\\n\\n\\n...</td>\n",
              "    </tr>\n",
              "    <tr>\n",
              "      <th>2427</th>\n",
              "      <td>9982</td>\n",
              "      <td>en</td>\n",
              "      <td>Child, Lydia Maria</td>\n",
              "      <td>Philothea: A Grecian Romance</td>\n",
              "      <td>PS Greece -- Fiction</td>\n",
              "      <td>iso-8859-1</td>\n",
              "      <td>PHILOTHEA:\\n\\nA Grecian Romance.\\n\\nBY L. MARI...</td>\n",
              "    </tr>\n",
              "    <tr>\n",
              "      <th>2428</th>\n",
              "      <td>9996</td>\n",
              "      <td>en</td>\n",
              "      <td>Adams, Charles Francis</td>\n",
              "      <td>\"'Tis Sixty Years Since\" Address of Charles Fr...</td>\n",
              "      <td>B Philosophy, Modern</td>\n",
              "      <td>us-ascii</td>\n",
              "      <td>\"TIS SIXTY YEARS SINCE\"\\n\\nADDRESS OF\\n\\nCHARL...</td>\n",
              "    </tr>\n",
              "  </tbody>\n",
              "</table>\n",
              "<p>2429 rows × 7 columns</p>\n",
              "</div>"
            ],
            "text/plain": [
              "        key  ...                                               text\n",
              "0     10060  ...  Richard Prairie and PG Distributed Proofreader...\n",
              "1     10078  ...  Distributed Proofreaders\\n\\n\\n\\nPLAIN WORDS FR...\n",
              "2     10096  ...  THE TROJAN WOMEN OF EURIPIDES\\n\\n\\n\\nTRANSLATE...\n",
              "3     10097  ...  THE HEALING OF NATIONS AND THE HIDDEN SOURCES ...\n",
              "4     10213  ...  THE EVERLASTING WHISPER\\n\\n_A Tale of the Cali...\n",
              "...     ...  ...                                                ...\n",
              "2424   9869  ...  THE CONFESSION OF\\n\\n                      A C...\n",
              "2425   9966  ...  THE SPARTAN TWINS\\n\\n                         ...\n",
              "2426   9968  ...  Online Distributed Proofreading Team\\n\\n\\n\\n\\n...\n",
              "2427   9982  ...  PHILOTHEA:\\n\\nA Grecian Romance.\\n\\nBY L. MARI...\n",
              "2428   9996  ...  \"TIS SIXTY YEARS SINCE\"\\n\\nADDRESS OF\\n\\nCHARL...\n",
              "\n",
              "[2429 rows x 7 columns]"
            ]
          },
          "metadata": {
            "tags": []
          },
          "execution_count": 5
        }
      ]
    },
    {
      "cell_type": "code",
      "metadata": {
        "id": "gcLa7fE71Jzw",
        "colab_type": "code",
        "colab": {}
      },
      "source": [
        ""
      ],
      "execution_count": 0,
      "outputs": []
    },
    {
      "cell_type": "code",
      "metadata": {
        "colab_type": "code",
        "outputId": "24b82700-b607-48b2-e028-9605c6cf14ee",
        "id": "BfgOuk7Y60X0",
        "colab": {
          "base_uri": "https://localhost:8080/",
          "height": 34
        }
      },
      "source": [
        "data.author.nunique()"
      ],
      "execution_count": 0,
      "outputs": [
        {
          "output_type": "execute_result",
          "data": {
            "text/plain": [
              "968"
            ]
          },
          "metadata": {
            "tags": []
          },
          "execution_count": 118
        }
      ]
    },
    {
      "cell_type": "code",
      "metadata": {
        "colab_type": "code",
        "outputId": "ecfb2f9b-a5ba-49e6-8ea4-814375fb527c",
        "id": "BOt5BvQv60Xo",
        "colab": {
          "base_uri": "https://localhost:8080/",
          "height": 34
        }
      },
      "source": [
        "data.shape[0]"
      ],
      "execution_count": 0,
      "outputs": [
        {
          "output_type": "execute_result",
          "data": {
            "text/plain": [
              "2429"
            ]
          },
          "metadata": {
            "tags": []
          },
          "execution_count": 119
        }
      ]
    },
    {
      "cell_type": "code",
      "metadata": {
        "colab_type": "code",
        "id": "l6waHW4u60XX",
        "colab": {}
      },
      "source": [
        "text = data.iloc[2428].text"
      ],
      "execution_count": 0,
      "outputs": []
    },
    {
      "cell_type": "markdown",
      "metadata": {
        "id": "BtPMgQZ0x8cM",
        "colab_type": "text"
      },
      "source": [
        "### Divide into Training-set, Dev-set, Test-set\n"
      ]
    },
    {
      "cell_type": "code",
      "metadata": {
        "id": "MyfjwTng3Fz7",
        "colab_type": "code",
        "colab": {}
      },
      "source": [
        "from spacy.lang.en import English # updated\n",
        "nlp = English()\n",
        "nlp.add_pipe(nlp.create_pipe('sentencizer')) # updated\n"
      ],
      "execution_count": 0,
      "outputs": []
    },
    {
      "cell_type": "code",
      "metadata": {
        "id": "Cdy4W7D_4LyI",
        "colab_type": "code",
        "colab": {}
      },
      "source": [
        "def get_sentences(raw_text):\n",
        "  max_length = min(1000000, len(raw_text))\n",
        "  raw_text = raw_text[:max_length]\n",
        "  doc = nlp(raw_text)\n",
        "  sentences = [sent.string.strip() for sent in doc.sents]\n",
        "  sentences = sentences[5:]\n",
        "  return sentences"
      ],
      "execution_count": 0,
      "outputs": []
    },
    {
      "cell_type": "code",
      "metadata": {
        "id": "VVPMgS-e3bG0",
        "colab_type": "code",
        "colab": {}
      },
      "source": [
        "train_df = data.copy()"
      ],
      "execution_count": 0,
      "outputs": []
    },
    {
      "cell_type": "code",
      "metadata": {
        "id": "KvQWHP3l36rZ",
        "colab_type": "code",
        "colab": {}
      },
      "source": [
        "sentences = train_df.apply(lambda x: get_sentences(x['text']), axis=1)"
      ],
      "execution_count": 0,
      "outputs": []
    },
    {
      "cell_type": "code",
      "metadata": {
        "id": "TmvnG1LFxkK_",
        "colab_type": "code",
        "outputId": "dcd6232a-9604-445f-9eeb-b6e4edc955a5",
        "colab": {
          "base_uri": "https://localhost:8080/",
          "height": 71
        }
      },
      "source": [
        "# sentences.to_csv('sentences.csv', index=False)"
      ],
      "execution_count": 0,
      "outputs": [
        {
          "output_type": "stream",
          "text": [
            "/usr/local/lib/python3.6/dist-packages/ipykernel_launcher.py:1: FutureWarning: The signature of `Series.to_csv` was aligned to that of `DataFrame.to_csv`, and argument 'header' will change its default value from False to True: please pass an explicit value to suppress this warning.\n",
            "  \"\"\"Entry point for launching an IPython kernel.\n"
          ],
          "name": "stderr"
        }
      ]
    },
    {
      "cell_type": "code",
      "metadata": {
        "id": "KXhaqHA86No5",
        "colab_type": "code",
        "colab": {}
      },
      "source": [
        "training_set = []\n",
        "dev_set = []\n",
        "test_set = []\n",
        "\n",
        "train_size = 0.8\n",
        "dev_size = 0.1\n",
        "test_size = 0.1 \n",
        "\n",
        "for i in sentences.index:\n",
        "  label = train_df.iloc[i].author\n",
        "\n",
        "  text = sentences[i]\n",
        "\n",
        "  np.random.shuffle(text)\n",
        "\n",
        "  train_data = text[:round(len(text) * train_size)]\n",
        "\n",
        "  dev_data = text[round(len(text) * train_size):round(len(text) * (train_size + dev_size))]\n",
        "                    \n",
        "  test_data = text[round(len(text) * (train_size + dev_size)):]\n",
        "\n",
        "  training_set.append({'label': label, 'data': train_data})\n",
        "  dev_set.append({'label': label, 'data': val_data})\n",
        "  test_set.append({'label': label, 'data': test_data})\n",
        "\n"
      ],
      "execution_count": 0,
      "outputs": []
    },
    {
      "cell_type": "code",
      "metadata": {
        "id": "BLktAcRuzlYf",
        "colab_type": "code",
        "colab": {}
      },
      "source": [
        "# from google.colab import files\n",
        "# files.download('/content/test_set.csv') \n"
      ],
      "execution_count": 0,
      "outputs": []
    },
    {
      "cell_type": "code",
      "metadata": {
        "id": "EtWiwm4QzFS4",
        "colab_type": "code",
        "outputId": "3bbcac4f-c98b-480f-8efa-fe4c952a0d34",
        "colab": {
          "base_uri": "https://localhost:8080/",
          "height": 122
        }
      },
      "source": [
        "from google.colab import drive\n",
        "drive.mount('/content/drive')"
      ],
      "execution_count": 2,
      "outputs": [
        {
          "output_type": "stream",
          "text": [
            "Go to this URL in a browser: https://accounts.google.com/o/oauth2/auth?client_id=947318989803-6bn6qk8qdgf4n4g3pfee6491hc0brc4i.apps.googleusercontent.com&redirect_uri=urn%3aietf%3awg%3aoauth%3a2.0%3aoob&response_type=code&scope=email%20https%3a%2f%2fwww.googleapis.com%2fauth%2fdocs.test%20https%3a%2f%2fwww.googleapis.com%2fauth%2fdrive%20https%3a%2f%2fwww.googleapis.com%2fauth%2fdrive.photos.readonly%20https%3a%2f%2fwww.googleapis.com%2fauth%2fpeopleapi.readonly\n",
            "\n",
            "Enter your authorization code:\n",
            "··········\n",
            "Mounted at /content/drive\n"
          ],
          "name": "stdout"
        }
      ]
    },
    {
      "cell_type": "markdown",
      "metadata": {
        "id": "-_oF8_zPeG3h",
        "colab_type": "text"
      },
      "source": [
        "### Data preprocessing"
      ]
    },
    {
      "cell_type": "code",
      "metadata": {
        "id": "um_7x7mByk7h",
        "colab_type": "code",
        "colab": {}
      },
      "source": [
        "training_set = pd.read_csv('/content/drive/My Drive/Colab Notebooks/ProjectGutenberg/training_set_sampling.csv')\n",
        "dev_set = pd.read_csv('/content/drive/My Drive/Colab Notebooks/ProjectGutenberg/dev_set_sampling.csv')\n",
        "test_set = pd.read_csv('/content/drive/My Drive/Colab Notebooks/ProjectGutenberg/test_set_sampling.csv')"
      ],
      "execution_count": 0,
      "outputs": []
    },
    {
      "cell_type": "markdown",
      "metadata": {
        "id": "vRYpo7Xx62Io",
        "colab_type": "text"
      },
      "source": [
        "#### Dataset sampling"
      ]
    },
    {
      "cell_type": "code",
      "metadata": {
        "id": "iBe82iaU07XH",
        "colab_type": "code",
        "colab": {}
      },
      "source": [
        "import textwrap"
      ],
      "execution_count": 0,
      "outputs": []
    },
    {
      "cell_type": "code",
      "metadata": {
        "id": "kvcvRwpK613b",
        "colab_type": "code",
        "colab": {}
      },
      "source": [
        "def dataset_sampling(df):\n",
        "  result_df = []\n",
        "  for index in df.index:\n",
        "    label = df.iloc[index]['label']\n",
        "    text_wrap = textwrap.wrap(df.iloc[index]['data'], width=10000)\n",
        "    for text_small in text_wrap:\n",
        "      result_df.append({'label': label,\n",
        "                    'string': text_small})\n",
        "  return pd.DataFrame(result_df)"
      ],
      "execution_count": 0,
      "outputs": []
    },
    {
      "cell_type": "code",
      "metadata": {
        "id": "uXXcMFUr65Ha",
        "colab_type": "code",
        "colab": {}
      },
      "source": [
        "training_set = dataset_sampling(training_set)"
      ],
      "execution_count": 0,
      "outputs": []
    },
    {
      "cell_type": "code",
      "metadata": {
        "id": "XusAgf8u3NqN",
        "colab_type": "code",
        "colab": {}
      },
      "source": [
        "dev_set = dataset_sampling(dev_set)"
      ],
      "execution_count": 0,
      "outputs": []
    },
    {
      "cell_type": "code",
      "metadata": {
        "id": "WYbM8HZq3SAV",
        "colab_type": "code",
        "colab": {}
      },
      "source": [
        "test_set = dataset_sampling(test_set)"
      ],
      "execution_count": 0,
      "outputs": []
    },
    {
      "cell_type": "markdown",
      "metadata": {
        "id": "ZVaF25RQsoQB",
        "colab_type": "text"
      },
      "source": [
        "#### Remove stopwords"
      ]
    },
    {
      "cell_type": "code",
      "metadata": {
        "id": "hkTnPEajwoZP",
        "colab_type": "code",
        "colab": {}
      },
      "source": [
        "from spacy.lang.en.stop_words import STOP_WORDS\n",
        "from sklearn.feature_extraction.stop_words import ENGLISH_STOP_WORDS\n",
        "import string"
      ],
      "execution_count": 0,
      "outputs": []
    },
    {
      "cell_type": "code",
      "metadata": {
        "id": "mkBoaXK_st-i",
        "colab_type": "code",
        "colab": {}
      },
      "source": [
        "# A custom stoplist\n",
        "STOPLIST = set(list(STOP_WORDS) + [\"n't\", \"'s\", \"'m\", \"ca\"] + list(ENGLISH_STOP_WORDS))\n",
        "# List of symbols we don't care about\n",
        "SYMBOLS = \" \".join(string.punctuation).split(\" \") + [\"-----\", \"---\", \"...\", \"“\", \"”\", \"'ve\", \"--\", \"\\n\"]"
      ],
      "execution_count": 0,
      "outputs": []
    },
    {
      "cell_type": "code",
      "metadata": {
        "id": "HeLYoy_ssqiR",
        "colab_type": "code",
        "outputId": "91019eab-b70b-4365-d507-72c6fafaf15a",
        "colab": {
          "base_uri": "https://localhost:8080/",
          "height": 71
        }
      },
      "source": [
        "print(STOPLIST)\n",
        "print(SYMBOLS)"
      ],
      "execution_count": 0,
      "outputs": [
        {
          "output_type": "stream",
          "text": [
            "{'namely', 'anything', 'doing', 'detail', 'nine', 'describe', 'upon', 'with', 'see', 'somehow', 'twelve', 'without', 'whereupon', 'under', 'who', 'latter', 'herself', 'whom', 'mostly', 'sometimes', 'wherein', 'my', 'may', 'either', 'among', 'say', 'they', 'have', 'can', 'co', 'always', 'per', 'becomes', 'amount', 'except', 'itself', 'myself', 'perhaps', \"'m\", 'sometime', 'further', 'ten', 'done', 'yet', 'onto', 'eight', 'therefore', 'empty', 'ltd', 'almost', 'until', 'within', 'down', 'no', 'fifty', 'even', 'first', 'mill', 'that', 'elsewhere', 'neither', 'there', 'after', 'cannot', 'find', 'former', 'give', 'con', 'go', 'anywhere', 'now', 'all', 'been', 'more', 'out', 'anyone', 'across', 'her', 'his', '’m', 'forty', 'again', 'latterly', 'beyond', 'did', 'most', 'last', 'where', 'too', 'whereby', 'regarding', 'whoever', 'became', 'nobody', 'formerly', 'seeming', 'make', 'eg', 'become', 'hence', 'so', '’s', 'someone', \"'ve\", 'serious', 'our', 'via', 'such', 'seemed', 'another', 'cant', 'to', 'therein', 'thereupon', 'everything', 'might', 'one', 'few', 'herein', 'six', 'indeed', 'noone', 'found', 'everyone', 'into', 'couldnt', 'before', 'eleven', 'front', 'whenever', 'somewhere', 'really', 'amongst', 'up', 'thereby', 'hasnt', 'why', 'third', 'just', 'next', 'only', 'ours', \"'d\", '’re', 'full', 'least', 'quite', 'themselves', 'side', 'used', 'she', 'while', 'than', 'you', 'whole', 'whence', 'fifteen', 'yourself', 'when', 'behind', 'hers', 'already', 'thick', 'be', 'everywhere', 'put', 're', 'etc', 'several', 'much', 'at', 'thus', 'is', 'between', 'n’t', '‘re', 'himself', \"'ll\", 'along', 'against', 'anyway', 'thence', '‘m', 'twenty', '‘ve', 'hundred', 'he', 'nor', 'together', 'something', 'other', 'during', 'this', 'well', 'part', 'seem', '’ll', 'using', 'keep', 'yours', 'in', 'unless', 'n‘t', 'three', 'none', 'own', 'not', 'fill', 'many', 'ca', 'show', 'seems', 'me', 'toward', 'very', 'though', 'whatever', 'anyhow', 'please', 'meanwhile', 'being', 'above', 'mine', 'both', 'what', 'un', 'whither', 'hereby', 'nowhere', 'others', 'name', 'take', 'interest', 'thru', \"'re\", 'will', 'every', 'throughout', 'was', 'towards', 'an', '‘s', 'but', 'do', 'must', 'had', 'bottom', 'thereafter', 'because', 'top', 'how', 'could', 'hereupon', 'around', 'often', 'if', 'and', 'these', 'system', 'whose', 'some', 'never', 'since', 'bill', 'on', 'whereas', '’ve', 'made', 'get', 'of', '‘d', 'sincere', 'it', 'same', 'four', 'about', 'from', 'does', 'amoungst', 'move', 'enough', 'we', 'otherwise', '‘ll', 'each', 'whereafter', 'for', 'also', 'less', 'those', 'through', 'alone', 'becoming', \"n't\", 'over', \"'s\", 'here', 'beforehand', 'him', 'afterwards', 'two', 'rather', 'call', 'besides', 'its', 'the', 'or', 'although', 'cry', 'any', 'should', 'due', 'thin', 'off', 'moreover', 'various', 'once', '’d', 'as', 'ever', 'still', 'else', 'whether', 'which', 'however', 'by', 'am', 'your', 'them', 'inc', 'below', 'would', 'were', 'then', 'sixty', 'back', 'wherever', 'nevertheless', 'ie', 'nothing', 'de', 'their', 'fire', 'yourselves', 'i', 'ourselves', 'five', 'a', 'has', 'hereafter', 'us', 'beside', 'are'}\n",
            "['!', '\"', '#', '$', '%', '&', \"'\", '(', ')', '*', '+', ',', '-', '.', '/', ':', ';', '<', '=', '>', '?', '@', '[', '\\\\', ']', '^', '_', '`', '{', '|', '}', '~', '-----', '---', '...', '“', '”', \"'ve\", '--', '\\n']\n"
          ],
          "name": "stdout"
        }
      ]
    },
    {
      "cell_type": "code",
      "metadata": {
        "id": "hVrCa0uNiCvE",
        "colab_type": "code",
        "colab": {}
      },
      "source": [
        "import spacy\n",
        "nlp = spacy.load(\"en\", disable=[\"parser\", \"tagger\", \"ner\"])\n",
        "#  turn off named entity recognition, tagging and dependency parsing..."
      ],
      "execution_count": 0,
      "outputs": []
    },
    {
      "cell_type": "markdown",
      "metadata": {
        "id": "OR5iddVz8YTf",
        "colab_type": "text"
      },
      "source": [
        "## Custom Text Processor"
      ]
    },
    {
      "cell_type": "code",
      "metadata": {
        "colab_type": "code",
        "id": "owX0hif0vTZH",
        "colab": {}
      },
      "source": [
        "def cleanup_text(docs, logging=False):\n",
        "  texts = []\n",
        "  counter = 1\n",
        "  for doc in docs:\n",
        "    if not isinstance(doc, str):\n",
        "      doc = str(doc)\n",
        "\n",
        "    max_length = min(1000000, len(doc))\n",
        "    doc = doc[:max_length]\n",
        "    doc = doc.strip().replace(\"\\n\", \" \").replace(\"--\", \" \")\n",
        "\n",
        "    # print(doc)\n",
        "    # if counter > 10:\n",
        "      # break\n",
        "\n",
        "    if counter % 100 == 0 and logging:\n",
        "      print(\"Processed %d out of %d documents.\" % (counter, len(docs)))\n",
        "    counter += 1\n",
        "\n",
        "    doc = nlp(doc, disable=['parser', 'ner'])\n",
        "    tokens = [tok.lemma_.lower().strip() for tok in doc if tok.lemma_ != '-PRON-']\n",
        "    tokens = [tok for tok in tokens if tok not in STOPLIST and tok not in SYMBOLS]\n",
        "    tokens = ' '.join(tokens)\n",
        "\n",
        "    texts.append(tokens)\n",
        "  return"
      ],
      "execution_count": 0,
      "outputs": []
    },
    {
      "cell_type": "code",
      "metadata": {
        "id": "1W6ocov_FRL7",
        "colab_type": "code",
        "colab": {}
      },
      "source": [
        "import numpy as np\n",
        "import multiprocessing as mp\n",
        "\n",
        "import string\n",
        "import spacy \n",
        "import en_core_web_sm\n",
        "from nltk.tokenize import word_tokenize\n",
        "from sklearn.base import TransformerMixin, BaseEstimator\n",
        "\n",
        "nlp = en_core_web_sm.load()\n",
        "\n",
        "\n",
        "class TextPreprocessor(BaseEstimator, TransformerMixin):\n",
        "    def __init__(self,\n",
        "                 variety=\"BrE\",\n",
        "                 user_abbrevs={},\n",
        "                 n_jobs=1):\n",
        "        \"\"\"\n",
        "        Text preprocessing transformer includes steps:\n",
        "            1. Text normalization\n",
        "            2. Punctuation removal\n",
        "            3. Stop words removal\n",
        "            4. Lemmatization\n",
        "        \n",
        "        variety - format of date (AmE - american type, BrE - british format) \n",
        "        user_abbrevs - dict of user abbreviations mappings (from normalise package)\n",
        "        n_jobs - parallel jobs to run\n",
        "        \"\"\"\n",
        "        self.variety = variety\n",
        "        self.user_abbrevs = user_abbrevs\n",
        "        self.n_jobs = n_jobs\n",
        "\n",
        "    def fit(self, X, y=None):\n",
        "        return self\n",
        "\n",
        "    def transform(self, X, *_):\n",
        "        X_copy = X.copy()\n",
        "\n",
        "        partitions = 1\n",
        "        cores = mp.cpu_count()\n",
        "        if self.n_jobs <= -1:\n",
        "            partitions = cores\n",
        "        elif self.n_jobs <= 0:\n",
        "            return X_copy.apply(self._preprocess_text)\n",
        "        else:\n",
        "            partitions = min(self.n_jobs, cores)\n",
        "\n",
        "        data_split = np.array_split(X_copy, partitions)\n",
        "        pool = mp.Pool(cores)\n",
        "        data = pd.concat(pool.map(self._preprocess_part, data_split))\n",
        "        pool.close()\n",
        "        pool.join()\n",
        "\n",
        "        return data\n",
        "\n",
        "    def _preprocess_part(self, part):\n",
        "        return part.apply(self._preprocess_text)\n",
        "\n",
        "    def _preprocess_text(self, text):\n",
        "        # normalized_text = self._normalize(text)\n",
        "        text = str(text)\n",
        "\n",
        "        doc = nlp(text)\n",
        "        removed_punct = self._remove_punct(doc)\n",
        "        removed_stop_words = self._remove_stop_words(removed_punct)\n",
        "        return self._lemmatize(removed_stop_words)\n",
        "\n",
        "    def _remove_punct(self, doc):\n",
        "        return [t for t in doc if t.text not in SYMBOLS]\n",
        "\n",
        "    def _remove_stop_words(self, doc):\n",
        "        return [t for t in doc if not t.is_stop]\n",
        "\n",
        "    def _lemmatize(self, doc):\n",
        "        return ' '.join([t.lemma_ for t in doc]).strip()\n",
        "\n"
      ],
      "execution_count": 0,
      "outputs": []
    },
    {
      "cell_type": "markdown",
      "metadata": {
        "id": "GLAGyzlnuOgU",
        "colab_type": "text"
      },
      "source": [
        "# Vectorization"
      ]
    },
    {
      "cell_type": "code",
      "metadata": {
        "id": "-aht38Fa4jr8",
        "colab_type": "code",
        "outputId": "baac163d-af33-4158-ed74-833cdac7cf0a",
        "colab": {
          "base_uri": "https://localhost:8080/",
          "height": 221
        }
      },
      "source": [
        "print(training_set.shape)\n",
        "training_set.head()"
      ],
      "execution_count": 4,
      "outputs": [
        {
          "output_type": "stream",
          "text": [
            "(70083, 2)\n"
          ],
          "name": "stdout"
        },
        {
          "output_type": "execute_result",
          "data": {
            "text/html": [
              "<div>\n",
              "<style scoped>\n",
              "    .dataframe tbody tr th:only-of-type {\n",
              "        vertical-align: middle;\n",
              "    }\n",
              "\n",
              "    .dataframe tbody tr th {\n",
              "        vertical-align: top;\n",
              "    }\n",
              "\n",
              "    .dataframe thead th {\n",
              "        text-align: right;\n",
              "    }\n",
              "</style>\n",
              "<table border=\"1\" class=\"dataframe\">\n",
              "  <thead>\n",
              "    <tr style=\"text-align: right;\">\n",
              "      <th></th>\n",
              "      <th>label</th>\n",
              "      <th>string</th>\n",
              "    </tr>\n",
              "  </thead>\n",
              "  <tbody>\n",
              "    <tr>\n",
              "      <th>0</th>\n",
              "      <td>Huxley, Thomas Henry</td>\n",
              "      <td>['How did these isolated patches of a northern...</td>\n",
              "    </tr>\n",
              "    <tr>\n",
              "      <th>1</th>\n",
              "      <td>Huxley, Thomas Henry</td>\n",
              "      <td>dismissed,\\nwithout further consideration, as ...</td>\n",
              "    </tr>\n",
              "    <tr>\n",
              "      <th>2</th>\n",
              "      <td>Huxley, Thomas Henry</td>\n",
              "      <td>the surface like the others, but in this\\ncase...</td>\n",
              "    </tr>\n",
              "    <tr>\n",
              "      <th>3</th>\n",
              "      <td>Huxley, Thomas Henry</td>\n",
              "      <td>doctrine of evolution, especially in regard to...</td>\n",
              "    </tr>\n",
              "    <tr>\n",
              "      <th>4</th>\n",
              "      <td>Huxley, Thomas Henry</td>\n",
              "      <td>a very fine and impalpable powder, or a very p...</td>\n",
              "    </tr>\n",
              "  </tbody>\n",
              "</table>\n",
              "</div>"
            ],
            "text/plain": [
              "                  label                                             string\n",
              "0  Huxley, Thomas Henry  ['How did these isolated patches of a northern...\n",
              "1  Huxley, Thomas Henry  dismissed,\\nwithout further consideration, as ...\n",
              "2  Huxley, Thomas Henry  the surface like the others, but in this\\ncase...\n",
              "3  Huxley, Thomas Henry  doctrine of evolution, especially in regard to...\n",
              "4  Huxley, Thomas Henry  a very fine and impalpable powder, or a very p..."
            ]
          },
          "metadata": {
            "tags": []
          },
          "execution_count": 4
        }
      ]
    },
    {
      "cell_type": "code",
      "metadata": {
        "id": "L8cujyhK7Brl",
        "colab_type": "code",
        "outputId": "2a32a690-0fe4-4736-82af-5238e744039b",
        "colab": {
          "base_uri": "https://localhost:8080/",
          "height": 221
        }
      },
      "source": [
        "print(dev_set.shape)\n",
        "dev_set.head()"
      ],
      "execution_count": 5,
      "outputs": [
        {
          "output_type": "stream",
          "text": [
            "(9843, 2)\n"
          ],
          "name": "stdout"
        },
        {
          "output_type": "execute_result",
          "data": {
            "text/html": [
              "<div>\n",
              "<style scoped>\n",
              "    .dataframe tbody tr th:only-of-type {\n",
              "        vertical-align: middle;\n",
              "    }\n",
              "\n",
              "    .dataframe tbody tr th {\n",
              "        vertical-align: top;\n",
              "    }\n",
              "\n",
              "    .dataframe thead th {\n",
              "        text-align: right;\n",
              "    }\n",
              "</style>\n",
              "<table border=\"1\" class=\"dataframe\">\n",
              "  <thead>\n",
              "    <tr style=\"text-align: right;\">\n",
              "      <th></th>\n",
              "      <th>label</th>\n",
              "      <th>string</th>\n",
              "    </tr>\n",
              "  </thead>\n",
              "  <tbody>\n",
              "    <tr>\n",
              "      <th>0</th>\n",
              "      <td>Huxley, Thomas Henry</td>\n",
              "      <td>['Dr. Stirling, has not taken the trouble to r...</td>\n",
              "    </tr>\n",
              "    <tr>\n",
              "      <th>1</th>\n",
              "      <td>Huxley, Thomas Henry</td>\n",
              "      <td>Turpin and Schwann resolved the living body in...</td>\n",
              "    </tr>\n",
              "    <tr>\n",
              "      <th>2</th>\n",
              "      <td>Huxley, Thomas Henry</td>\n",
              "      <td>succession of changes which, upon the\\nwhole, ...</td>\n",
              "    </tr>\n",
              "    <tr>\n",
              "      <th>3</th>\n",
              "      <td>Huxley, Thomas Henry</td>\n",
              "      <td>of view.', 'Few will venture to affirm that th...</td>\n",
              "    </tr>\n",
              "    <tr>\n",
              "      <th>4</th>\n",
              "      <td>Huxley, Thomas Henry</td>\n",
              "      <td>sarcode stuck against one side, the\\nremainder...</td>\n",
              "    </tr>\n",
              "  </tbody>\n",
              "</table>\n",
              "</div>"
            ],
            "text/plain": [
              "                  label                                             string\n",
              "0  Huxley, Thomas Henry  ['Dr. Stirling, has not taken the trouble to r...\n",
              "1  Huxley, Thomas Henry  Turpin and Schwann resolved the living body in...\n",
              "2  Huxley, Thomas Henry  succession of changes which, upon the\\nwhole, ...\n",
              "3  Huxley, Thomas Henry  of view.', 'Few will venture to affirm that th...\n",
              "4  Huxley, Thomas Henry  sarcode stuck against one side, the\\nremainder..."
            ]
          },
          "metadata": {
            "tags": []
          },
          "execution_count": 5
        }
      ]
    },
    {
      "cell_type": "code",
      "metadata": {
        "id": "ixIQniqy7DcW",
        "colab_type": "code",
        "outputId": "b8e7892c-8391-4e7f-ea3b-aa61efc6ede4",
        "colab": {
          "base_uri": "https://localhost:8080/",
          "height": 221
        }
      },
      "source": [
        "print(test_set.shape)\n",
        "test_set.head()"
      ],
      "execution_count": 6,
      "outputs": [
        {
          "output_type": "stream",
          "text": [
            "(9825, 2)\n"
          ],
          "name": "stdout"
        },
        {
          "output_type": "execute_result",
          "data": {
            "text/html": [
              "<div>\n",
              "<style scoped>\n",
              "    .dataframe tbody tr th:only-of-type {\n",
              "        vertical-align: middle;\n",
              "    }\n",
              "\n",
              "    .dataframe tbody tr th {\n",
              "        vertical-align: top;\n",
              "    }\n",
              "\n",
              "    .dataframe thead th {\n",
              "        text-align: right;\n",
              "    }\n",
              "</style>\n",
              "<table border=\"1\" class=\"dataframe\">\n",
              "  <thead>\n",
              "    <tr style=\"text-align: right;\">\n",
              "      <th></th>\n",
              "      <th>label</th>\n",
              "      <th>string</th>\n",
              "    </tr>\n",
              "  </thead>\n",
              "  <tbody>\n",
              "    <tr>\n",
              "      <th>0</th>\n",
              "      <td>Huxley, Thomas Henry</td>\n",
              "      <td>['Thus he writes:--\"I do not pretend, as he [M...</td>\n",
              "    </tr>\n",
              "    <tr>\n",
              "      <th>1</th>\n",
              "      <td>Huxley, Thomas Henry</td>\n",
              "      <td>face facts and to learn the exact\\nquantity an...</td>\n",
              "    </tr>\n",
              "    <tr>\n",
              "      <th>2</th>\n",
              "      <td>Huxley, Thomas Henry</td>\n",
              "      <td>that, in some animals,\\ndevastating epidemics ...</td>\n",
              "    </tr>\n",
              "    <tr>\n",
              "      <th>3</th>\n",
              "      <td>Huxley, Thomas Henry</td>\n",
              "      <td>from the multitude of other things\\nwhich go b...</td>\n",
              "    </tr>\n",
              "    <tr>\n",
              "      <th>4</th>\n",
              "      <td>Huxley, Thomas Henry</td>\n",
              "      <td>and\\ncarbon, and accumulate nitrogen.', 'There...</td>\n",
              "    </tr>\n",
              "  </tbody>\n",
              "</table>\n",
              "</div>"
            ],
            "text/plain": [
              "                  label                                             string\n",
              "0  Huxley, Thomas Henry  ['Thus he writes:--\"I do not pretend, as he [M...\n",
              "1  Huxley, Thomas Henry  face facts and to learn the exact\\nquantity an...\n",
              "2  Huxley, Thomas Henry  that, in some animals,\\ndevastating epidemics ...\n",
              "3  Huxley, Thomas Henry  from the multitude of other things\\nwhich go b...\n",
              "4  Huxley, Thomas Henry  and\\ncarbon, and accumulate nitrogen.', 'There..."
            ]
          },
          "metadata": {
            "tags": []
          },
          "execution_count": 6
        }
      ]
    },
    {
      "cell_type": "code",
      "metadata": {
        "id": "AAfSsyEi7ERA",
        "colab_type": "code",
        "colab": {}
      },
      "source": [
        "from sklearn.feature_extraction.text import CountVectorizer,TfidfVectorizer\n",
        "from sklearn.base import TransformerMixin\n",
        "from sklearn.pipeline import Pipeline\n"
      ],
      "execution_count": 0,
      "outputs": []
    },
    {
      "cell_type": "code",
      "metadata": {
        "id": "fg1TAbDW8Jqc",
        "colab_type": "code",
        "colab": {}
      },
      "source": [
        "import string\n",
        "from spacy.lang.en.stop_words import STOP_WORDS\n",
        "from spacy.lang.en import English\n",
        "\n",
        "# Create our list of punctuation marks\n",
        "punctuations = string.punctuation\n",
        "\n",
        "# Create our list of stopwords\n",
        "nlp = spacy.load('en')\n",
        "stop_words = spacy.lang.en.stop_words.STOP_WORDS\n",
        "\n",
        "# Load English tokenizer, tagger, parser, NER and word vectors\n",
        "parser = English()\n",
        "\n",
        "# Creating our tokenizer function\n",
        "def spacy_tokenizer(sentence):\n",
        "    # Creating our token object, which is used to create documents with linguistic annotations.\n",
        "    mytokens = parser(sentence)\n",
        "\n",
        "    # Lemmatizing each token and converting each token into lowercase\n",
        "    mytokens = [ word.lemma_.lower().strip() if word.lemma_ != \"-PRON-\" else word.lower_ for word in mytokens ]\n",
        "\n",
        "    # Removing stop words\n",
        "    mytokens = [ word for word in mytokens if word not in stop_words and word not in punctuations ]\n",
        "\n",
        "    # return preprocessed list of tokens\n",
        "    return mytokens\n"
      ],
      "execution_count": 0,
      "outputs": []
    },
    {
      "cell_type": "code",
      "metadata": {
        "id": "EK6fihAA8oK8",
        "colab_type": "code",
        "colab": {}
      },
      "source": [
        "# Custom transformer using spaCy\n",
        "class predictors(TransformerMixin):\n",
        "    def transform(self, X, **transform_params):\n",
        "        # Cleaning Text\n",
        "        return [clean_text(text) for text in X]\n",
        "\n",
        "    def fit(self, X, y=None, **fit_params):\n",
        "        return self\n",
        "\n",
        "    def get_params(self, deep=True):\n",
        "        return {}\n",
        "\n",
        "# Basic function to clean the text\n",
        "def clean_text(text):\n",
        "    # Removing spaces and converting text into lowercase\n",
        "    text = text.replace(\"\\n\", \" \").replace(\"--\", \" \")\n",
        "    return text.strip().lower()"
      ],
      "execution_count": 0,
      "outputs": []
    },
    {
      "cell_type": "markdown",
      "metadata": {
        "id": "NMnmoZE07nig",
        "colab_type": "text"
      },
      "source": [
        "## SVM with Hyperparameters Tuning"
      ]
    },
    {
      "cell_type": "markdown",
      "metadata": {
        "id": "YzMF9tHp88pB",
        "colab_type": "text"
      },
      "source": [
        "### Bag-of-words Vectorization"
      ]
    },
    {
      "cell_type": "code",
      "metadata": {
        "id": "xJbSFeor-SCW",
        "colab_type": "code",
        "colab": {}
      },
      "source": [
        "bow_vector = CountVectorizer(tokenizer = spacy_tokenizer, ngram_range=(1,1))"
      ],
      "execution_count": 0,
      "outputs": []
    },
    {
      "cell_type": "markdown",
      "metadata": {
        "id": "4tQjLtHb-WZB",
        "colab_type": "text"
      },
      "source": [
        "### SVM Tuning"
      ]
    },
    {
      "cell_type": "code",
      "metadata": {
        "id": "4wBTPRUy7nNG",
        "colab_type": "code",
        "colab": {}
      },
      "source": [
        "from sklearn.svm import SVC\n"
      ],
      "execution_count": 0,
      "outputs": []
    },
    {
      "cell_type": "code",
      "metadata": {
        "id": "wDh-hU5o9WeB",
        "colab_type": "code",
        "colab": {}
      },
      "source": [
        "# GridSearchCV\n",
        "from sklearn.model_selection import GridSearchCV\n",
        "from sklearn.metrics import classification_report\n"
      ],
      "execution_count": 0,
      "outputs": []
    },
    {
      "cell_type": "code",
      "metadata": {
        "id": "gBChgu309luW",
        "colab_type": "code",
        "colab": {}
      },
      "source": [
        "param_grid = {'kernel': ['linear', 'rbf'],\n",
        "              'C': [0.1, 1, 10]}\n",
        "\n",
        "clf = GridSearchCV(SVC(class_weight='balanced'), param_grid)\n"
      ],
      "execution_count": 0,
      "outputs": []
    },
    {
      "cell_type": "code",
      "metadata": {
        "id": "nWiEN8V0-mPw",
        "colab_type": "code",
        "colab": {}
      },
      "source": [
        "training_set.to_csv('training_set_big.csv', index=False)"
      ],
      "execution_count": 0,
      "outputs": []
    },
    {
      "cell_type": "code",
      "metadata": {
        "id": "MY064fT2_HX3",
        "colab_type": "code",
        "colab": {}
      },
      "source": [
        "X_train = training_set['string']\n",
        "y_train = training_set['label']"
      ],
      "execution_count": 0,
      "outputs": []
    },
    {
      "cell_type": "code",
      "metadata": {
        "id": "rLE89Q4q7WPa",
        "colab_type": "code",
        "outputId": "73cc9f8b-fa6f-4f40-aaf6-3222b106378e",
        "colab": {
          "base_uri": "https://localhost:8080/",
          "height": 105
        }
      },
      "source": [
        "# Create pipeline using Bag of Words\n",
        "pipe = Pipeline([(\"cleaner\", predictors()),\n",
        "                 ('vectorizer', bow_vector),\n",
        "                 ('classifier', clf)])\n",
        "# model generation\n",
        "pipe.fit(X_train, y_train)\n"
      ],
      "execution_count": 0,
      "outputs": [
        {
          "output_type": "stream",
          "text": [
            "/usr/local/lib/python3.6/dist-packages/sklearn/model_selection/_split.py:1978: FutureWarning: The default value of cv will change from 3 to 5 in version 0.22. Specify it explicitly to silence this warning.\n",
            "  warnings.warn(CV_WARNING, FutureWarning)\n",
            "/usr/local/lib/python3.6/dist-packages/sklearn/model_selection/_split.py:657: Warning: The least populated class in y has only 1 members, which is too few. The minimum number of members in any class cannot be less than n_splits=3.\n",
            "  % (min_groups, self.n_splits)), Warning)\n"
          ],
          "name": "stderr"
        }
      ]
    },
    {
      "cell_type": "code",
      "metadata": {
        "id": "WWdkuHCM-A0k",
        "colab_type": "code",
        "colab": {}
      },
      "source": [
        "print(clf.best_estimator_)\n"
      ],
      "execution_count": 0,
      "outputs": []
    },
    {
      "cell_type": "code",
      "metadata": {
        "id": "DJtAIGGrDCx2",
        "colab_type": "code",
        "colab": {}
      },
      "source": [
        "X_test, y_test = test_set['string'], test_set['label']\n",
        "y_pred = clf.predict(X_test)\n"
      ],
      "execution_count": 0,
      "outputs": []
    },
    {
      "cell_type": "code",
      "metadata": {
        "id": "1cgvewQ0C_6t",
        "colab_type": "code",
        "colab": {}
      },
      "source": [
        "print(classification_report(y_test, y_pred))\n"
      ],
      "execution_count": 0,
      "outputs": []
    },
    {
      "cell_type": "markdown",
      "metadata": {
        "id": "hEqXYdjTc1Rr",
        "colab_type": "text"
      },
      "source": [
        "## Tf-idf\n"
      ]
    },
    {
      "cell_type": "code",
      "metadata": {
        "id": "OOcd0wnoc2qC",
        "colab_type": "code",
        "colab": {}
      },
      "source": [
        "tfidf_vector = TfidfVectorizer(tokenizer = spacy_tokenizer, max_features=10000)\n"
      ],
      "execution_count": 0,
      "outputs": []
    },
    {
      "cell_type": "markdown",
      "metadata": {
        "id": "dLf0kBzdc4jJ",
        "colab_type": "text"
      },
      "source": [
        "## Gradient Boosting with GridSearchCV\n"
      ]
    },
    {
      "cell_type": "code",
      "metadata": {
        "id": "IoIL2XX_czdz",
        "colab_type": "code",
        "colab": {}
      },
      "source": [
        "from sklearn.ensemble import GradientBoostingClassifier"
      ],
      "execution_count": 0,
      "outputs": []
    },
    {
      "cell_type": "code",
      "metadata": {
        "id": "1diOdDEWdAb8",
        "colab_type": "code",
        "colab": {}
      },
      "source": [
        "# GridSearchCV\n",
        "from sklearn.model_selection import GridSearchCV\n",
        "from sklearn.metrics import classification_report"
      ],
      "execution_count": 0,
      "outputs": []
    },
    {
      "cell_type": "code",
      "metadata": {
        "id": "YG945ckZdBQd",
        "colab_type": "code",
        "colab": {}
      },
      "source": [
        "param_grid = {'learning_rate': [0.1, 0.25, 0.5, 0.75]}\n",
        "# param_grid = {}\n",
        "clf = GridSearchCV(GradientBoostingClassifier(), param_grid)\n",
        "# clf = GradientBoostingClassifier()"
      ],
      "execution_count": 0,
      "outputs": []
    },
    {
      "cell_type": "code",
      "metadata": {
        "id": "5ISI58sI1oqD",
        "colab_type": "code",
        "colab": {}
      },
      "source": [
        "X_train = training_set['string']\n",
        "y_train = training_set['label']"
      ],
      "execution_count": 0,
      "outputs": []
    },
    {
      "cell_type": "code",
      "metadata": {
        "id": "95Ja1tIXdEpT",
        "colab_type": "code",
        "outputId": "76a4a20a-8e5f-4705-971e-a8d3a049bfd4",
        "colab": {
          "base_uri": "https://localhost:8080/",
          "height": 411
        }
      },
      "source": [
        "# Create pipeline using Bag of Words\n",
        "\n",
        "pipe = Pipeline([(\"cleaner\", predictors()),\n",
        "                 ('vectorizer', tfidf_vector),\n",
        "                 ('classifier', clf)], \n",
        "                memory='./',\n",
        "                verbose=True)\n",
        "\n",
        "# model generation\n",
        "pipe.fit(X_train, y_train)\n"
      ],
      "execution_count": 0,
      "outputs": [
        {
          "output_type": "stream",
          "text": [
            "[Pipeline] ........... (step 1 of 3) Processing cleaner, total=   2.3s\n"
          ],
          "name": "stdout"
        },
        {
          "output_type": "stream",
          "text": [
            "/usr/local/lib/python3.6/dist-packages/sklearn/pipeline.py:317: UserWarning: Persisting input arguments took 3.35s to run.\n",
            "If this happens often in your code, it can cause performance problems \n",
            "(results will be correct in all cases). \n",
            "The reason for this is probably some large input arguments for a wrapped\n",
            " function (e.g. large strings).\n",
            "THIS IS A JOBLIB ISSUE. If you can, kindly provide the joblib's team with an\n",
            " example so that they can fix the problem.\n",
            "  **fit_params_steps[name])\n"
          ],
          "name": "stderr"
        },
        {
          "output_type": "stream",
          "text": [
            "[Pipeline] ........ (step 2 of 3) Processing vectorizer, total=24.7min\n"
          ],
          "name": "stdout"
        },
        {
          "output_type": "stream",
          "text": [
            "/usr/local/lib/python3.6/dist-packages/sklearn/pipeline.py:317: UserWarning: Persisting input arguments took 37.23s to run.\n",
            "If this happens often in your code, it can cause performance problems \n",
            "(results will be correct in all cases). \n",
            "The reason for this is probably some large input arguments for a wrapped\n",
            " function (e.g. large strings).\n",
            "THIS IS A JOBLIB ISSUE. If you can, kindly provide the joblib's team with an\n",
            " example so that they can fix the problem.\n",
            "  **fit_params_steps[name])\n",
            "/usr/local/lib/python3.6/dist-packages/sklearn/model_selection/_split.py:1978: FutureWarning: The default value of cv will change from 3 to 5 in version 0.22. Specify it explicitly to silence this warning.\n",
            "  warnings.warn(CV_WARNING, FutureWarning)\n",
            "/usr/local/lib/python3.6/dist-packages/sklearn/model_selection/_split.py:657: Warning: The least populated class in y has only 1 members, which is too few. The minimum number of members in any class cannot be less than n_splits=3.\n",
            "  % (min_groups, self.n_splits)), Warning)\n"
          ],
          "name": "stderr"
        }
      ]
    },
    {
      "cell_type": "code",
      "metadata": {
        "colab_type": "code",
        "id": "2DA2wL8q2zV5",
        "colab": {}
      },
      "source": [
        "print(clf.best_estimator_)\n"
      ],
      "execution_count": 0,
      "outputs": []
    },
    {
      "cell_type": "code",
      "metadata": {
        "colab_type": "code",
        "id": "TwmbFEQG2zWm",
        "colab": {}
      },
      "source": [
        "X_test, y_test = test_set['string'], test_set['label']\n",
        "y_pred = pipe.predict(X_test)\n"
      ],
      "execution_count": 0,
      "outputs": []
    },
    {
      "cell_type": "code",
      "metadata": {
        "colab_type": "code",
        "id": "A_QyG_1T2zWy",
        "colab": {}
      },
      "source": [
        "print(classification_report(y_test, y_pred))\n"
      ],
      "execution_count": 0,
      "outputs": []
    },
    {
      "cell_type": "markdown",
      "metadata": {
        "colab_type": "text",
        "id": "23APpcqtl0X3"
      },
      "source": [
        "### RandomForest\n"
      ]
    },
    {
      "cell_type": "code",
      "metadata": {
        "colab_type": "code",
        "id": "s6TJR_Oul0X6",
        "colab": {}
      },
      "source": [
        "from sklearn.ensemble import RandomForestClassifier"
      ],
      "execution_count": 0,
      "outputs": []
    },
    {
      "cell_type": "code",
      "metadata": {
        "id": "91eT1fKD4SD5",
        "colab_type": "code",
        "colab": {}
      },
      "source": [
        "import itertools\n"
      ],
      "execution_count": 0,
      "outputs": []
    },
    {
      "cell_type": "code",
      "metadata": {
        "colab_type": "code",
        "id": "NpRilY_8l0X9",
        "colab": {}
      },
      "source": [
        "# GridSearchCV\n",
        "from sklearn.model_selection import GridSearchCV\n",
        "from sklearn.metrics import classification_report\n"
      ],
      "execution_count": 0,
      "outputs": []
    },
    {
      "cell_type": "code",
      "metadata": {
        "id": "UMgTRcS34ZSO",
        "colab_type": "code",
        "colab": {}
      },
      "source": [
        "def get_minibatch(doc_iter, size, pos_class='acq'):\n",
        "    \"\"\"Extract a minibatch of examples, return a tuple X_text, y.\n",
        "\n",
        "    Note: size is before excluding invalid docs with no topics assigned.\n",
        "\n",
        "    \"\"\"\n",
        "    data = [('{title}\\n\\n{body}'.format(**doc), pos_class in doc['topics'])\n",
        "            for doc in itertools.islice(doc_iter, size)\n",
        "            if doc['topics']]\n",
        "    if not len(data):\n",
        "        return np.asarray([], dtype=int), np.asarray([], dtype=int)\n",
        "    X_text, y = zip(*data)\n",
        "    return X_text, np.asarray(y, dtype=int)\n",
        "\n",
        "\n",
        "def iter_minibatches(doc_iter, minibatch_size):\n",
        "    \"\"\"Generator of minibatches.\"\"\"\n",
        "    X_text, y = get_minibatch(doc_iter, minibatch_size)\n",
        "    while len(X_text):\n",
        "        yield X_text, y\n",
        "        X_text, y = get_minibatch(doc_iter, minibatch_size)"
      ],
      "execution_count": 0,
      "outputs": []
    },
    {
      "cell_type": "code",
      "metadata": {
        "colab_type": "code",
        "id": "xwMpRnmcl0X_",
        "colab": {}
      },
      "source": [
        "param_grid = {'n_estimators':[100, 200, 500],\n",
        "              'n_jobs': [-1]}\n",
        "\n",
        "param_grid = {}\n",
        "clf = GridSearchCV(RandomForestClassifier(), param_grid)\n"
      ],
      "execution_count": 0,
      "outputs": []
    },
    {
      "cell_type": "code",
      "metadata": {
        "id": "m_vBo7pp1k2O",
        "colab_type": "code",
        "colab": {}
      },
      "source": [
        "X_train = training_set['string']\n",
        "y_train = training_set['label']"
      ],
      "execution_count": 0,
      "outputs": []
    },
    {
      "cell_type": "code",
      "metadata": {
        "colab_type": "code",
        "id": "n8UFYl6hl0YF",
        "outputId": "b7294aaa-2d56-4621-e606-d2ddda7178dd",
        "colab": {
          "base_uri": "https://localhost:8080/",
          "height": 717
        }
      },
      "source": [
        "# Create pipeline using Bag of Words\n",
        "\n",
        "pipe = Pipeline([(\"cleaner\", predictors()),\n",
        "                 ('vectorizer', bow_vector),\n",
        "                 ('classifier', clf)],\n",
        "                memory='./',\n",
        "                verbose=True)\n",
        "\n",
        "# model generation\n",
        "pipe.fit(X_train, y_train)\n"
      ],
      "execution_count": 0,
      "outputs": [
        {
          "output_type": "stream",
          "text": [
            "/usr/local/lib/python3.6/dist-packages/sklearn/model_selection/_split.py:1978: FutureWarning: The default value of cv will change from 3 to 5 in version 0.22. Specify it explicitly to silence this warning.\n",
            "  warnings.warn(CV_WARNING, FutureWarning)\n",
            "/usr/local/lib/python3.6/dist-packages/sklearn/model_selection/_split.py:657: Warning: The least populated class in y has only 1 members, which is too few. The minimum number of members in any class cannot be less than n_splits=3.\n",
            "  % (min_groups, self.n_splits)), Warning)\n",
            "/usr/local/lib/python3.6/dist-packages/sklearn/ensemble/forest.py:245: FutureWarning: The default value of n_estimators will change from 10 in version 0.20 to 100 in 0.22.\n",
            "  \"10 in version 0.20 to 100 in 0.22.\", FutureWarning)\n",
            "/usr/local/lib/python3.6/dist-packages/sklearn/ensemble/forest.py:245: FutureWarning: The default value of n_estimators will change from 10 in version 0.20 to 100 in 0.22.\n",
            "  \"10 in version 0.20 to 100 in 0.22.\", FutureWarning)\n",
            "/usr/local/lib/python3.6/dist-packages/sklearn/ensemble/forest.py:245: FutureWarning: The default value of n_estimators will change from 10 in version 0.20 to 100 in 0.22.\n",
            "  \"10 in version 0.20 to 100 in 0.22.\", FutureWarning)\n",
            "/usr/local/lib/python3.6/dist-packages/sklearn/ensemble/forest.py:245: FutureWarning: The default value of n_estimators will change from 10 in version 0.20 to 100 in 0.22.\n",
            "  \"10 in version 0.20 to 100 in 0.22.\", FutureWarning)\n"
          ],
          "name": "stderr"
        },
        {
          "output_type": "stream",
          "text": [
            "[Pipeline] ........ (step 3 of 3) Processing classifier, total= 7.0min\n"
          ],
          "name": "stdout"
        },
        {
          "output_type": "execute_result",
          "data": {
            "text/plain": [
              "Pipeline(memory='./',\n",
              "         steps=[('cleaner', <__main__.predictors object at 0x7fedffeea2e8>),\n",
              "                ('vectorizer',\n",
              "                 CountVectorizer(analyzer='word', binary=False,\n",
              "                                 decode_error='strict',\n",
              "                                 dtype=<class 'numpy.int64'>, encoding='utf-8',\n",
              "                                 input='content', lowercase=True, max_df=1.0,\n",
              "                                 max_features=10000, min_df=1,\n",
              "                                 ngram_range=(1, 1), preprocessor=None,\n",
              "                                 stop_words=None, strip_accents=None,...\n",
              "                                                               max_leaf_nodes=None,\n",
              "                                                               min_impurity_decrease=0.0,\n",
              "                                                               min_impurity_split=None,\n",
              "                                                               min_samples_leaf=1,\n",
              "                                                               min_samples_split=2,\n",
              "                                                               min_weight_fraction_leaf=0.0,\n",
              "                                                               n_estimators='warn',\n",
              "                                                               n_jobs=None,\n",
              "                                                               oob_score=False,\n",
              "                                                               random_state=None,\n",
              "                                                               verbose=0,\n",
              "                                                               warm_start=False),\n",
              "                              iid='warn', n_jobs=None, param_grid={},\n",
              "                              pre_dispatch='2*n_jobs', refit=True,\n",
              "                              return_train_score=False, scoring=None,\n",
              "                              verbose=0))],\n",
              "         verbose=True)"
            ]
          },
          "metadata": {
            "tags": []
          },
          "execution_count": 14
        }
      ]
    },
    {
      "cell_type": "code",
      "metadata": {
        "id": "zXUgLox3nPtO",
        "colab_type": "code",
        "outputId": "0da04326-5a13-41d4-b59e-37ab9275375a",
        "colab": {
          "base_uri": "https://localhost:8080/",
          "height": 136
        }
      },
      "source": [
        "print(clf.best_estimator_)\n"
      ],
      "execution_count": 0,
      "outputs": [
        {
          "output_type": "stream",
          "text": [
            "RandomForestClassifier(bootstrap=True, class_weight=None, criterion='gini',\n",
            "                       max_depth=None, max_features='auto', max_leaf_nodes=None,\n",
            "                       min_impurity_decrease=0.0, min_impurity_split=None,\n",
            "                       min_samples_leaf=1, min_samples_split=2,\n",
            "                       min_weight_fraction_leaf=0.0, n_estimators=10,\n",
            "                       n_jobs=None, oob_score=False, random_state=None,\n",
            "                       verbose=0, warm_start=False)\n"
          ],
          "name": "stdout"
        }
      ]
    },
    {
      "cell_type": "code",
      "metadata": {
        "id": "GZBEKUAGnQml",
        "colab_type": "code",
        "colab": {}
      },
      "source": [
        "X_test, y_test = test_set['string'], test_set['label']\n",
        "y_pred = pipe.predict(X_test)\n"
      ],
      "execution_count": 0,
      "outputs": []
    },
    {
      "cell_type": "code",
      "metadata": {
        "id": "DTHYA84AnUZr",
        "colab_type": "code",
        "outputId": "5fec1a1f-b091-422c-eab9-1cbe1cba9803",
        "colab": {
          "base_uri": "https://localhost:8080/",
          "height": 71
        }
      },
      "source": [
        "classification_report = pd.DataFrame(classification_report(y_test, y_pred, output_dict=True)).T\n",
        "classification_report.to_csv('classification_report_random_forest.csv', index=False)\n",
        "\n",
        "from google.colab import files\n",
        "files.download('classification_report_random_forest.csv')"
      ],
      "execution_count": 0,
      "outputs": [
        {
          "output_type": "stream",
          "text": [
            "/usr/local/lib/python3.6/dist-packages/sklearn/metrics/classification.py:1437: UndefinedMetricWarning: Precision and F-score are ill-defined and being set to 0.0 in labels with no predicted samples.\n",
            "  'precision', 'predicted', average, warn_for)\n"
          ],
          "name": "stderr"
        }
      ]
    },
    {
      "cell_type": "code",
      "metadata": {
        "id": "AUea1vmfHXhj",
        "colab_type": "code",
        "outputId": "dacf2477-60e3-41b6-fee3-6be7289b6ce7",
        "colab": {
          "base_uri": "https://localhost:8080/",
          "height": 419
        }
      },
      "source": [
        "classification_report"
      ],
      "execution_count": 0,
      "outputs": [
        {
          "output_type": "execute_result",
          "data": {
            "text/html": [
              "<div>\n",
              "<style scoped>\n",
              "    .dataframe tbody tr th:only-of-type {\n",
              "        vertical-align: middle;\n",
              "    }\n",
              "\n",
              "    .dataframe tbody tr th {\n",
              "        vertical-align: top;\n",
              "    }\n",
              "\n",
              "    .dataframe thead th {\n",
              "        text-align: right;\n",
              "    }\n",
              "</style>\n",
              "<table border=\"1\" class=\"dataframe\">\n",
              "  <thead>\n",
              "    <tr style=\"text-align: right;\">\n",
              "      <th></th>\n",
              "      <th>precision</th>\n",
              "      <th>recall</th>\n",
              "      <th>f1-score</th>\n",
              "      <th>support</th>\n",
              "    </tr>\n",
              "  </thead>\n",
              "  <tbody>\n",
              "    <tr>\n",
              "      <th>Aaberg, Jens Christian</th>\n",
              "      <td>0.400000</td>\n",
              "      <td>0.500000</td>\n",
              "      <td>0.444444</td>\n",
              "      <td>4.000000</td>\n",
              "    </tr>\n",
              "    <tr>\n",
              "      <th>Abbott, Lemuel Abijah</th>\n",
              "      <td>0.300000</td>\n",
              "      <td>0.600000</td>\n",
              "      <td>0.400000</td>\n",
              "      <td>5.000000</td>\n",
              "    </tr>\n",
              "    <tr>\n",
              "      <th>Acland, Charles</th>\n",
              "      <td>0.142857</td>\n",
              "      <td>0.500000</td>\n",
              "      <td>0.222222</td>\n",
              "      <td>4.000000</td>\n",
              "    </tr>\n",
              "    <tr>\n",
              "      <th>Adams, Charles Francis</th>\n",
              "      <td>0.250000</td>\n",
              "      <td>0.500000</td>\n",
              "      <td>0.333333</td>\n",
              "      <td>10.000000</td>\n",
              "    </tr>\n",
              "    <tr>\n",
              "      <th>Adams, Henry Gardiner</th>\n",
              "      <td>0.000000</td>\n",
              "      <td>0.000000</td>\n",
              "      <td>0.000000</td>\n",
              "      <td>2.000000</td>\n",
              "    </tr>\n",
              "    <tr>\n",
              "      <th>...</th>\n",
              "      <td>...</td>\n",
              "      <td>...</td>\n",
              "      <td>...</td>\n",
              "      <td>...</td>\n",
              "    </tr>\n",
              "    <tr>\n",
              "      <th>Zacks, Robert</th>\n",
              "      <td>0.000000</td>\n",
              "      <td>0.000000</td>\n",
              "      <td>0.000000</td>\n",
              "      <td>2.000000</td>\n",
              "    </tr>\n",
              "    <tr>\n",
              "      <th>Zderad, Loretta T. Paterson, Josephine G.</th>\n",
              "      <td>1.000000</td>\n",
              "      <td>1.000000</td>\n",
              "      <td>1.000000</td>\n",
              "      <td>4.000000</td>\n",
              "    </tr>\n",
              "    <tr>\n",
              "      <th>accuracy</th>\n",
              "      <td>0.660967</td>\n",
              "      <td>0.660967</td>\n",
              "      <td>0.660967</td>\n",
              "      <td>0.660967</td>\n",
              "    </tr>\n",
              "    <tr>\n",
              "      <th>macro avg</th>\n",
              "      <td>0.568255</td>\n",
              "      <td>0.447274</td>\n",
              "      <td>0.467059</td>\n",
              "      <td>9825.000000</td>\n",
              "    </tr>\n",
              "    <tr>\n",
              "      <th>weighted avg</th>\n",
              "      <td>0.695855</td>\n",
              "      <td>0.660967</td>\n",
              "      <td>0.645494</td>\n",
              "      <td>9825.000000</td>\n",
              "    </tr>\n",
              "  </tbody>\n",
              "</table>\n",
              "<p>971 rows × 4 columns</p>\n",
              "</div>"
            ],
            "text/plain": [
              "                                           precision  ...      support\n",
              "Aaberg, Jens Christian                      0.400000  ...     4.000000\n",
              "Abbott, Lemuel Abijah                       0.300000  ...     5.000000\n",
              "Acland, Charles                             0.142857  ...     4.000000\n",
              "Adams, Charles Francis                      0.250000  ...    10.000000\n",
              "Adams, Henry Gardiner                       0.000000  ...     2.000000\n",
              "...                                              ...  ...          ...\n",
              "Zacks, Robert                               0.000000  ...     2.000000\n",
              "Zderad, Loretta T. Paterson, Josephine G.   1.000000  ...     4.000000\n",
              "accuracy                                    0.660967  ...     0.660967\n",
              "macro avg                                   0.568255  ...  9825.000000\n",
              "weighted avg                                0.695855  ...  9825.000000\n",
              "\n",
              "[971 rows x 4 columns]"
            ]
          },
          "metadata": {
            "tags": []
          },
          "execution_count": 33
        }
      ]
    },
    {
      "cell_type": "markdown",
      "metadata": {
        "colab_type": "text",
        "id": "UZfEk5OqlYFA"
      },
      "source": [
        "## Decision Tree\n"
      ]
    },
    {
      "cell_type": "code",
      "metadata": {
        "colab_type": "code",
        "id": "Ap-2oW5RlYFC",
        "colab": {}
      },
      "source": [
        "from sklearn import tree\n"
      ],
      "execution_count": 0,
      "outputs": []
    },
    {
      "cell_type": "code",
      "metadata": {
        "colab_type": "code",
        "id": "6xjPiFw8lYFE",
        "colab": {}
      },
      "source": [
        "# GridSearchCV\n",
        "from sklearn.model_selection import GridSearchCV\n",
        "from sklearn.metrics import classification_report"
      ],
      "execution_count": 0,
      "outputs": []
    },
    {
      "cell_type": "code",
      "metadata": {
        "colab_type": "code",
        "id": "SVunyQbqlYFG",
        "colab": {}
      },
      "source": [
        "# param_grid = {'learning_rate': [0.1, 0.25, 0.5, 0.75]}\n",
        "param_grid = {}\n",
        "clf = GridSearchCV(tree.DecisionTreeClassifier(), param_grid)"
      ],
      "execution_count": 0,
      "outputs": []
    },
    {
      "cell_type": "code",
      "metadata": {
        "colab_type": "code",
        "id": "OzNSMFNPlYFI",
        "colab": {}
      },
      "source": [
        "X_train = training_set['string']\n",
        "y_train = training_set['label']\n"
      ],
      "execution_count": 0,
      "outputs": []
    },
    {
      "cell_type": "code",
      "metadata": {
        "colab_type": "code",
        "id": "sC7HUZWslYFL",
        "colab": {}
      },
      "source": [
        "# Create pipeline using Bag of Words\n",
        "pipe = Pipeline([(\"cleaner\", predictors()),\n",
        "                 ('vectorizer', tfidf_vector),\n",
        "                 ('classifier', clf)])\n",
        "# model generation\n",
        "pipe.fit(X_train, y_train)\n"
      ],
      "execution_count": 0,
      "outputs": []
    },
    {
      "cell_type": "code",
      "metadata": {
        "colab_type": "code",
        "id": "7e5FRt_olYFO",
        "colab": {}
      },
      "source": [
        "print(clf.best_estimator_)\n"
      ],
      "execution_count": 0,
      "outputs": []
    },
    {
      "cell_type": "code",
      "metadata": {
        "colab_type": "code",
        "id": "I_hr53PmlYFQ",
        "colab": {}
      },
      "source": [
        "X_test, y_test = test_set['string'], test_set['label']\n",
        "y_pred = clf.predict(X_test)\n"
      ],
      "execution_count": 0,
      "outputs": []
    },
    {
      "cell_type": "code",
      "metadata": {
        "colab_type": "code",
        "id": "eGGLc-XRlYFS",
        "colab": {}
      },
      "source": [
        "print(classification_report(y_test, y_pred))\n"
      ],
      "execution_count": 0,
      "outputs": []
    },
    {
      "cell_type": "markdown",
      "metadata": {
        "id": "aS46JadsfF-W",
        "colab_type": "text"
      },
      "source": [
        "# Gensim Word2Vec"
      ]
    },
    {
      "cell_type": "code",
      "metadata": {
        "id": "I5JkgtYPGI_6",
        "colab_type": "code",
        "colab": {}
      },
      "source": [
        "import re  # For preprocessing\n",
        "import pandas as pd  # For data handling\n",
        "from time import time  # To time our operations\n",
        "from collections import defaultdict  # For word frequency\n",
        "\n",
        "import spacy  # For preprocessing\n",
        "\n",
        "import logging  # Setting up the loggings to monitor gensim\n",
        "logging.basicConfig(format=\"%(levelname)s - %(asctime)s: %(message)s\", datefmt= '%H:%M:%S', level=logging.INFO)\n"
      ],
      "execution_count": 0,
      "outputs": []
    },
    {
      "cell_type": "code",
      "metadata": {
        "id": "JbUjBvTJfFew",
        "colab_type": "code",
        "outputId": "324c2bfb-e727-427a-cf58-f1f189818264",
        "colab": {
          "base_uri": "https://localhost:8080/",
          "height": 34
        }
      },
      "source": [
        "import multiprocessing\n",
        "\n",
        "from gensim.models import Word2Vec\n"
      ],
      "execution_count": 0,
      "outputs": [
        {
          "output_type": "stream",
          "text": [
            "INFO - 15:02:40: 'pattern' package not found; tag filters are not available for English\n"
          ],
          "name": "stderr"
        }
      ]
    },
    {
      "cell_type": "markdown",
      "metadata": {
        "id": "Z4WhFhHZGe6c",
        "colab_type": "text"
      },
      "source": [
        "#### Text cleaning, remove non-alphabetic characters"
      ]
    },
    {
      "cell_type": "code",
      "metadata": {
        "id": "wlSkdhrcGrw_",
        "colab_type": "code",
        "colab": {}
      },
      "source": [
        "nlp = spacy.load('en', disable=['ner', 'parser']) # disabling Named Entity Recognition for speed\n",
        "\n",
        "def cleaning(doc):\n",
        "    # Lemmatizes and removes stopwords\n",
        "    # doc needs to be a spacy Doc object\n",
        "    txt = [token.lemma_ for token in doc if not token.is_stop]\n",
        "    # Word2Vec uses context words to learn the vector representation of a target word,\n",
        "    # if a sentence is only one or two words long,\n",
        "    # the benefit for the training is very small\n",
        "    if len(txt) > 2:\n",
        "        return ' '.join(txt)"
      ],
      "execution_count": 0,
      "outputs": []
    },
    {
      "cell_type": "code",
      "metadata": {
        "id": "EgJ3o9pwGkqX",
        "colab_type": "code",
        "colab": {}
      },
      "source": [
        "brief_cleaning = (re.sub(\"[^A-Za-z']+\", ' ', str(row)).lower() for row in training_set['string'])\n"
      ],
      "execution_count": 0,
      "outputs": []
    },
    {
      "cell_type": "code",
      "metadata": {
        "id": "HQWd7OtIGvZ2",
        "colab_type": "code",
        "colab": {}
      },
      "source": [
        "txt = [cleaning(doc) for doc in nlp.pipe(brief_cleaning, batch_size=2048, n_threads=-1)]\n"
      ],
      "execution_count": 0,
      "outputs": []
    },
    {
      "cell_type": "markdown",
      "metadata": {
        "id": "-m6A9mrSG4U7",
        "colab_type": "text"
      },
      "source": [
        "Put the results in a DF to remove missing values and duplicates"
      ]
    },
    {
      "cell_type": "code",
      "metadata": {
        "id": "2cFfzCw-G3Lc",
        "colab_type": "code",
        "outputId": "23783d35-f554-40be-f28f-10400b9a745c",
        "colab": {
          "base_uri": "https://localhost:8080/",
          "height": 34
        }
      },
      "source": [
        "df_clean = pd.DataFrame({'clean': txt})\n",
        "df_clean = df_clean.dropna().drop_duplicates()\n",
        "df_clean.shape"
      ],
      "execution_count": 0,
      "outputs": [
        {
          "output_type": "execute_result",
          "data": {
            "text/plain": [
              "(69873, 1)"
            ]
          },
          "metadata": {
            "tags": []
          },
          "execution_count": 15
        }
      ]
    },
    {
      "cell_type": "code",
      "metadata": {
        "id": "8EPO_qKPcb_E",
        "colab_type": "code",
        "outputId": "32d0bee1-ada5-4795-848d-95eef81a4401",
        "colab": {
          "base_uri": "https://localhost:8080/",
          "height": 419
        }
      },
      "source": [
        "df_clean"
      ],
      "execution_count": 0,
      "outputs": [
        {
          "output_type": "execute_result",
          "data": {
            "text/html": [
              "<div>\n",
              "<style scoped>\n",
              "    .dataframe tbody tr th:only-of-type {\n",
              "        vertical-align: middle;\n",
              "    }\n",
              "\n",
              "    .dataframe tbody tr th {\n",
              "        vertical-align: top;\n",
              "    }\n",
              "\n",
              "    .dataframe thead th {\n",
              "        text-align: right;\n",
              "    }\n",
              "</style>\n",
              "<table border=\"1\" class=\"dataframe\">\n",
              "  <thead>\n",
              "    <tr style=\"text-align: right;\">\n",
              "      <th></th>\n",
              "      <th>clean</th>\n",
              "    </tr>\n",
              "  </thead>\n",
              "  <tbody>\n",
              "    <tr>\n",
              "      <th>0</th>\n",
              "      <td>' isolate patch northern population ndeep pl...</td>\n",
              "    </tr>\n",
              "    <tr>\n",
              "      <th>1</th>\n",
              "      <td>dismiss nwithout consideration monstrous unwar...</td>\n",
              "    </tr>\n",
              "    <tr>\n",
              "      <th>2</th>\n",
              "      <td>surface like ncase melting iceberg precipitati...</td>\n",
              "    </tr>\n",
              "    <tr>\n",
              "      <th>3</th>\n",
              "      <td>doctrine evolution especially regard land anim...</td>\n",
              "    </tr>\n",
              "    <tr>\n",
              "      <th>4</th>\n",
              "      <td>fine impalpable powder pure nwell rectify spir...</td>\n",
              "    </tr>\n",
              "    <tr>\n",
              "      <th>...</th>\n",
              "      <td>...</td>\n",
              "    </tr>\n",
              "    <tr>\n",
              "      <th>70078</th>\n",
              "      <td>npolitical machinery ' ' educational influence...</td>\n",
              "    </tr>\n",
              "    <tr>\n",
              "      <th>70079</th>\n",
              "      <td>apparent ' ' let receive spirit nis offer ' ' ...</td>\n",
              "    </tr>\n",
              "    <tr>\n",
              "      <th>70080</th>\n",
              "      <td>adaptation consider hi correct helpful nbecaus...</td>\n",
              "    </tr>\n",
              "    <tr>\n",
              "      <th>70081</th>\n",
              "      <td>tendency separation nand segregation pronounce...</td>\n",
              "    </tr>\n",
              "    <tr>\n",
              "      <th>70082</th>\n",
              "      <td>nsuppose family race observe virile nscotch ir...</td>\n",
              "    </tr>\n",
              "  </tbody>\n",
              "</table>\n",
              "<p>69873 rows × 1 columns</p>\n",
              "</div>"
            ],
            "text/plain": [
              "                                                   clean\n",
              "0        ' isolate patch northern population ndeep pl...\n",
              "1      dismiss nwithout consideration monstrous unwar...\n",
              "2      surface like ncase melting iceberg precipitati...\n",
              "3      doctrine evolution especially regard land anim...\n",
              "4      fine impalpable powder pure nwell rectify spir...\n",
              "...                                                  ...\n",
              "70078  npolitical machinery ' ' educational influence...\n",
              "70079  apparent ' ' let receive spirit nis offer ' ' ...\n",
              "70080  adaptation consider hi correct helpful nbecaus...\n",
              "70081  tendency separation nand segregation pronounce...\n",
              "70082  nsuppose family race observe virile nscotch ir...\n",
              "\n",
              "[69873 rows x 1 columns]"
            ]
          },
          "metadata": {
            "tags": []
          },
          "execution_count": 16
        }
      ]
    },
    {
      "cell_type": "markdown",
      "metadata": {
        "id": "cx-RxGquHFWo",
        "colab_type": "text"
      },
      "source": [
        "#### Init Word2Vec Model"
      ]
    },
    {
      "cell_type": "code",
      "metadata": {
        "id": "1uyji6wZcqKl",
        "colab_type": "code",
        "outputId": "91452bc9-701d-474f-f94d-606dea1b4738",
        "colab": {
          "base_uri": "https://localhost:8080/",
          "height": 34
        }
      },
      "source": [
        "multiprocessing.cpu_count() # Count the number of cores in a computer\n"
      ],
      "execution_count": 0,
      "outputs": [
        {
          "output_type": "execute_result",
          "data": {
            "text/plain": [
              "4"
            ]
          },
          "metadata": {
            "tags": []
          },
          "execution_count": 17
        }
      ]
    },
    {
      "cell_type": "code",
      "metadata": {
        "id": "s47S4ybikIhQ",
        "colab_type": "code",
        "colab": {}
      },
      "source": [
        "w2v_model = Word2Vec(min_count=20,\n",
        "                     window=2,\n",
        "                     size=300,\n",
        "                     sample=6e-5, \n",
        "                     alpha=0.03, \n",
        "                     min_alpha=0.0007, \n",
        "                     negative=20,\n",
        "                     workers=4)\n"
      ],
      "execution_count": 0,
      "outputs": []
    },
    {
      "cell_type": "markdown",
      "metadata": {
        "id": "S5IfUAWhDa-U",
        "colab_type": "text"
      },
      "source": [
        "- **min_count**: ignore all words with total absolute frequency lower than this\n",
        "\n",
        "- **window**: The maximum distance between the current and predicted word within a sentence\n",
        "\n",
        "- **size**: The dimensionality of feature vectors\n",
        "\n",
        "- **sample**: The threshold for configuring which higher-frequency wors are randomly downsampled\n",
        "\n",
        "- **alpha**: The initial learning rate\n",
        "\n",
        "- **min_alpha**: Learning rate will be linearly dropped to min_alpha as training progresses\n",
        "\n",
        "- **negative**: If negative > 0, negative sampling will be used\n",
        "\n",
        "- **workers**: The numer of threads to train the model"
      ]
    },
    {
      "cell_type": "code",
      "metadata": {
        "id": "X8nFQiYJkPn3",
        "colab_type": "code",
        "colab": {}
      },
      "source": [
        "from gensim.models.phrases import Phrases, Phraser\n"
      ],
      "execution_count": 0,
      "outputs": []
    },
    {
      "cell_type": "markdown",
      "metadata": {
        "id": "DXYS1M01FzP5",
        "colab_type": "text"
      },
      "source": [
        "The goal of Phraser() is to cut down memory consumption of Phrases(), by discarding model state not strictly needed for the bigram detection task"
      ]
    },
    {
      "cell_type": "code",
      "metadata": {
        "id": "fP_e7ejwkb0I",
        "colab_type": "code",
        "colab": {}
      },
      "source": [
        "sent = [row.split() for row in df_clean['clean']]\n"
      ],
      "execution_count": 0,
      "outputs": []
    },
    {
      "cell_type": "markdown",
      "metadata": {
        "id": "Ii0s8iImE94B",
        "colab_type": "text"
      },
      "source": [
        "Biagrams:\n",
        "\n",
        "Use Gensim Phrases package to automatically detect common pharases from a list of sentences"
      ]
    },
    {
      "cell_type": "code",
      "metadata": {
        "id": "85zoPiM8kkq3",
        "colab_type": "code",
        "outputId": "863fa816-7ad7-4930-88af-63b839838868",
        "colab": {
          "base_uri": "https://localhost:8080/",
          "height": 187
        }
      },
      "source": [
        "phrases = Phrases(sent, min_count=30, progress_per=10000)\n"
      ],
      "execution_count": 0,
      "outputs": [
        {
          "output_type": "stream",
          "text": [
            "INFO - 16:32:10: collecting all words and their counts\n",
            "INFO - 16:32:10: PROGRESS: at sentence #0, processed 0 words and 0 word types\n",
            "INFO - 16:32:25: PROGRESS: at sentence #10000, processed 9403733 words and 4335301 word types\n",
            "INFO - 16:32:41: PROGRESS: at sentence #20000, processed 18854530 words and 7528656 word types\n",
            "INFO - 16:32:56: PROGRESS: at sentence #30000, processed 28402256 words and 10262113 word types\n",
            "INFO - 16:33:13: PROGRESS: at sentence #40000, processed 38013235 words and 12896304 word types\n",
            "INFO - 16:33:29: PROGRESS: at sentence #50000, processed 47552150 words and 15258884 word types\n",
            "INFO - 16:33:45: PROGRESS: at sentence #60000, processed 57124520 words and 17489041 word types\n",
            "INFO - 16:34:01: collected 19580951 word types from a corpus of 66543217 words (unigram + bigrams) and 69873 sentences\n",
            "INFO - 16:34:01: using 19580951 counts as vocab in Phrases<0 vocab, min_count=30, threshold=10.0, max_vocab_size=40000000>\n"
          ],
          "name": "stderr"
        }
      ]
    },
    {
      "cell_type": "code",
      "metadata": {
        "id": "IAvgzTxR2k_l",
        "colab_type": "code",
        "outputId": "4cb6af26-10f0-41c1-f011-1e21441be938",
        "colab": {
          "base_uri": "https://localhost:8080/",
          "height": 51
        }
      },
      "source": [
        "bigram = Phraser(phrases)\n",
        "\n"
      ],
      "execution_count": 0,
      "outputs": [
        {
          "output_type": "stream",
          "text": [
            "INFO - 16:34:01: source_vocab length 19580951\n",
            "INFO - 16:36:59: Phraser built with 15920 phrasegrams\n"
          ],
          "name": "stderr"
        }
      ]
    },
    {
      "cell_type": "code",
      "metadata": {
        "id": "Q0qmmstzklJu",
        "colab_type": "code",
        "colab": {}
      },
      "source": [
        "sentences = bigram[sent]\n"
      ],
      "execution_count": 0,
      "outputs": []
    },
    {
      "cell_type": "markdown",
      "metadata": {
        "id": "w5MXWhF3DN62",
        "colab_type": "text"
      },
      "source": [
        "#### Building the Vocabolary Table\n",
        "\n",
        "W2V requires us to build the vocabulary table (simply using all the unique words)\n",
        "\n",
        "Here the **min_count** and **sample** hyperparameters have a great influence over the performance of a model"
      ]
    },
    {
      "cell_type": "code",
      "metadata": {
        "id": "s-O5cooIkvSr",
        "colab_type": "code",
        "outputId": "5e063122-6181-48d8-f007-2b6ddd621651",
        "colab": {
          "base_uri": "https://localhost:8080/",
          "height": 306
        }
      },
      "source": [
        "w2v_model.build_vocab(sentences, progress_per=10000)\n"
      ],
      "execution_count": 0,
      "outputs": [
        {
          "output_type": "stream",
          "text": [
            "INFO - 16:37:00: collecting all words and their counts\n",
            "INFO - 16:37:00: PROGRESS: at sentence #0, processed 0 words, keeping 0 word types\n",
            "INFO - 16:37:21: PROGRESS: at sentence #10000, processed 9145615 words, keeping 162327 word types\n",
            "INFO - 16:37:43: PROGRESS: at sentence #20000, processed 18316098 words, keeping 233391 word types\n",
            "INFO - 16:38:06: PROGRESS: at sentence #30000, processed 27588241 words, keeping 283400 word types\n",
            "INFO - 16:38:28: PROGRESS: at sentence #40000, processed 36900073 words, keeping 341014 word types\n",
            "INFO - 16:38:51: PROGRESS: at sentence #50000, processed 46142323 words, keeping 390055 word types\n",
            "INFO - 16:39:13: PROGRESS: at sentence #60000, processed 55430093 words, keeping 437973 word types\n",
            "INFO - 16:39:35: collected 480571 word types from a corpus of 64576898 raw words and 69873 sentences\n",
            "INFO - 16:39:35: Loading a fresh vocabulary\n",
            "INFO - 16:39:37: effective_min_count=20 retains 85522 unique words (17% of original 480571, drops 395049)\n",
            "INFO - 16:39:37: effective_min_count=20 leaves 63343071 word corpus (98% of original 64576898, drops 1233827)\n",
            "INFO - 16:39:37: deleting the raw counts dictionary of 480571 items\n",
            "INFO - 16:39:37: sample=6e-05 downsamples 850 most-common words\n",
            "INFO - 16:39:37: downsampling leaves estimated 38891491 word corpus (61.4% of prior 63343071)\n",
            "INFO - 16:39:37: estimated required memory for 85522 words and 300 dimensions: 248013800 bytes\n",
            "INFO - 16:39:37: resetting layer weights\n"
          ],
          "name": "stderr"
        }
      ]
    },
    {
      "cell_type": "markdown",
      "metadata": {
        "id": "AdxvLgDsEqfm",
        "colab_type": "text"
      },
      "source": [
        "#### Model training\n",
        "\n",
        "- **total_examples**: Count of the sentences\n",
        "\n",
        "- **epochs**: Nof iteration over the corpus"
      ]
    },
    {
      "cell_type": "code",
      "metadata": {
        "id": "tf5Dmfs2kxza",
        "colab_type": "code",
        "colab": {}
      },
      "source": [
        "w2v_model.train(sentences, total_examples=w2v_model.corpus_count, epochs=30, report_delay=1)\n"
      ],
      "execution_count": 0,
      "outputs": []
    },
    {
      "cell_type": "code",
      "metadata": {
        "id": "vnl7_2AvkzqK",
        "colab_type": "code",
        "outputId": "910b3b20-012c-40fe-fbce-b2a6ac59e3b4",
        "colab": {
          "base_uri": "https://localhost:8080/",
          "height": 34
        }
      },
      "source": [
        "w2v_model.init_sims(replace=True)\n"
      ],
      "execution_count": 0,
      "outputs": [
        {
          "output_type": "stream",
          "text": [
            "INFO - 18:40:50: precomputing L2-norms of word weight vectors\n"
          ],
          "name": "stderr"
        }
      ]
    },
    {
      "cell_type": "code",
      "metadata": {
        "id": "AT_R42emk5cN",
        "colab_type": "code",
        "outputId": "e0913724-21dd-4e3e-c588-e35c3117b1f0",
        "colab": {
          "base_uri": "https://localhost:8080/",
          "height": 241
        }
      },
      "source": [
        "w2v_model.wv.most_similar(positive=[\"love\"])\n"
      ],
      "execution_count": 0,
      "outputs": [
        {
          "output_type": "stream",
          "text": [
            "/usr/local/lib/python3.6/dist-packages/gensim/matutils.py:737: FutureWarning: Conversion of the second argument of issubdtype from `int` to `np.signedinteger` is deprecated. In future, it will be treated as `np.int64 == np.dtype(int).type`.\n",
            "  if np.issubdtype(vec.dtype, np.int):\n"
          ],
          "name": "stderr"
        },
        {
          "output_type": "execute_result",
          "data": {
            "text/plain": [
              "[('nlove', 0.711361289024353),\n",
              " ('lover', 0.6574570536613464),\n",
              " ('heart', 0.6459301710128784),\n",
              " ('soul', 0.6380823254585266),\n",
              " ('pity', 0.6357269287109375),\n",
              " ('adore', 0.6257433295249939),\n",
              " ('loving', 0.613831102848053),\n",
              " ('god', 0.6018456220626831),\n",
              " ('joy', 0.5969570875167847),\n",
              " ('hate', 0.5955204963684082)]"
            ]
          },
          "metadata": {
            "tags": []
          },
          "execution_count": 28
        }
      ]
    },
    {
      "cell_type": "code",
      "metadata": {
        "id": "p4xUGo1jk__x",
        "colab_type": "code",
        "outputId": "c2ffaad5-4c81-4378-990f-fbbdecf1ccd8",
        "colab": {
          "base_uri": "https://localhost:8080/",
          "height": 88
        }
      },
      "source": [
        "w2v_model.wv.similarity('peace', 'war')\n"
      ],
      "execution_count": 0,
      "outputs": [
        {
          "output_type": "stream",
          "text": [
            "/usr/local/lib/python3.6/dist-packages/gensim/matutils.py:737: FutureWarning: Conversion of the second argument of issubdtype from `int` to `np.signedinteger` is deprecated. In future, it will be treated as `np.int64 == np.dtype(int).type`.\n",
            "  if np.issubdtype(vec.dtype, np.int):\n"
          ],
          "name": "stderr"
        },
        {
          "output_type": "execute_result",
          "data": {
            "text/plain": [
              "0.4140251"
            ]
          },
          "metadata": {
            "tags": []
          },
          "execution_count": 29
        }
      ]
    },
    {
      "cell_type": "code",
      "metadata": {
        "id": "ig1r00KddAV7",
        "colab_type": "code",
        "outputId": "8154f6e9-3acb-4e41-965a-e049a22b6566",
        "colab": {
          "base_uri": "https://localhost:8080/",
          "height": 173
        }
      },
      "source": [
        "w2v_model.save(\"word2vec.model\")"
      ],
      "execution_count": 0,
      "outputs": [
        {
          "output_type": "stream",
          "text": [
            "INFO - 18:45:32: saving Word2Vec object under word2vec.model, separately None\n",
            "INFO - 18:45:32: storing np array 'vectors' to word2vec.model.wv.vectors.npy\n",
            "INFO - 18:45:32: not storing attribute vectors_norm\n",
            "INFO - 18:45:32: storing np array 'syn1neg' to word2vec.model.trainables.syn1neg.npy\n",
            "INFO - 18:45:32: not storing attribute cum_table\n",
            "/usr/local/lib/python3.6/dist-packages/smart_open/smart_open_lib.py:402: UserWarning: This function is deprecated, use smart_open.open instead. See the migration notes for details: https://github.com/RaRe-Technologies/smart_open/blob/master/README.rst#migrating-to-the-new-open-function\n",
            "  'See the migration notes for details: %s' % _MIGRATION_NOTES_URL\n",
            "INFO - 18:45:32: saved word2vec.model\n"
          ],
          "name": "stderr"
        }
      ]
    },
    {
      "cell_type": "code",
      "metadata": {
        "id": "6zHrzqoW2Qpv",
        "colab_type": "code",
        "colab": {}
      },
      "source": [
        "from google.colab import files\n",
        "files.download(\"word2vec.model\")"
      ],
      "execution_count": 0,
      "outputs": []
    },
    {
      "cell_type": "code",
      "metadata": {
        "id": "Hs44xiaE2YZk",
        "colab_type": "code",
        "colab": {}
      },
      "source": [
        "import numpy as np\n",
        "import matplotlib.pyplot as plt\n",
        "%matplotlib inline\n",
        " \n",
        "import seaborn as sns\n",
        "sns.set_style(\"darkgrid\")\n",
        "\n",
        "from sklearn.decomposition import PCA\n",
        "from sklearn.manifold import TSNE\n"
      ],
      "execution_count": 0,
      "outputs": []
    },
    {
      "cell_type": "code",
      "metadata": {
        "id": "mrglc4e44qYI",
        "colab_type": "code",
        "colab": {}
      },
      "source": [
        "def tsnescatterplot(model, word, list_names):\n",
        "    \"\"\" Plot in seaborn the results from the t-SNE dimensionality reduction algorithm of the vectors of a query word,\n",
        "    its list of most similar words, and a list of words.\n",
        "    \"\"\"\n",
        "    arrays = np.empty((0, 300), dtype='f')\n",
        "    word_labels = [word]\n",
        "    color_list  = ['red']\n",
        "\n",
        "    # adds the vector of the query word\n",
        "    arrays = np.append(arrays, model.wv.__getitem__([word]), axis=0)\n",
        "    \n",
        "    # gets list of most similar words\n",
        "    close_words = model.wv.most_similar([word])\n",
        "    \n",
        "    # adds the vector for each of the closest words to the array\n",
        "    for wrd_score in close_words:\n",
        "        wrd_vector = model.wv.__getitem__([wrd_score[0]])\n",
        "        word_labels.append(wrd_score[0])\n",
        "        color_list.append('blue')\n",
        "        arrays = np.append(arrays, wrd_vector, axis=0)\n",
        "    \n",
        "    # adds the vector for each of the words from list_names to the array\n",
        "    for wrd in list_names:\n",
        "        wrd_vector = model.wv.__getitem__([wrd])\n",
        "        word_labels.append(wrd)\n",
        "        color_list.append('green')\n",
        "        arrays = np.append(arrays, wrd_vector, axis=0)\n",
        "        \n",
        "    # Reduces the dimensionality from 300 to 50 dimensions with PCA\n",
        "    reduc = PCA(n_components=20).fit_transform(arrays)\n",
        "    \n",
        "    # Finds t-SNE coordinates for 2 dimensions\n",
        "    np.set_printoptions(suppress=True)\n",
        "    \n",
        "    Y = TSNE(n_components=2, random_state=0, perplexity=15).fit_transform(reduc)\n",
        "    \n",
        "    # Sets everything up to plot\n",
        "    df = pd.DataFrame({'x': [x for x in Y[:, 0]],\n",
        "                       'y': [y for y in Y[:, 1]],\n",
        "                       'words': word_labels,\n",
        "                       'color': color_list})\n",
        "    \n",
        "    fig, _ = plt.subplots()\n",
        "    fig.set_size_inches(9, 9)\n",
        "    \n",
        "    # Basic plot\n",
        "    p1 = sns.regplot(data=df,\n",
        "                     x=\"x\",\n",
        "                     y=\"y\",\n",
        "                     fit_reg=False,\n",
        "                     marker=\"o\",\n",
        "                     scatter_kws={'s': 40,\n",
        "                                  'facecolors': df['color']\n",
        "                                 }\n",
        "                    )\n",
        "    \n",
        "    # Adds annotations one by one with a loop\n",
        "    for line in range(0, df.shape[0]):\n",
        "         p1.text(df[\"x\"][line],\n",
        "                 df['y'][line],\n",
        "                 '  ' + df[\"words\"][line].title(),\n",
        "                 horizontalalignment='left',\n",
        "                 verticalalignment='bottom', size='medium',\n",
        "                 color=df['color'][line],\n",
        "                 weight='normal'\n",
        "                ).set_size(15)\n",
        "\n",
        "    \n",
        "    plt.xlim(Y[:, 0].min()-50, Y[:, 0].max()+50)\n",
        "    plt.ylim(Y[:, 1].min()-50, Y[:, 1].max()+50)\n",
        "            \n",
        "    plt.title('t-SNE visualization for {}'.format(word.title()))"
      ],
      "execution_count": 0,
      "outputs": []
    },
    {
      "cell_type": "code",
      "metadata": {
        "id": "ZonGE6CJ41Ux",
        "colab_type": "code",
        "outputId": "54508e33-a243-43f1-8350-0c0df580885f",
        "colab": {
          "base_uri": "https://localhost:8080/",
          "height": 621
        }
      },
      "source": [
        "tsnescatterplot(w2v_model, 'love', [i[0] for i in w2v_model.wv.most_similar(negative=[\"love\"])])\n"
      ],
      "execution_count": 0,
      "outputs": [
        {
          "output_type": "stream",
          "text": [
            "/usr/local/lib/python3.6/dist-packages/gensim/matutils.py:737: FutureWarning: Conversion of the second argument of issubdtype from `int` to `np.signedinteger` is deprecated. In future, it will be treated as `np.int64 == np.dtype(int).type`.\n",
            "  if np.issubdtype(vec.dtype, np.int):\n"
          ],
          "name": "stderr"
        },
        {
          "output_type": "display_data",
          "data": {
            "image/png": "[encoded data removed]",
            "text/plain": [
              "<Figure size 648x648 with 1 Axes>"
            ]
          },
          "metadata": {
            "tags": []
          }
        }
      ]
    },
    {
      "cell_type": "code",
      "metadata": {
        "id": "JBlegcAZ44wj",
        "colab_type": "code",
        "colab": {}
      },
      "source": [
        ""
      ],
      "execution_count": 0,
      "outputs": []
    },
    {
      "cell_type": "markdown",
      "metadata": {
        "id": "VMqFe9t5_dXb",
        "colab_type": "text"
      },
      "source": [
        "# LSTM"
      ]
    },
    {
      "cell_type": "code",
      "metadata": {
        "id": "-gYWBCfA_cvr",
        "colab_type": "code",
        "outputId": "e4fbbdc8-fe4f-4b3a-d43b-5325f1247430",
        "colab": {
          "base_uri": "https://localhost:8080/",
          "height": 241
        }
      },
      "source": [
        "pretrained_weights = w2v_model.wv.syn0\n",
        "vocab_size, emdedding_size = pretrained_weights.shape\n",
        "print('Result embedding shape:', pretrained_weights.shape)\n",
        "print('Checking similar words:')\n",
        "for word in ['model', 'network', 'train', 'learn']:\n",
        "  most_similar = ', '.join('%s (%.2f)' % (similar, dist) \n",
        "                           for similar, dist in w2v_model.most_similar(word)[:8])\n",
        "  print('  %s -> %s' % (word, most_similar))\n",
        "\n",
        "def word2idx(word):\n",
        "  return w2v_model.wv.vocab[word].index\n",
        "def idx2word(idx):\n",
        "  return w2v_model.wv.index2word[idx]"
      ],
      "execution_count": 0,
      "outputs": [
        {
          "output_type": "stream",
          "text": [
            "Result embedding shape: (85522, 300)\n",
            "Checking similar words:\n",
            "  model -> nmodel (0.60), type (0.53), zm_model (0.48), zam (0.47), xzm (0.47), example (0.46), symbolic_model (0.46), zm (0.46)\n",
            "  network -> nnetwork (0.52), mesh (0.43), web (0.42), thread (0.41), ramification (0.40), intricate (0.39), waterway (0.37), ramify (0.37)\n",
            "  train -> ntrain (0.63), car (0.54), passenger_train (0.52), freight_train (0.49), train_stop (0.49), cab (0.48), carriage (0.48), station (0.47)\n",
            "  learn -> teach (0.72), know (0.64), understand (0.61), acquaint (0.58), tell (0.55), learn_lesson (0.53), instruct (0.52), read (0.51)\n"
          ],
          "name": "stdout"
        },
        {
          "output_type": "stream",
          "text": [
            "/usr/local/lib/python3.6/dist-packages/ipykernel_launcher.py:1: DeprecationWarning: Call to deprecated `syn0` (Attribute will be removed in 4.0.0, use self.wv.vectors instead).\n",
            "  \"\"\"Entry point for launching an IPython kernel.\n",
            "/usr/local/lib/python3.6/dist-packages/ipykernel_launcher.py:7: DeprecationWarning: Call to deprecated `most_similar` (Method will be removed in 4.0.0, use self.wv.most_similar() instead).\n",
            "  import sys\n",
            "/usr/local/lib/python3.6/dist-packages/gensim/matutils.py:737: FutureWarning: Conversion of the second argument of issubdtype from `int` to `np.signedinteger` is deprecated. In future, it will be treated as `np.int64 == np.dtype(int).type`.\n",
            "  if np.issubdtype(vec.dtype, np.int):\n"
          ],
          "name": "stderr"
        }
      ]
    },
    {
      "cell_type": "code",
      "metadata": {
        "id": "ZRGWS3e1AB-p",
        "colab_type": "code",
        "colab": {}
      },
      "source": [
        "import os\n",
        "import re\n",
        "import csv\n",
        "import codecs\n",
        "import numpy as np\n",
        "import pandas as pd\n",
        "\n",
        "from nltk.corpus import stopwords\n",
        "from nltk.stem import SnowballStemmer\n",
        "from string import punctuation\n",
        "\n",
        "from gensim.models import KeyedVectors\n",
        "from keras.preprocessing.text import Tokenizer\n",
        "from keras.preprocessing.sequence import pad_sequences\n",
        "from keras.layers import Dense, Input, LSTM, Embedding, Dropout, Activation\n",
        "from keras.layers.merge import concatenate\n",
        "from keras.models import Model\n",
        "from keras.layers.normalization import BatchNormalization\n",
        "from keras.callbacks import EarlyStopping, ModelCheckpoint"
      ],
      "execution_count": 0,
      "outputs": []
    },
    {
      "cell_type": "code",
      "metadata": {
        "id": "wrNxdXZV_jJH",
        "colab_type": "code",
        "colab": {}
      },
      "source": [
        "model = Sequential()\n",
        "model.add(Embedding(input_dim=vocab_size, output_dim=emdedding_size, \n",
        "                    weights=[pretrained_weights]))\n",
        "model.add(LSTM(units=emdedding_size))\n",
        "model.add(Dense(units=vocab_size))\n",
        "model.add(Activation('softmax'))\n",
        "model.compile(optimizer='adam', loss='categorical_crossentropy')"
      ],
      "execution_count": 0,
      "outputs": []
    }
  ]
}